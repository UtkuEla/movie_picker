{
 "cells": [
  {
   "cell_type": "code",
   "execution_count": 9,
   "id": "542dbe50-240e-46b8-87fb-3fdc8665d7a8",
   "metadata": {},
   "outputs": [],
   "source": [
    "import pandas as pd"
   ]
  },
  {
   "cell_type": "code",
   "execution_count": 2,
   "id": "18f783e4-e939-4ed6-900c-c4fc83d83b54",
   "metadata": {},
   "outputs": [
    {
     "name": "stdout",
     "output_type": "stream",
     "text": [
      "Collecting pandas\n",
      "  Using cached pandas-2.2.3-cp313-cp313-macosx_11_0_arm64.whl.metadata (89 kB)\n",
      "Collecting numpy>=1.26.0 (from pandas)\n",
      "  Downloading numpy-2.2.3-cp313-cp313-macosx_14_0_arm64.whl.metadata (62 kB)\n",
      "Requirement already satisfied: python-dateutil>=2.8.2 in /Library/Frameworks/Python.framework/Versions/3.13/lib/python3.13/site-packages (from pandas) (2.9.0.post0)\n",
      "Collecting pytz>=2020.1 (from pandas)\n",
      "  Using cached pytz-2025.1-py2.py3-none-any.whl.metadata (22 kB)\n",
      "Collecting tzdata>=2022.7 (from pandas)\n",
      "  Using cached tzdata-2025.1-py2.py3-none-any.whl.metadata (1.4 kB)\n",
      "Requirement already satisfied: six>=1.5 in /Library/Frameworks/Python.framework/Versions/3.13/lib/python3.13/site-packages (from python-dateutil>=2.8.2->pandas) (1.17.0)\n",
      "Using cached pandas-2.2.3-cp313-cp313-macosx_11_0_arm64.whl (11.3 MB)\n",
      "Downloading numpy-2.2.3-cp313-cp313-macosx_14_0_arm64.whl (5.1 MB)\n",
      "\u001b[2K   \u001b[90m━━━━━━━━━━━━━━━━━━━━━━━━━━━━━━━━━━━━━━━━\u001b[0m \u001b[32m5.1/5.1 MB\u001b[0m \u001b[31m10.9 MB/s\u001b[0m eta \u001b[36m0:00:00\u001b[0ma \u001b[36m0:00:01\u001b[0m\n",
      "Using cached pytz-2025.1-py2.py3-none-any.whl (507 kB)\n",
      "Using cached tzdata-2025.1-py2.py3-none-any.whl (346 kB)\n",
      "Installing collected packages: pytz, tzdata, numpy, pandas\n",
      "Successfully installed numpy-2.2.3 pandas-2.2.3 pytz-2025.1 tzdata-2025.1\n",
      "\n",
      "\u001b[1m[\u001b[0m\u001b[34;49mnotice\u001b[0m\u001b[1;39;49m]\u001b[0m\u001b[39;49m A new release of pip is available: \u001b[0m\u001b[31;49m24.2\u001b[0m\u001b[39;49m -> \u001b[0m\u001b[32;49m25.0.1\u001b[0m\n",
      "\u001b[1m[\u001b[0m\u001b[34;49mnotice\u001b[0m\u001b[1;39;49m]\u001b[0m\u001b[39;49m To update, run: \u001b[0m\u001b[32;49mpip3 install --upgrade pip\u001b[0m\n"
     ]
    }
   ],
   "source": [
    "!python3 -m pip install pandas"
   ]
  },
  {
   "cell_type": "code",
   "execution_count": 19,
   "id": "409ed15d-7e02-4523-8e9a-736fa9499f53",
   "metadata": {},
   "outputs": [
    {
     "name": "stdout",
     "output_type": "stream",
     "text": [
      "README.txt    links.csv     ratings.csv\n",
      "checksums.txt movies.csv    tags.csv\n"
     ]
    }
   ],
   "source": []
  },
  {
   "cell_type": "code",
   "execution_count": 39,
   "id": "77e4b09d-3df6-40ad-b864-62c64c0686b6",
   "metadata": {},
   "outputs": [
    {
     "name": "stdout",
     "output_type": "stream",
     "text": [
      "   movieId                               title  \\\n",
      "0        1                    Toy Story (1995)   \n",
      "1        2                      Jumanji (1995)   \n",
      "2        3             Grumpier Old Men (1995)   \n",
      "3        4            Waiting to Exhale (1995)   \n",
      "4        5  Father of the Bride Part II (1995)   \n",
      "\n",
      "                                        genres  \n",
      "0  Adventure|Animation|Children|Comedy|Fantasy  \n",
      "1                   Adventure|Children|Fantasy  \n",
      "2                               Comedy|Romance  \n",
      "3                         Comedy|Drama|Romance  \n",
      "4                                       Comedy  \n",
      "   userId  movieId  rating  timestamp\n",
      "0       1       17     4.0  944249077\n",
      "1       1       25     1.0  944250228\n",
      "2       1       29     2.0  943230976\n",
      "3       1       30     5.0  944249077\n",
      "4       1       32     5.0  943228858\n",
      "   userId  movieId          tag   timestamp\n",
      "0      22    26479  Kevin Kline  1583038886\n",
      "1      22    79592     misogyny  1581476297\n",
      "2      22   247150   acrophobia  1622483469\n",
      "3      34     2174        music  1249808064\n",
      "4      34     2174        weird  1249808102\n"
     ]
    }
   ],
   "source": [
    "# Datei-Pfade anpassen!\n",
    "movies = pd.read_csv(\"ml-32m/movies.csv\")\n",
    "ratings = pd.read_csv(\"ml-32m/ratings.csv\")\n",
    "tags = pd.read_csv(\"ml-32m/tags.csv\")\n",
    "\n",
    "# Daten anschauen\n",
    "print(movies.head())\n",
    "print(ratings.head())\n",
    "print(tags.head())"
   ]
  },
  {
   "cell_type": "code",
   "execution_count": 28,
   "id": "429d761f-273c-4b19-978f-e8cda86884b4",
   "metadata": {},
   "outputs": [
    {
     "name": "stdout",
     "output_type": "stream",
     "text": [
      "Index(['movieId', 'title', 'genres'], dtype='object')\n",
      "Index(['userId', 'movieId', 'rating', 'timestamp'], dtype='object')\n",
      "Index(['userId', 'movieId', 'tag', 'timestamp'], dtype='object')\n"
     ]
    }
   ],
   "source": [
    "print(movies.columns)\n",
    "print(ratings.columns)\n",
    "print(tags.columns)"
   ]
  },
  {
   "cell_type": "code",
   "execution_count": 23,
   "id": "b3903a20-e37c-460e-8fdb-1398285c89ae",
   "metadata": {},
   "outputs": [
    {
     "name": "stdout",
     "output_type": "stream",
     "text": [
      "movieId\n",
      "title\n",
      "genres\n"
     ]
    }
   ],
   "source": [
    "for col in movies.columns:\n",
    "    print(col)"
   ]
  },
  {
   "cell_type": "code",
   "execution_count": 29,
   "id": "5dce4c17-67b4-4353-ae1f-9d6b01198e98",
   "metadata": {},
   "outputs": [
    {
     "name": "stdout",
     "output_type": "stream",
     "text": [
      "<class 'pandas.core.frame.DataFrame'>\n",
      "RangeIndex: 87585 entries, 0 to 87584\n",
      "Data columns (total 3 columns):\n",
      " #   Column   Non-Null Count  Dtype \n",
      "---  ------   --------------  ----- \n",
      " 0   movieId  87585 non-null  int64 \n",
      " 1   title    87585 non-null  object\n",
      " 2   genres   87585 non-null  object\n",
      "dtypes: int64(1), object(2)\n",
      "memory usage: 2.0+ MB\n",
      "<class 'pandas.core.frame.DataFrame'>\n",
      "RangeIndex: 32000204 entries, 0 to 32000203\n",
      "Data columns (total 4 columns):\n",
      " #   Column     Dtype  \n",
      "---  ------     -----  \n",
      " 0   userId     int64  \n",
      " 1   movieId    int64  \n",
      " 2   rating     float64\n",
      " 3   timestamp  int64  \n",
      "dtypes: float64(1), int64(3)\n",
      "memory usage: 976.6 MB\n",
      "<class 'pandas.core.frame.DataFrame'>\n",
      "RangeIndex: 2000072 entries, 0 to 2000071\n",
      "Data columns (total 4 columns):\n",
      " #   Column     Dtype \n",
      "---  ------     ----- \n",
      " 0   userId     int64 \n",
      " 1   movieId    int64 \n",
      " 2   tag        object\n",
      " 3   timestamp  int64 \n",
      "dtypes: int64(3), object(1)\n",
      "memory usage: 61.0+ MB\n"
     ]
    }
   ],
   "source": [
    "movies.info()\n",
    "ratings.info()\n",
    "tags.info()"
   ]
  },
  {
   "cell_type": "code",
   "execution_count": 49,
   "id": "2b3d181e-96c2-4f6e-8863-e95c7ac6ffa1",
   "metadata": {},
   "outputs": [
    {
     "data": {
      "text/plain": [
       "movieId    0\n",
       "title      0\n",
       "genres     0\n",
       "dtype: int64"
      ]
     },
     "execution_count": 49,
     "metadata": {},
     "output_type": "execute_result"
    }
   ],
   "source": [
    "movies.isnull().sum()"
   ]
  },
  {
   "cell_type": "code",
   "execution_count": 32,
   "id": "a6314fbd-7072-449d-a964-be93a9e9677c",
   "metadata": {},
   "outputs": [
    {
     "data": {
      "text/plain": [
       "userId       0\n",
       "movieId      0\n",
       "rating       0\n",
       "timestamp    0\n",
       "dtype: int64"
      ]
     },
     "execution_count": 32,
     "metadata": {},
     "output_type": "execute_result"
    }
   ],
   "source": [
    "ratings.isnull().sum()"
   ]
  },
  {
   "cell_type": "code",
   "execution_count": 48,
   "id": "09c1df2f-42a8-423c-8f17-57d23467d098",
   "metadata": {
    "scrolled": true
   },
   "outputs": [
    {
     "data": {
      "text/plain": [
       "userId        0\n",
       "movieId       0\n",
       "tag          17\n",
       "timestamp     0\n",
       "dtype: int64"
      ]
     },
     "execution_count": 48,
     "metadata": {},
     "output_type": "execute_result"
    }
   ],
   "source": [
    "tags.isnull().sum()"
   ]
  },
  {
   "cell_type": "code",
   "execution_count": 50,
   "id": "63194851-1753-442a-9548-f4f9f8c14803",
   "metadata": {},
   "outputs": [],
   "source": [
    "# Clean tags csv file before merging\n",
    "tags = tags.dropna(subset=['tag'])"
   ]
  },
  {
   "cell_type": "code",
   "execution_count": 51,
   "id": "0b3ed4ea-a70f-49c5-aaa0-3ba059fee0d1",
   "metadata": {},
   "outputs": [
    {
     "data": {
      "text/plain": [
       "userId       0\n",
       "movieId      0\n",
       "tag          0\n",
       "timestamp    0\n",
       "dtype: int64"
      ]
     },
     "execution_count": 51,
     "metadata": {},
     "output_type": "execute_result"
    }
   ],
   "source": [
    "tags.isnull().sum()"
   ]
  },
  {
   "cell_type": "code",
   "execution_count": 35,
   "id": "a892f481-7e6d-405d-a313-cc0ac25dadb6",
   "metadata": {},
   "outputs": [
    {
     "data": {
      "text/plain": [
       "movieId    87585\n",
       "title      87382\n",
       "genres      1798\n",
       "dtype: int64"
      ]
     },
     "execution_count": 35,
     "metadata": {},
     "output_type": "execute_result"
    }
   ],
   "source": [
    "movies.nunique()\n",
    "# Anzahl einzigartiger WErte"
   ]
  },
  {
   "cell_type": "code",
   "execution_count": 36,
   "id": "7ba2bed0-b821-4754-9398-8205a59db740",
   "metadata": {},
   "outputs": [
    {
     "data": {
      "text/plain": [
       "genres\n",
       "Drama                   12443\n",
       "Documentary              8132\n",
       "Comedy                   7761\n",
       "(no genres listed)       7080\n",
       "Comedy|Drama             3245\n",
       "Drama|Romance            2825\n",
       "Horror                   2487\n",
       "Comedy|Romance           2229\n",
       "Thriller                 1410\n",
       "Comedy|Drama|Romance     1335\n",
       "Name: count, dtype: int64"
      ]
     },
     "execution_count": 36,
     "metadata": {},
     "output_type": "execute_result"
    }
   ],
   "source": [
    "movies['genres'].value_counts().head(10)\n",
    "# häufigsten Genres"
   ]
  },
  {
   "cell_type": "code",
   "execution_count": 37,
   "id": "5e61716a-154e-4fb5-ad20-119cff3e8825",
   "metadata": {},
   "outputs": [
    {
     "data": {
      "text/plain": [
       "array(['Toy Story (1995)', 'Jumanji (1995)', 'Grumpier Old Men (1995)',\n",
       "       'Waiting to Exhale (1995)', 'Father of the Bride Part II (1995)',\n",
       "       'Heat (1995)', 'Sabrina (1995)', 'Tom and Huck (1995)',\n",
       "       'Sudden Death (1995)', 'GoldenEye (1995)'], dtype=object)"
      ]
     },
     "execution_count": 37,
     "metadata": {},
     "output_type": "execute_result"
    }
   ],
   "source": [
    "movies['title'].unique()[:10]\n",
    "# ersten 10 einzigartigen Titel"
   ]
  },
  {
   "cell_type": "code",
   "execution_count": 54,
   "id": "a3cc1518-0d0d-4ac1-8cc7-3a1b9f44bc65",
   "metadata": {},
   "outputs": [
    {
     "name": "stdout",
     "output_type": "stream",
     "text": [
      "<class 'pandas.core.frame.DataFrame'>\n",
      "RangeIndex: 33178177 entries, 0 to 33178176\n",
      "Data columns (total 8 columns):\n",
      " #   Column       Dtype  \n",
      "---  ------       -----  \n",
      " 0   movieId      int64  \n",
      " 1   title        object \n",
      " 2   genres       object \n",
      " 3   userId       int64  \n",
      " 4   rating       float64\n",
      " 5   timestamp_x  int64  \n",
      " 6   tag          object \n",
      " 7   timestamp_y  float64\n",
      "dtypes: float64(2), int64(3), object(3)\n",
      "memory usage: 2.0+ GB\n"
     ]
    }
   ],
   "source": [
    "# movies mit ratings verbinden\n",
    "movies_ratings = pd.merge(movies, ratings, on='movieId', how='inner')\n",
    "\n",
    "# Das Ergebnis dann noch mit tags verbinden\n",
    "movies_ratings_tags = pd.merge(movies_ratings, tags, on=['movieId', 'userId'], how='left')\n",
    "\n",
    "# Ein Blick auf das Ergebnis\n",
    "movies_ratings_tags.info()\n",
    "movies_ratings_tags.head()\n",
    "\n",
    "\n",
    "# nur Filme die bewertet und getagged wurden\n",
    "movies_complete = pd.merge(movies_ratings, tags, on=['movieId', 'userId'], how='inner')\n"
   ]
  },
  {
   "cell_type": "code",
   "execution_count": 40,
   "id": "b6c361dd-0117-4ad9-86a0-8a9cf3109f0e",
   "metadata": {},
   "outputs": [
    {
     "data": {
      "text/plain": [
       "tag\n",
       "sci-fi                10508\n",
       "atmospheric            9321\n",
       "action                 8077\n",
       "comedy                 7571\n",
       "funny                  7260\n",
       "surreal                6974\n",
       "visually appealing     6927\n",
       "twist ending           6349\n",
       "thought-provoking      5846\n",
       "dark comedy            5657\n",
       "Name: count, dtype: int64"
      ]
     },
     "execution_count": 40,
     "metadata": {},
     "output_type": "execute_result"
    }
   ],
   "source": [
    "movies_ratings_tags['tag'].value_counts().head(10)\n"
   ]
  },
  {
   "cell_type": "code",
   "execution_count": 56,
   "id": "d32768fd-c855-4469-b99d-82c1eee8769a",
   "metadata": {},
   "outputs": [
    {
     "data": {
      "text/html": [
       "<div>\n",
       "<style scoped>\n",
       "    .dataframe tbody tr th:only-of-type {\n",
       "        vertical-align: middle;\n",
       "    }\n",
       "\n",
       "    .dataframe tbody tr th {\n",
       "        vertical-align: top;\n",
       "    }\n",
       "\n",
       "    .dataframe thead th {\n",
       "        text-align: right;\n",
       "    }\n",
       "</style>\n",
       "<table border=\"1\" class=\"dataframe\">\n",
       "  <thead>\n",
       "    <tr style=\"text-align: right;\">\n",
       "      <th></th>\n",
       "      <th>movieId</th>\n",
       "      <th>title</th>\n",
       "      <th>genres</th>\n",
       "      <th>userId</th>\n",
       "      <th>rating</th>\n",
       "      <th>timestamp_x</th>\n",
       "      <th>tag</th>\n",
       "      <th>timestamp_y</th>\n",
       "    </tr>\n",
       "  </thead>\n",
       "  <tbody>\n",
       "    <tr>\n",
       "      <th>0</th>\n",
       "      <td>1</td>\n",
       "      <td>Toy Story (1995)</td>\n",
       "      <td>Adventure|Animation|Children|Comedy|Fantasy</td>\n",
       "      <td>109</td>\n",
       "      <td>4.0</td>\n",
       "      <td>1254982916</td>\n",
       "      <td>children</td>\n",
       "      <td>1257988285</td>\n",
       "    </tr>\n",
       "    <tr>\n",
       "      <th>1</th>\n",
       "      <td>1</td>\n",
       "      <td>Toy Story (1995)</td>\n",
       "      <td>Adventure|Animation|Children|Comedy|Fantasy</td>\n",
       "      <td>109</td>\n",
       "      <td>4.0</td>\n",
       "      <td>1254982916</td>\n",
       "      <td>Disney</td>\n",
       "      <td>1257988287</td>\n",
       "    </tr>\n",
       "    <tr>\n",
       "      <th>2</th>\n",
       "      <td>1</td>\n",
       "      <td>Toy Story (1995)</td>\n",
       "      <td>Adventure|Animation|Children|Comedy|Fantasy</td>\n",
       "      <td>909</td>\n",
       "      <td>2.0</td>\n",
       "      <td>1503218498</td>\n",
       "      <td>animation</td>\n",
       "      <td>1248249498</td>\n",
       "    </tr>\n",
       "    <tr>\n",
       "      <th>3</th>\n",
       "      <td>1</td>\n",
       "      <td>Toy Story (1995)</td>\n",
       "      <td>Adventure|Animation|Children|Comedy|Fantasy</td>\n",
       "      <td>909</td>\n",
       "      <td>2.0</td>\n",
       "      <td>1503218498</td>\n",
       "      <td>children</td>\n",
       "      <td>1248249511</td>\n",
       "    </tr>\n",
       "    <tr>\n",
       "      <th>4</th>\n",
       "      <td>1</td>\n",
       "      <td>Toy Story (1995)</td>\n",
       "      <td>Adventure|Animation|Children|Comedy|Fantasy</td>\n",
       "      <td>909</td>\n",
       "      <td>2.0</td>\n",
       "      <td>1503218498</td>\n",
       "      <td>Disney</td>\n",
       "      <td>1248249494</td>\n",
       "    </tr>\n",
       "  </tbody>\n",
       "</table>\n",
       "</div>"
      ],
      "text/plain": [
       "   movieId             title                                       genres  \\\n",
       "0        1  Toy Story (1995)  Adventure|Animation|Children|Comedy|Fantasy   \n",
       "1        1  Toy Story (1995)  Adventure|Animation|Children|Comedy|Fantasy   \n",
       "2        1  Toy Story (1995)  Adventure|Animation|Children|Comedy|Fantasy   \n",
       "3        1  Toy Story (1995)  Adventure|Animation|Children|Comedy|Fantasy   \n",
       "4        1  Toy Story (1995)  Adventure|Animation|Children|Comedy|Fantasy   \n",
       "\n",
       "   userId  rating  timestamp_x        tag  timestamp_y  \n",
       "0     109     4.0   1254982916   children   1257988285  \n",
       "1     109     4.0   1254982916     Disney   1257988287  \n",
       "2     909     2.0   1503218498  animation   1248249498  \n",
       "3     909     2.0   1503218498   children   1248249511  \n",
       "4     909     2.0   1503218498     Disney   1248249494  "
      ]
     },
     "execution_count": 56,
     "metadata": {},
     "output_type": "execute_result"
    }
   ],
   "source": [
    "movies_complete.head()"
   ]
  },
  {
   "cell_type": "code",
   "execution_count": 43,
   "id": "c55bfdcf-ad3c-42fe-9db3-7067440390c5",
   "metadata": {},
   "outputs": [
    {
     "name": "stdout",
     "output_type": "stream",
     "text": [
      "Anzahl Filme ohne Bewertungen: 3153\n",
      "Anzahl Filme ohne Tags: 36262\n"
     ]
    }
   ],
   "source": [
    "# Welche Filme haben keine Bewertungen?\n",
    "no_ratings = movies[~movies['movieId'].isin(ratings['movieId'])]\n",
    "print(f\"Anzahl Filme ohne Bewertungen: {len(no_ratings)}\")\n",
    "\n",
    "# Welche Filme haben keine Tags?\n",
    "no_tags = movies[~movies['movieId'].isin(tags['movieId'])]\n",
    "print(f\"Anzahl Filme ohne Tags: {len(no_tags)}\")\n"
   ]
  },
  {
   "cell_type": "code",
   "execution_count": 44,
   "id": "7cd67bfe-03cb-4786-8b2d-ac32f44c1718",
   "metadata": {},
   "outputs": [
    {
     "name": "stdout",
     "output_type": "stream",
     "text": [
      "count    51323.000000\n",
      "mean        38.969955\n",
      "std        160.935295\n",
      "min          1.000000\n",
      "25%          2.000000\n",
      "50%          5.000000\n",
      "75%         16.000000\n",
      "max       6697.000000\n",
      "Name: tag_count, dtype: float64\n",
      "Anzahl Filme mit nur einem Tag: 7682\n"
     ]
    }
   ],
   "source": [
    "# Anzahl der Tags pro Film\n",
    "tags_per_movie = tags.groupby('movieId')['tag'].count().reset_index(name='tag_count')\n",
    "\n",
    "# Statistik: Anzahl der Tags pro Film\n",
    "print(tags_per_movie['tag_count'].describe())\n",
    "\n",
    "# Filme mit nur einem Tag anzeigen (zur Kontrolle)\n",
    "single_tag_movies = tags_per_movie[tags_per_movie['tag_count'] == 1]\n",
    "print(f\"Anzahl Filme mit nur einem Tag: {len(single_tag_movies)}\")\n"
   ]
  },
  {
   "cell_type": "code",
   "execution_count": 52,
   "id": "e0c36312-e894-4717-af6b-f175aefa4877",
   "metadata": {},
   "outputs": [
    {
     "name": "stdout",
     "output_type": "stream",
     "text": [
      "number of movies with ratings and tags: 48170\n"
     ]
    }
   ],
   "source": [
    "# Filme, die mindestens eine Bewertung und einen Tag haben\n",
    "movies_with_all = movies[\n",
    "    (movies['movieId'].isin(ratings['movieId'])) & \n",
    "    (movies['movieId'].isin(tags['movieId']))\n",
    "]\n",
    "\n",
    "print(f\"number of movies with ratings and tags: {len(movies_with_all)}\")\n"
   ]
  },
  {
   "cell_type": "code",
   "execution_count": 57,
   "id": "71e8b37f-40a7-4912-9c99-c400e053672d",
   "metadata": {},
   "outputs": [
    {
     "data": {
      "text/html": [
       "<div>\n",
       "<style scoped>\n",
       "    .dataframe tbody tr th:only-of-type {\n",
       "        vertical-align: middle;\n",
       "    }\n",
       "\n",
       "    .dataframe tbody tr th {\n",
       "        vertical-align: top;\n",
       "    }\n",
       "\n",
       "    .dataframe thead th {\n",
       "        text-align: right;\n",
       "    }\n",
       "</style>\n",
       "<table border=\"1\" class=\"dataframe\">\n",
       "  <thead>\n",
       "    <tr style=\"text-align: right;\">\n",
       "      <th></th>\n",
       "      <th>movieId</th>\n",
       "      <th>title</th>\n",
       "      <th>genres</th>\n",
       "    </tr>\n",
       "  </thead>\n",
       "  <tbody>\n",
       "    <tr>\n",
       "      <th>count</th>\n",
       "      <td>48170.000000</td>\n",
       "      <td>48170</td>\n",
       "      <td>48170</td>\n",
       "    </tr>\n",
       "    <tr>\n",
       "      <th>unique</th>\n",
       "      <td>NaN</td>\n",
       "      <td>48119</td>\n",
       "      <td>1587</td>\n",
       "    </tr>\n",
       "    <tr>\n",
       "      <th>top</th>\n",
       "      <td>NaN</td>\n",
       "      <td>Journey to the Center of the Earth (2008)</td>\n",
       "      <td>Drama</td>\n",
       "    </tr>\n",
       "    <tr>\n",
       "      <th>freq</th>\n",
       "      <td>NaN</td>\n",
       "      <td>3</td>\n",
       "      <td>7124</td>\n",
       "    </tr>\n",
       "    <tr>\n",
       "      <th>mean</th>\n",
       "      <td>119479.316483</td>\n",
       "      <td>NaN</td>\n",
       "      <td>NaN</td>\n",
       "    </tr>\n",
       "    <tr>\n",
       "      <th>std</th>\n",
       "      <td>73845.758549</td>\n",
       "      <td>NaN</td>\n",
       "      <td>NaN</td>\n",
       "    </tr>\n",
       "    <tr>\n",
       "      <th>min</th>\n",
       "      <td>1.000000</td>\n",
       "      <td>NaN</td>\n",
       "      <td>NaN</td>\n",
       "    </tr>\n",
       "    <tr>\n",
       "      <th>25%</th>\n",
       "      <td>61829.000000</td>\n",
       "      <td>NaN</td>\n",
       "      <td>NaN</td>\n",
       "    </tr>\n",
       "    <tr>\n",
       "      <th>50%</th>\n",
       "      <td>129946.000000</td>\n",
       "      <td>NaN</td>\n",
       "      <td>NaN</td>\n",
       "    </tr>\n",
       "    <tr>\n",
       "      <th>75%</th>\n",
       "      <td>172778.500000</td>\n",
       "      <td>NaN</td>\n",
       "      <td>NaN</td>\n",
       "    </tr>\n",
       "    <tr>\n",
       "      <th>max</th>\n",
       "      <td>292597.000000</td>\n",
       "      <td>NaN</td>\n",
       "      <td>NaN</td>\n",
       "    </tr>\n",
       "  </tbody>\n",
       "</table>\n",
       "</div>"
      ],
      "text/plain": [
       "              movieId                                      title genres\n",
       "count    48170.000000                                      48170  48170\n",
       "unique            NaN                                      48119   1587\n",
       "top               NaN  Journey to the Center of the Earth (2008)  Drama\n",
       "freq              NaN                                          3   7124\n",
       "mean    119479.316483                                        NaN    NaN\n",
       "std      73845.758549                                        NaN    NaN\n",
       "min          1.000000                                        NaN    NaN\n",
       "25%      61829.000000                                        NaN    NaN\n",
       "50%     129946.000000                                        NaN    NaN\n",
       "75%     172778.500000                                        NaN    NaN\n",
       "max     292597.000000                                        NaN    NaN"
      ]
     },
     "execution_count": 57,
     "metadata": {},
     "output_type": "execute_result"
    }
   ],
   "source": [
    "movies_with_all.describe(include='all')"
   ]
  },
  {
   "cell_type": "code",
   "execution_count": null,
   "id": "fbe4e0ba-f0ee-4ea9-a8a4-376670ed47a0",
   "metadata": {},
   "outputs": [],
   "source": []
  }
 ],
 "metadata": {
  "kernelspec": {
   "display_name": "Python 3 (ipykernel)",
   "language": "python",
   "name": "python3"
  },
  "language_info": {
   "codemirror_mode": {
    "name": "ipython",
    "version": 3
   },
   "file_extension": ".py",
   "mimetype": "text/x-python",
   "name": "python",
   "nbconvert_exporter": "python",
   "pygments_lexer": "ipython3",
   "version": "3.13.0"
  }
 },
 "nbformat": 4,
 "nbformat_minor": 5
}
