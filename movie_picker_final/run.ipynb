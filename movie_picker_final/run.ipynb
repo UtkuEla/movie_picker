{
 "cells": [
  {
   "cell_type": "code",
   "execution_count": null,
   "id": "e74b2a33-c500-49af-b3c1-6c15933fbaac",
   "metadata": {},
   "outputs": [
    {
     "name": "stdout",
     "output_type": "stream",
     "text": [
      "\n",
      "==================================================\n",
      "Welcome to the Movie Recommendation System\n",
      "Please choose an option:\n",
      "1. Explore by genre (Branch 1)\n",
      "2. Search directly by movie title (Branch 2)\n",
      "3. Exit\n"
     ]
    }
   ],
   "source": [
    "%run main.py"
   ]
  }
 ],
 "metadata": {
  "kernelspec": {
   "display_name": "Python 3 (ipykernel)",
   "language": "python",
   "name": "python3"
  },
  "language_info": {
   "codemirror_mode": {
    "name": "ipython",
    "version": 3
   },
   "file_extension": ".py",
   "mimetype": "text/x-python",
   "name": "python",
   "nbconvert_exporter": "python",
   "pygments_lexer": "ipython3",
   "version": "3.12.7"
  }
 },
 "nbformat": 4,
 "nbformat_minor": 5
}
