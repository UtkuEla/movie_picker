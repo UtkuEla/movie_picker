{
 "cells": [
  {
   "cell_type": "code",
   "execution_count": null,
   "id": "e74b2a33-c500-49af-b3c1-6c15933fbaac",
   "metadata": {},
   "outputs": [
    {
     "name": "stdout",
     "output_type": "stream",
     "text": [
      "\n",
      "==================================================\n",
      "Welcome to the Movie Recommendation System\n",
      "Please choose an option:\n",
      "1. Explore by genre (Branch 1)\n",
      "2. Search directly by movie title (Branch 2)\n",
      "3. Exit\n"
     ]
    },
    {
     "name": "stdin",
     "output_type": "stream",
     "text": [
      "Enter 1, 2, or 3:  1\n"
     ]
    },
    {
     "name": "stdout",
     "output_type": "stream",
     "text": [
      "\n",
      "Available Genres:\n",
      "Action, Adventure, Animation, Comedy, Crime, Documentary, Drama, Family, Fantasy, History, Horror, Music, Mystery, Romance, Science Fiction, Thriller, Tv Movie, War, Western\n",
      "\n"
     ]
    },
    {
     "name": "stdin",
     "output_type": "stream",
     "text": [
      "Enter a genre:  Action\n"
     ]
    },
    {
     "name": "stdout",
     "output_type": "stream",
     "text": [
      "\n",
      "Top 10 Action Movies (Ranked by Weighted Rating):\n",
      "\n",
      "+---------------------------------------------------+-------+--------------+------------+\n",
      "|                       title                       | score | vote_average | vote_count |\n",
      "+---------------------------------------------------+-------+--------------+------------+\n",
      "|                  The Dark Knight                  | 8.48  |     8.5      |   33504    |\n",
      "|   The Lord of the Rings: The Return of the King   | 8.45  |     8.48     |   24763    |\n",
      "|                     Inception                     | 8.38  |     8.4      |   37134    |\n",
      "| The Lord of the Rings: The Fellowship of the Ring | 8.37  |     8.4      |   25682    |\n",
      "|       The Lord of the Rings: The Two Towers       | 8.37  |     8.4      |   22297    |\n",
      "|              The Empire Strikes Back              | 8.36  |     8.4      |   17221    |\n",
      "|         Spider-Man: Into the Spider-Verse         | 8.36  |     8.4      |   15946    |\n",
      "|                   Seven Samurai                   | 8.29  |     8.46     |    3812    |\n",
      "|              Léon: The Professional               | 8.26  |     8.3      |   15041    |\n",
      "|                      Oldboy                       | 8.23  |     8.3      |    8871    |\n",
      "+---------------------------------------------------+-------+--------------+------------+\n",
      "\n",
      "If you want to search for more Action movies, we can search by movie.\n"
     ]
    },
    {
     "name": "stdin",
     "output_type": "stream",
     "text": [
      "\n",
      "Enter a movie:  Incepti\n",
      "\n",
      "How many recommendations would you like to see? (5-50):  10\n"
     ]
    },
    {
     "name": "stdout",
     "output_type": "stream",
     "text": [
      "\n",
      "Did you mean one of these?\n",
      "Inception\n"
     ]
    },
    {
     "name": "stdin",
     "output_type": "stream",
     "text": [
      "Please re-enter title:  Inception\n",
      "\n",
      "How many recommendations would you like to see? (5-50):  25\n"
     ]
    },
    {
     "name": "stdout",
     "output_type": "stream",
     "text": [
      "\n",
      "Top 25 Action Movies Similar to Inception:\n",
      "\n",
      "+----------------------------------+-------+--------------+------------+------------------+\n",
      "|              title               | score | vote_average | vote_count | similarity_score |\n",
      "+----------------------------------+-------+--------------+------------+------------------+\n",
      "|               Coma               | 6.25  |     6.4      |    553     |       0.3        |\n",
      "|              Tenet               | 7.15  |     7.18     |   10098    |       0.3        |\n",
      "|              Ra.One              | 5.82  |     5.7      |    338     |       0.3        |\n",
      "|       Fullmetal Alchemist        | 5.58  |     5.39     |    550     |       0.3        |\n",
      "|            Bloodshot             | 6.66  |     6.7      |    5001    |       0.27       |\n",
      "|            Max Steel             |  5.7  |     5.6      |    785     |       0.27       |\n",
      "|             Gundala              |  6.1  |     6.23     |    321     |       0.27       |\n",
      "|     Jurassic World Dominion      | 6.65  |     6.68     |    6264    |       0.26       |\n",
      "|  Jurassic World: Fallen Kingdom  | 6.53  |     6.54     |   11939    |       0.26       |\n",
      "|         Johnny Mnemonic          | 5.83  |     5.8      |    1382    |       0.26       |\n",
      "|              A-X-L               | 6.24  |     6.3      |    1172    |       0.26       |\n",
      "|             Pandemic             | 5.48  |     5.1      |    356     |       0.25       |\n",
      "|    Stargate: The Ark of Truth    |  6.7  |     7.1      |    508     |       0.25       |\n",
      "| Star Wars: The Rise of Skywalker | 6.29  |     6.3      |   10064    |       0.25       |\n",
      "|           After Earth            | 5.23  |     5.2      |    6579    |       0.25       |\n",
      "|  Starship Troopers 3: Marauder   | 5.26  |     4.9      |    537     |       0.25       |\n",
      "|      Race to Witch Mountain      | 5.82  |     5.8      |    1718    |       0.25       |\n",
      "|     X-Men Origins: Wolverine     | 6.27  |     6.27     |   10627    |       0.25       |\n",
      "|           Futureworld            | 5.93  |     5.9      |    324     |       0.24       |\n",
      "|         Rim of the World         | 5.99  |     6.0      |    964     |       0.24       |\n",
      "|             Alienoid             | 6.48  |     6.8      |    455     |       0.24       |\n",
      "|   Star Wars: The Force Awakens   | 7.25  |     7.26     |   19579    |       0.24       |\n",
      "|     Star Wars: The Last Jedi     | 6.79  |     6.8      |   15460    |       0.24       |\n",
      "|     Resident Evil: Vendetta      | 6.69  |     6.9      |    995     |       0.24       |\n",
      "| Journey 2: The Mysterious Island | 6.19  |     6.2      |    4293    |       0.24       |\n",
      "+----------------------------------+-------+--------------+------------+------------------+\n"
     ]
    },
    {
     "name": "stdin",
     "output_type": "stream",
     "text": [
      "\n",
      "Would you like to make another search? (y/n):  y\n"
     ]
    },
    {
     "name": "stdout",
     "output_type": "stream",
     "text": [
      "\n",
      "==================================================\n",
      "Welcome to the Movie Recommendation System\n",
      "Please choose an option:\n",
      "1. Explore by genre (Branch 1)\n",
      "2. Search directly by movie title (Branch 2)\n",
      "3. Exit\n"
     ]
    },
    {
     "name": "stdin",
     "output_type": "stream",
     "text": [
      "Enter 1, 2, or 3:  1\n"
     ]
    },
    {
     "name": "stdout",
     "output_type": "stream",
     "text": [
      "\n",
      "Available Genres:\n",
      "Action, Adventure, Animation, Comedy, Crime, Documentary, Drama, Family, Fantasy, History, Horror, Music, Mystery, Romance, Science Fiction, Thriller, Tv Movie, War, Western\n",
      "\n"
     ]
    },
    {
     "name": "stdin",
     "output_type": "stream",
     "text": [
      "Enter a genre:  Action\n"
     ]
    },
    {
     "name": "stdout",
     "output_type": "stream",
     "text": [
      "\n",
      "Top 10 Action Movies (Ranked by Weighted Rating):\n",
      "\n",
      "+---------------------------------------------------+-------+--------------+------------+\n",
      "|                       title                       | score | vote_average | vote_count |\n",
      "+---------------------------------------------------+-------+--------------+------------+\n",
      "|                  The Dark Knight                  | 8.48  |     8.5      |   33504    |\n",
      "|   The Lord of the Rings: The Return of the King   | 8.45  |     8.48     |   24763    |\n",
      "|                     Inception                     | 8.38  |     8.4      |   37134    |\n",
      "| The Lord of the Rings: The Fellowship of the Ring | 8.37  |     8.4      |   25682    |\n",
      "|       The Lord of the Rings: The Two Towers       | 8.37  |     8.4      |   22297    |\n",
      "|              The Empire Strikes Back              | 8.36  |     8.4      |   17221    |\n",
      "|         Spider-Man: Into the Spider-Verse         | 8.36  |     8.4      |   15946    |\n",
      "|                   Seven Samurai                   | 8.29  |     8.46     |    3812    |\n",
      "|              Léon: The Professional               | 8.26  |     8.3      |   15041    |\n",
      "|                      Oldboy                       | 8.23  |     8.3      |    8871    |\n",
      "+---------------------------------------------------+-------+--------------+------------+\n",
      "\n",
      "If you want to search for more Action movies, we can search by movie.\n"
     ]
    },
    {
     "name": "stdin",
     "output_type": "stream",
     "text": [
      "\n",
      "Enter a movie:  Seven Samurai\n",
      "\n",
      "How many recommendations would you like to see? (5-50):  10\n"
     ]
    },
    {
     "name": "stdout",
     "output_type": "stream",
     "text": [
      "\n",
      "Top 10 Action Movies Similar to Seven Samurai:\n",
      "\n",
      "+---------------------+-------+--------------+------------+------------------+\n",
      "|        title        | score | vote_average | vote_count | similarity_score |\n",
      "+---------------------+-------+--------------+------------+------------------+\n",
      "|       Sanjuro       | 7.33  |     7.94     |    626     |       0.49       |\n",
      "| The Hidden Fortress | 7.38  |     8.0      |    630     |       0.4        |\n",
      "|      Kagemusha      | 7.26  |     7.8      |    664     |       0.39       |\n",
      "|       Yojimbo       | 7.76  |     8.1      |    1490    |       0.39       |\n",
      "|         Ran         | 7.74  |     8.06     |    1583    |       0.36       |\n",
      "|   Throne of Blood   | 7.45  |     7.92     |    882     |       0.36       |\n",
      "|     Dersu Uzala     | 7.25  |     7.9      |    553     |       0.32       |\n",
      "|      Harakiri       |  7.9  |     8.41     |    1040    |       0.31       |\n",
      "|    13 Assassins     | 7.04  |     7.3      |    1143    |       0.31       |\n",
      "|      Red Beard      | 7.18  |     8.1      |    370     |       0.3        |\n",
      "+---------------------+-------+--------------+------------+------------------+\n"
     ]
    },
    {
     "name": "stdin",
     "output_type": "stream",
     "text": [
      "\n",
      "Would you like to make another search? (y/n):  y\n"
     ]
    },
    {
     "name": "stdout",
     "output_type": "stream",
     "text": [
      "\n",
      "==================================================\n",
      "Welcome to the Movie Recommendation System\n",
      "Please choose an option:\n",
      "1. Explore by genre (Branch 1)\n",
      "2. Search directly by movie title (Branch 2)\n",
      "3. Exit\n"
     ]
    },
    {
     "name": "stdin",
     "output_type": "stream",
     "text": [
      "Enter 1, 2, or 3:  1\n"
     ]
    },
    {
     "name": "stdout",
     "output_type": "stream",
     "text": [
      "\n",
      "Available Genres:\n",
      "Action, Adventure, Animation, Comedy, Crime, Documentary, Drama, Family, Fantasy, History, Horror, Music, Mystery, Romance, Science Fiction, Thriller, Tv Movie, War, Western\n",
      "\n"
     ]
    },
    {
     "name": "stdin",
     "output_type": "stream",
     "text": [
      "Enter a genre:  Actio\n"
     ]
    },
    {
     "name": "stdout",
     "output_type": "stream",
     "text": [
      "\n",
      "Did you mean one of these? Action\n"
     ]
    }
   ],
   "source": [
    "%run main.py"
   ]
  }
 ],
 "metadata": {
  "kernelspec": {
   "display_name": "Python 3 (ipykernel)",
   "language": "python",
   "name": "python3"
  },
  "language_info": {
   "codemirror_mode": {
    "name": "ipython",
    "version": 3
   },
   "file_extension": ".py",
   "mimetype": "text/x-python",
   "name": "python",
   "nbconvert_exporter": "python",
   "pygments_lexer": "ipython3",
   "version": "3.12.7"
  }
 },
 "nbformat": 4,
 "nbformat_minor": 5
}
