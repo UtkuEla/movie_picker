{
 "cells": [
  {
   "cell_type": "code",
   "execution_count": 33,
   "id": "0da25e2b-7469-4701-9931-c34c93b15ef8",
   "metadata": {},
   "outputs": [],
   "source": [
    "import pandas as pd \n",
    "import numpy as np \n",
    "from ast import literal_eval\n",
    "from tabulate import tabulate  # Import tabulate for clean table formatting\n",
    "import itertools\n"
   ]
  },
  {
   "cell_type": "code",
   "execution_count": 79,
   "id": "be505aba-f561-45fb-885d-fc584ba772c8",
   "metadata": {},
   "outputs": [],
   "source": [
    "#q_movies = pd.read_parquet(\"../tmbd_exports/quality_movs_weighted_rating.parquet\")\n",
    "q_movies = pd.read_parquet(\"../tmdb_api/tmdb_api_cleaned/movies_cleaned_hard.parquet\")"
   ]
  },
  {
   "cell_type": "code",
   "execution_count": 88,
   "id": "c208e24f-4e58-4907-ad51-0be2cd9cdde2",
   "metadata": {},
   "outputs": [
    {
     "name": "stdout",
     "output_type": "stream",
     "text": [
      "\n",
      "Available Genres:\n",
      "Action, Adventure, Animation, Comedy, Crime, Documentary, Drama, Family, Fantasy, History, Horror, Music, Mystery, Romance, Science Fiction, TV Movie, Thriller, War, Western\n",
      "\n"
     ]
    },
    {
     "name": "stdin",
     "output_type": "stream",
     "text": [
      "Enter a genre from the list above:  Crime\n"
     ]
    },
    {
     "name": "stdout",
     "output_type": "stream",
     "text": [
      "\n",
      "Top 10 Movies in the Selected Genre (Ranked by Weighted Rating):\n",
      "\n",
      "+--------------------------+-------------------+--------------+------------+\n",
      "|          title           |       score       | vote_average | vote_count |\n",
      "+--------------------------+-------------------+--------------+------------+\n",
      "| The Shawshank Redemption | 8.672939802561705 |     8.7      |   27833    |\n",
      "|      The Godfather       | 8.653599980834132 |    8.689     |   21124    |\n",
      "|  The Godfather Part II   | 8.543745071370289 |     8.6      |   12750    |\n",
      "|     The Dark Knight      | 8.479128257350427 |     8.5      |   33504    |\n",
      "|       Pulp Fiction       | 8.475412727614888 |     8.5      |   28399    |\n",
      "|      The Green Mile      | 8.461152109631522 |     8.5      |   17872    |\n",
      "|        GoodFellas        | 8.447522386857107 |     8.5      |   13158    |\n",
      "|          Se7en           | 8.368834474038843 |     8.4      |   21454    |\n",
      "|       City of God        | 8.339340602894536 |    8.427     |    7534    |\n",
      "| The Silence of the Lambs | 8.305793650566308 |    8.345     |   16607    |\n",
      "+--------------------------+-------------------+--------------+------------+\n"
     ]
    }
   ],
   "source": [
    "# Function to get all unique genres in the dataset -> this allows to provide a list of available genres before user input\n",
    "\n",
    "def get_all_genres(movies_df):\n",
    "    unique_genres = set(genre.strip() for genres in movies_df['genres'].dropna() for genre in genres.split(','))\n",
    "    return sorted(unique_genres)\n",
    "\n",
    "# Function to filter movies by genre (case-insensitive) -> without this if user wrote 'action' instead of 'Action', no movies would come up \n",
    "def filter_movies_by_genre(movies_df, selected_genre):\n",
    "    cleaned_genre = selected_genre.lower().strip()\n",
    "    genre_filter = movies_df[\"genres\"].apply(lambda x: cleaned_genre in [g.lower().strip() for g in x.split(\",\")])\n",
    "    return movies_df.loc[genre_filter][0:10] \n",
    "\n",
    "# Display available genres\n",
    "available_genres = get_all_genres(q_movies)\n",
    "print(\"\\nAvailable Genres:\\n\" + \", \".join(available_genres) + \"\\n\")\n",
    "\n",
    "#  Get user input\n",
    "user_genre = input(\"Enter a genre from the list above: \").strip()\n",
    "\n",
    "# Step 2: Filter dataset based on input genre\n",
    "filtered_movies = filter_movies_by_genre(q_movies, user_genre)\n",
    "\n",
    "#  Apply weighted rating function to the filtered dataset\n",
    "if not filtered_movies.empty:\n",
    "    print(\"\\nTop 10 Movies in the Selected Genre (Ranked by Weighted Rating):\\n\")\n",
    "    print(tabulate(filtered_movies[['title', 'score', 'vote_average', 'vote_count']], \n",
    "                   headers=\"keys\", tablefmt=\"pretty\", showindex=False))  # Pretty table format\n",
    "\n",
    "else:\n",
    "    print(\"\\nNo movies found in this genre.\")\n"
   ]
  }
 ],
 "metadata": {
  "kernelspec": {
   "display_name": "Python 3 (ipykernel)",
   "language": "python",
   "name": "python3"
  },
  "language_info": {
   "codemirror_mode": {
    "name": "ipython",
    "version": 3
   },
   "file_extension": ".py",
   "mimetype": "text/x-python",
   "name": "python",
   "nbconvert_exporter": "python",
   "pygments_lexer": "ipython3",
   "version": "3.12.7"
  }
 },
 "nbformat": 4,
 "nbformat_minor": 5
}
