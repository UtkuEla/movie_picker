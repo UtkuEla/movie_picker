{
 "cells": [
  {
   "cell_type": "markdown",
   "id": "9d252cc1-c791-4d0b-9e1a-281dec1db618",
   "metadata": {},
   "source": [
    "### Merge all CSV files and export as parq-file"
   ]
  },
  {
   "cell_type": "code",
   "execution_count": 1,
   "id": "2913a5de-ed59-4762-99cf-74b7dcd9a69e",
   "metadata": {},
   "outputs": [],
   "source": [
    "import pandas as pd\n",
    "import numpy as np\n",
    "import glob\n",
    "import gzip"
   ]
  },
  {
   "cell_type": "code",
   "execution_count": 2,
   "id": "af7a5d5a-e598-4751-8943-ed8db1c42d84",
   "metadata": {},
   "outputs": [],
   "source": [
    "input_folder = \"../tmdb_api/Finished/\"\n",
    "output_folder = \"../tmdb_api/tmdb_api_merged/\""
   ]
  },
  {
   "cell_type": "code",
   "execution_count": 3,
   "id": "18044103-e39f-4ea6-a1bb-4dea863af6f1",
   "metadata": {},
   "outputs": [
    {
     "name": "stdout",
     "output_type": "stream",
     "text": [
      "Reading File:  tmdb_filmdaten_2025-03-08_09-32-27_5k.csv\n",
      "Filesize:  (6068, 23)\n",
      "Size new data frame:  (6068, 23)\n",
      "Reading File:  tmdb_filmdaten_2025-03-08_09-53-30.csv\n",
      "Filesize:  (190500, 23)\n",
      "Size new data frame:  (196568, 23)\n",
      "Saving file as parquet, filepath:  ../tmdb_api/tmdb_api_merged/tmdb_api_merged_data.parquet\n"
     ]
    }
   ],
   "source": [
    "files = glob.glob(input_folder + \"*.csv\")\n",
    "movies = pd.DataFrame()\n",
    "\n",
    "for file in files:\n",
    "    \n",
    "    # Reading file to input data frame\n",
    "    input_file_df = pd.read_csv(file)\n",
    "    print(\"Reading File: \", file.split(\"\\\\\")[-1])\n",
    "    print(\"Filesize: \", input_file_df.shape) \n",
    "\n",
    "    # Data frame for movie data\n",
    "    movies = pd.concat([movies, input_file_df])\n",
    "    print(\"Size new data frame: \", movies.shape)\n",
    "\n",
    "\n",
    "print(\"Saving file as parquet, filepath: \", output_folder + \"tmdb_api_merged_data.parquet\")\n",
    "movies.to_parquet(output_folder + \"tmdb_api_merged_data.parquet\", index=False)"
   ]
  },
  {
   "cell_type": "code",
   "execution_count": null,
   "id": "df4cdd63-9fb3-4264-8b8c-166830b948f0",
   "metadata": {},
   "outputs": [],
   "source": []
  }
 ],
 "metadata": {
  "kernelspec": {
   "display_name": "Python 3 (ipykernel)",
   "language": "python",
   "name": "python3"
  },
  "language_info": {
   "codemirror_mode": {
    "name": "ipython",
    "version": 3
   },
   "file_extension": ".py",
   "mimetype": "text/x-python",
   "name": "python",
   "nbconvert_exporter": "python",
   "pygments_lexer": "ipython3",
   "version": "3.12.7"
  }
 },
 "nbformat": 4,
 "nbformat_minor": 5
}
