{
 "cells": [
  {
   "cell_type": "markdown",
   "id": "d0c6db8f-dcf6-4bbe-8bb0-3c31bf03529f",
   "metadata": {},
   "source": [
    "### Import Parq file (merged csv files) clean them, add weighted rating and export 3 parq files."
   ]
  },
  {
   "cell_type": "code",
   "execution_count": 1,
   "id": "d73edc6b-4d52-42bb-8d2a-c6449096f3d3",
   "metadata": {},
   "outputs": [],
   "source": [
    "import pandas as pd\n",
    "import numpy as np\n",
    "import glob\n",
    "import gzip"
   ]
  },
  {
   "cell_type": "code",
   "execution_count": 2,
   "id": "1c46878d-d8b8-4269-a09d-c0aea5da5391",
   "metadata": {},
   "outputs": [],
   "source": [
    "input_folder = \"../tmdb_api/tmdb_api_merged/tmdb_api_merged_data.parquet\"\n",
    "output_folder = \"../tmdb_api/tmdb_api_cleaned/\""
   ]
  },
  {
   "cell_type": "code",
   "execution_count": 3,
   "id": "d9330c66-15b6-472b-9e33-beb3d1db3075",
   "metadata": {},
   "outputs": [
    {
     "name": "stdout",
     "output_type": "stream",
     "text": [
      "Size Input without rating threshold:  232791\n"
     ]
    }
   ],
   "source": [
    "movies = pd.read_parquet(input_folder)\n",
    "i_size =  movies[\"movie_id\"].count()\n",
    "print(\"Size Input without rating threshold: \", i_size)"
   ]
  },
  {
   "cell_type": "code",
   "execution_count": 4,
   "id": "184034d0-c8db-4505-8ab9-9c9c0eac7700",
   "metadata": {},
   "outputs": [],
   "source": [
    "movies = movies.fillna(np.nan)\n",
    "movies = movies.drop_duplicates(subset=\"movie_id\")"
   ]
  },
  {
   "cell_type": "code",
   "execution_count": 5,
   "id": "8bbc4dd4-9f45-4263-86c5-6f78ad22f7a8",
   "metadata": {},
   "outputs": [
    {
     "data": {
      "text/plain": [
       "Index(['movie_id', 'budget', 'genres', 'homepage', 'keywords',\n",
       "       'original_language', 'original_title', 'overview', 'popularity',\n",
       "       'production_companies', 'production_countries', 'release_date',\n",
       "       'revenue', 'runtime', 'spoken_languages', 'status', 'tagline', 'title',\n",
       "       'vote_average', 'vote_count', 'cast', 'director', 'poster_url'],\n",
       "      dtype='object')"
      ]
     },
     "execution_count": 5,
     "metadata": {},
     "output_type": "execute_result"
    }
   ],
   "source": [
    "movies.columns"
   ]
  },
  {
   "cell_type": "markdown",
   "id": "781a1c37-0ea4-4a64-8c58-fd5ad05fa977",
   "metadata": {},
   "source": [
    "## Define weighted rating threshold\n"
   ]
  },
  {
   "cell_type": "code",
   "execution_count": 6,
   "id": "c471c1c9-1ab9-42a4-ae8e-83b65827ac6c",
   "metadata": {},
   "outputs": [],
   "source": [
    "w_rate_thres = 0.9"
   ]
  },
  {
   "cell_type": "markdown",
   "id": "ef8ce256-4d40-4684-b4b6-18e743bd0b4f",
   "metadata": {},
   "source": [
    "## Add Weighted rating to data frame"
   ]
  },
  {
   "cell_type": "code",
   "execution_count": 7,
   "id": "225f18b9-b650-49e0-8d00-a7b46a779a78",
   "metadata": {},
   "outputs": [],
   "source": [
    "def weighted_rating_threshold(data_frame, qntl): \n",
    "    \n",
    "    if not {\"vote_average\", \"vote_count\"}.issubset(data_frame.columns):\n",
    "        raise ValueError(\"Die Spalten 'vote_average' und 'vote_count' fehlen im DataFrame!\")\n",
    "        \n",
    "    m = data_frame[\"vote_count\"].quantile(qntl)\n",
    "    C = data_frame[\"vote_average\"].mean()\n",
    "    \n",
    "    q_movies = data_frame.loc[data_frame[\"vote_count\"] >= m].copy()\n",
    "   \n",
    "    def weighted_rating(q_movs, m=m, C=C):\n",
    "        R = q_movs[\"vote_average\"]\n",
    "        v = q_movs[\"vote_count\"]\n",
    "        return (v/(v+m) * R) + (m/(m+v) * C)\n",
    "\n",
    "    q_movies['score'] = q_movies.apply(weighted_rating, axis=1)    \n",
    "    return q_movies"
   ]
  },
  {
   "cell_type": "markdown",
   "id": "0d4aa430-4731-4123-aa28-377c161a955f",
   "metadata": {},
   "source": [
    "## Drop empty cells\n",
    "### Clean: remove entrys with nan vals in necessary columns\n",
    "### Hard clean: remove entrys with nan vals in most columns"
   ]
  },
  {
   "cell_type": "code",
   "execution_count": 8,
   "id": "a7915660-7927-4de9-8706-de7f407bab3f",
   "metadata": {},
   "outputs": [],
   "source": [
    "movies_cleaned_hard = movies.dropna(subset = [\"movie_id\", \"genres\", \"keywords\", \"overview\", \"popularity\", \n",
    "                                         \"release_date\", \"vote_average\", \"vote_count\", \"cast\", \"director\"])\n",
    "\n",
    "movies_cleaned = movies.dropna(subset = [\"movie_id\", \"overview\", \"popularity\", \n",
    "                                         \"vote_average\", \"vote_count\"])"
   ]
  },
  {
   "cell_type": "markdown",
   "id": "41a0cde1-69ab-4f32-8ef4-159782a11350",
   "metadata": {},
   "source": [
    "### Add Weighthed Rating"
   ]
  },
  {
   "cell_type": "code",
   "execution_count": 9,
   "id": "f2855da5-3ffa-4a52-8c0a-b66916ef999e",
   "metadata": {},
   "outputs": [],
   "source": [
    "movies_weighted_rating = weighted_rating_threshold(movies, w_rate_thres).replace(np.nan, \"\")\n",
    "movies_cleaned_weighted_rating = weighted_rating_threshold(movies_cleaned, w_rate_thres).replace(np.nan, \"\")\n",
    "movies_cleaned_hard_weighted_rating = weighted_rating_threshold(movies_cleaned_hard, w_rate_thres).replace(np.nan, \"\")"
   ]
  },
  {
   "cell_type": "code",
   "execution_count": 10,
   "id": "ed3d5634-498b-4ffd-bae4-35aa0e5a0a36",
   "metadata": {},
   "outputs": [
    {
     "name": "stdout",
     "output_type": "stream",
     "text": [
      "Size Input without rating threshold:  221650\n",
      "Size Input, rating threshold:  22206 | Prozent vom Datenbestand 10.02 %\n",
      "Size cleaned, rating threshold:  21115 | Prozent vom Datenbestand 9.53 %\n",
      "Size hard cleaned, rating threshold:  10797 | Prozent vom Datenbestand 4.87 %\n"
     ]
    }
   ],
   "source": [
    "i_size =  movies[\"movie_id\"].count() # reaclculated on cleaned data\n",
    "i_rt = movies_weighted_rating[\"movie_id\"].count()\n",
    "i_crt = movies_cleaned_weighted_rating[\"movie_id\"].count()\n",
    "i_chrt = movies_cleaned_hard_weighted_rating[\"movie_id\"].count()\n",
    "\n",
    "print(\"Size Input without rating threshold: \", i_size)\n",
    "print(\"Size Input, rating threshold: \", i_rt, \"| Prozent vom Datenbestand\", round(i_rt/i_size*100, 2), \"%\")\n",
    "print(\"Size cleaned, rating threshold: \", i_crt, \"| Prozent vom Datenbestand\" , round(i_crt/i_size*100, 2), \"%\")\n",
    "print(\"Size hard cleaned, rating threshold: \", i_chrt, \"| Prozent vom Datenbestand\", round(i_chrt/i_size*100, 2), \"%\")"
   ]
  },
  {
   "cell_type": "markdown",
   "id": "0ac36fc5-c4af-40ec-8925-b0dc5cd147e9",
   "metadata": {},
   "source": [
    "# Output "
   ]
  },
  {
   "cell_type": "code",
   "execution_count": 11,
   "id": "894980a5-bcf0-45c8-8b45-87c7a80a2471",
   "metadata": {},
   "outputs": [
    {
     "name": "stdout",
     "output_type": "stream",
     "text": [
      "Saved files to folder:  ../tmdb_api/tmdb_api_cleaned/\n"
     ]
    }
   ],
   "source": [
    "# Sort by weighted rating \n",
    "movies_weighted_rating = movies_weighted_rating.sort_values(by = \"score\", ascending=False)\n",
    "movies_cleaned_weighted_rating = movies_cleaned_weighted_rating.sort_values(by = \"score\", ascending=False)\n",
    "movies_cleaned_hard_weighted_rating = movies_cleaned_hard_weighted_rating.sort_values(by = \"score\", ascending=False)\n",
    "\n",
    "movies_weighted_rating.to_parquet(output_folder + \"movies.parquet\")\n",
    "movies_cleaned_weighted_rating.to_parquet(output_folder + \"movies_cleaned.parquet\")\n",
    "movies_cleaned_hard_weighted_rating.to_parquet(output_folder + \"movies_cleaned_hard.parquet\")\n",
    "\n",
    "print(\"Saved files to folder: \", output_folder)"
   ]
  }
 ],
 "metadata": {
  "kernelspec": {
   "display_name": "Python 3 (ipykernel)",
   "language": "python",
   "name": "python3"
  },
  "language_info": {
   "codemirror_mode": {
    "name": "ipython",
    "version": 3
   },
   "file_extension": ".py",
   "mimetype": "text/x-python",
   "name": "python",
   "nbconvert_exporter": "python",
   "pygments_lexer": "ipython3",
   "version": "3.12.7"
  }
 },
 "nbformat": 4,
 "nbformat_minor": 5
}
