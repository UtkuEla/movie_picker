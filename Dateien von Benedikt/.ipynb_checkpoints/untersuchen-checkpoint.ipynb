{
 "cells": [
  {
   "cell_type": "code",
   "execution_count": 56,
   "id": "d1e9dc0d-31de-451b-8978-04960caf613d",
   "metadata": {},
   "outputs": [
    {
     "name": "stdout",
     "output_type": "stream",
     "text": [
      "Collecting roman\n",
      "  Downloading roman-5.0-py3-none-any.whl.metadata (3.7 kB)\n",
      "Downloading roman-5.0-py3-none-any.whl (5.5 kB)\n",
      "Installing collected packages: roman\n",
      "Successfully installed roman-5.0\n"
     ]
    }
   ],
   "source": [
    "!pip install roman"
   ]
  },
  {
   "cell_type": "code",
   "execution_count": 118,
   "id": "be59a649-b340-49bf-84e7-10c7c8fa1286",
   "metadata": {},
   "outputs": [],
   "source": [
    "import pandas as pd\n",
    "import numpy as np\n",
    "import matplotlib.pyplot as plt\n",
    "import roman"
   ]
  },
  {
   "cell_type": "code",
   "execution_count": 116,
   "id": "a0514f85-1cb5-484c-9be4-658fc088e722",
   "metadata": {},
   "outputs": [],
   "source": [
    "movies = pd.read_parquet(\"movies.parquet\")\n",
    "movies = movies.replace(\"\", np.nan)"
   ]
  },
  {
   "cell_type": "code",
   "execution_count": 120,
   "id": "88849403-cf22-4d7b-b1bd-a139fe3b205b",
   "metadata": {},
   "outputs": [
    {
     "data": {
      "text/plain": [
       "Index(['ImdbId', 'name', 'year', 'runtime', 'genre', 'ratingValue',\n",
       "       'summary_text', 'ratingCount', 'director', 'cast'],\n",
       "      dtype='object')"
      ]
     },
     "execution_count": 120,
     "metadata": {},
     "output_type": "execute_result"
    }
   ],
   "source": [
    "pd.set_option(\"display.max_rows\", 50)  # Erhöht die max. Anzahl der angezeigten Zeilen\n",
    "movies.columns"
   ]
  },
  {
   "cell_type": "code",
   "execution_count": 121,
   "id": "0c8c8208-c72e-4258-b812-24c42fe627ef",
   "metadata": {},
   "outputs": [
    {
     "data": {
      "text/html": [
       "<div>\n",
       "<style scoped>\n",
       "    .dataframe tbody tr th:only-of-type {\n",
       "        vertical-align: middle;\n",
       "    }\n",
       "\n",
       "    .dataframe tbody tr th {\n",
       "        vertical-align: top;\n",
       "    }\n",
       "\n",
       "    .dataframe thead th {\n",
       "        text-align: right;\n",
       "    }\n",
       "</style>\n",
       "<table border=\"1\" class=\"dataframe\">\n",
       "  <thead>\n",
       "    <tr style=\"text-align: right;\">\n",
       "      <th></th>\n",
       "      <th>ImdbId</th>\n",
       "      <th>name</th>\n",
       "      <th>year</th>\n",
       "      <th>runtime</th>\n",
       "      <th>genre</th>\n",
       "      <th>ratingValue</th>\n",
       "      <th>summary_text</th>\n",
       "      <th>ratingCount</th>\n",
       "      <th>director</th>\n",
       "      <th>cast</th>\n",
       "    </tr>\n",
       "  </thead>\n",
       "  <tbody>\n",
       "    <tr>\n",
       "      <th>0</th>\n",
       "      <td>tt0144999</td>\n",
       "      <td>Isaia, horeve</td>\n",
       "      <td>1966</td>\n",
       "      <td>72 min</td>\n",
       "      <td>Comedy</td>\n",
       "      <td>4.9</td>\n",
       "      <td>A spirited wife tries to keep her husband's ma...</td>\n",
       "      <td>66</td>\n",
       "      <td>Kostas Asimakopoulos</td>\n",
       "      <td>Vasilis Avlonitis, Georgia Vasileiadou, Takis ...</td>\n",
       "    </tr>\n",
       "    <tr>\n",
       "      <th>1</th>\n",
       "      <td>tt0142966</td>\n",
       "      <td>Voi juku - mikä lauantai</td>\n",
       "      <td>1979</td>\n",
       "      <td>81 min</td>\n",
       "      <td>Comedy</td>\n",
       "      <td>4.3</td>\n",
       "      <td>Add a Plot</td>\n",
       "      <td>66</td>\n",
       "      <td>Visa Mäkinen</td>\n",
       "      <td>Matti Pulliainen, Erkki Liikanen, Pirjo Siisko...</td>\n",
       "    </tr>\n",
       "    <tr>\n",
       "      <th>2</th>\n",
       "      <td>tt0142887</td>\n",
       "      <td>Syöksykierre</td>\n",
       "      <td>1981</td>\n",
       "      <td>90 min</td>\n",
       "      <td>Drama</td>\n",
       "      <td>5.2</td>\n",
       "      <td>Add a Plot</td>\n",
       "      <td>66</td>\n",
       "      <td>Tapio Suominen</td>\n",
       "      <td>Kimmo Liukkonen, Markku Toikka, Kai Honkanen, ...</td>\n",
       "    </tr>\n",
       "    <tr>\n",
       "      <th>3</th>\n",
       "      <td>tt0142383</td>\n",
       "      <td>Le huitième jour</td>\n",
       "      <td>1960</td>\n",
       "      <td>78 min</td>\n",
       "      <td>Drama</td>\n",
       "      <td>6.4</td>\n",
       "      <td>Françoise, a thirty-year-old single typist liv...</td>\n",
       "      <td>66</td>\n",
       "      <td>Marcel Hanoun</td>\n",
       "      <td>Emmanuelle Riva, Félix Marten, José Varela, Lu...</td>\n",
       "    </tr>\n",
       "    <tr>\n",
       "      <th>4</th>\n",
       "      <td>tt0142346</td>\n",
       "      <td>Half Way to Hell</td>\n",
       "      <td>1960</td>\n",
       "      <td>75 min</td>\n",
       "      <td>Action,  Romance,  Western</td>\n",
       "      <td>2.8</td>\n",
       "      <td>Prior to the revolution, Senorita Maria San Ca...</td>\n",
       "      <td>66</td>\n",
       "      <td>Victor Adamson</td>\n",
       "      <td>Al Adamson, Al Adamson, Lyle Felice, Caroll Mo...</td>\n",
       "    </tr>\n",
       "    <tr>\n",
       "      <th>...</th>\n",
       "      <td>...</td>\n",
       "      <td>...</td>\n",
       "      <td>...</td>\n",
       "      <td>...</td>\n",
       "      <td>...</td>\n",
       "      <td>...</td>\n",
       "      <td>...</td>\n",
       "      <td>...</td>\n",
       "      <td>...</td>\n",
       "      <td>...</td>\n",
       "    </tr>\n",
       "    <tr>\n",
       "      <th>633714</th>\n",
       "      <td>tt0176102</td>\n",
       "      <td>Rossini's Ghost</td>\n",
       "      <td>1996 TV Movie</td>\n",
       "      <td>52 min</td>\n",
       "      <td>Biography,  Drama,  Family</td>\n",
       "      <td>7.1</td>\n",
       "      <td>Nine-year old Reliana witnesses Rossini's effo...</td>\n",
       "      <td>57</td>\n",
       "      <td>David Devine</td>\n",
       "      <td>Joseph Di Mambro, Melissa Pirrera, Frances Bay...</td>\n",
       "    </tr>\n",
       "    <tr>\n",
       "      <th>633715</th>\n",
       "      <td>tt0171957</td>\n",
       "      <td>Zvezda i smert Khoakina Murety</td>\n",
       "      <td>1983</td>\n",
       "      <td>86 min</td>\n",
       "      <td>Biography,  Drama,  Musical</td>\n",
       "      <td>6.7</td>\n",
       "      <td>The screen version of a rock opera of Alexey R...</td>\n",
       "      <td>57</td>\n",
       "      <td>Vladimir Grammatikov</td>\n",
       "      <td>Andrey Kharitonov, Alyona Belyak, Aleksandr Fi...</td>\n",
       "    </tr>\n",
       "    <tr>\n",
       "      <th>633716</th>\n",
       "      <td>tt0170091</td>\n",
       "      <td>Jó estét nyár, jó estét szerelem</td>\n",
       "      <td>1972 TV Movie</td>\n",
       "      <td>195 min</td>\n",
       "      <td>Drama,  Romance</td>\n",
       "      <td>7.6</td>\n",
       "      <td>Add a Plot</td>\n",
       "      <td>57</td>\n",
       "      <td>Sándor Szönyi G.</td>\n",
       "      <td>Gábor Harsányi, Judit Halász, Klári Tolnay, Sá...</td>\n",
       "    </tr>\n",
       "    <tr>\n",
       "      <th>633717</th>\n",
       "      <td>tt0169775</td>\n",
       "      <td>A Well Paid Walk</td>\n",
       "      <td>1966 TV Movie</td>\n",
       "      <td>73 min</td>\n",
       "      <td>Comedy,  Musical</td>\n",
       "      <td>6.6</td>\n",
       "      <td>Add a Plot</td>\n",
       "      <td>57</td>\n",
       "      <td>Milos Forman</td>\n",
       "      <td>Ján Rohác, Rene Gabzdyl, Hana Hegerová, Vladim...</td>\n",
       "    </tr>\n",
       "    <tr>\n",
       "      <th>633718</th>\n",
       "      <td>tt0169204</td>\n",
       "      <td>The Salvage Gang</td>\n",
       "      <td>1958</td>\n",
       "      <td>52 min</td>\n",
       "      <td>Family,  Adventure</td>\n",
       "      <td>6.4</td>\n",
       "      <td>Whilst building a rabbit hutch, a group of chi...</td>\n",
       "      <td>57</td>\n",
       "      <td>John Krish</td>\n",
       "      <td>Ali Allen, Mandy Harper, Frazer Hines, Christo...</td>\n",
       "    </tr>\n",
       "  </tbody>\n",
       "</table>\n",
       "<p>633719 rows × 10 columns</p>\n",
       "</div>"
      ],
      "text/plain": [
       "           ImdbId                              name           year  runtime  \\\n",
       "0       tt0144999                     Isaia, horeve           1966   72 min   \n",
       "1       tt0142966          Voi juku - mikä lauantai           1979   81 min   \n",
       "2       tt0142887                      Syöksykierre           1981   90 min   \n",
       "3       tt0142383                  Le huitième jour           1960   78 min   \n",
       "4       tt0142346                  Half Way to Hell           1960   75 min   \n",
       "...           ...                               ...            ...      ...   \n",
       "633714  tt0176102                   Rossini's Ghost  1996 TV Movie   52 min   \n",
       "633715  tt0171957    Zvezda i smert Khoakina Murety           1983   86 min   \n",
       "633716  tt0170091  Jó estét nyár, jó estét szerelem  1972 TV Movie  195 min   \n",
       "633717  tt0169775                  A Well Paid Walk  1966 TV Movie   73 min   \n",
       "633718  tt0169204                  The Salvage Gang           1958   52 min   \n",
       "\n",
       "                              genre ratingValue  \\\n",
       "0                            Comedy         4.9   \n",
       "1                            Comedy         4.3   \n",
       "2                             Drama         5.2   \n",
       "3                             Drama         6.4   \n",
       "4        Action,  Romance,  Western         2.8   \n",
       "...                             ...         ...   \n",
       "633714   Biography,  Drama,  Family         7.1   \n",
       "633715  Biography,  Drama,  Musical         6.7   \n",
       "633716              Drama,  Romance         7.6   \n",
       "633717             Comedy,  Musical         6.6   \n",
       "633718           Family,  Adventure         6.4   \n",
       "\n",
       "                                             summary_text ratingCount  \\\n",
       "0       A spirited wife tries to keep her husband's ma...          66   \n",
       "1                                              Add a Plot          66   \n",
       "2                                              Add a Plot          66   \n",
       "3       Françoise, a thirty-year-old single typist liv...          66   \n",
       "4       Prior to the revolution, Senorita Maria San Ca...          66   \n",
       "...                                                   ...         ...   \n",
       "633714  Nine-year old Reliana witnesses Rossini's effo...          57   \n",
       "633715  The screen version of a rock opera of Alexey R...          57   \n",
       "633716                                         Add a Plot          57   \n",
       "633717                                         Add a Plot          57   \n",
       "633718  Whilst building a rabbit hutch, a group of chi...          57   \n",
       "\n",
       "                    director  \\\n",
       "0       Kostas Asimakopoulos   \n",
       "1               Visa Mäkinen   \n",
       "2             Tapio Suominen   \n",
       "3              Marcel Hanoun   \n",
       "4             Victor Adamson   \n",
       "...                      ...   \n",
       "633714          David Devine   \n",
       "633715  Vladimir Grammatikov   \n",
       "633716      Sándor Szönyi G.   \n",
       "633717          Milos Forman   \n",
       "633718            John Krish   \n",
       "\n",
       "                                                     cast  \n",
       "0       Vasilis Avlonitis, Georgia Vasileiadou, Takis ...  \n",
       "1       Matti Pulliainen, Erkki Liikanen, Pirjo Siisko...  \n",
       "2       Kimmo Liukkonen, Markku Toikka, Kai Honkanen, ...  \n",
       "3       Emmanuelle Riva, Félix Marten, José Varela, Lu...  \n",
       "4       Al Adamson, Al Adamson, Lyle Felice, Caroll Mo...  \n",
       "...                                                   ...  \n",
       "633714  Joseph Di Mambro, Melissa Pirrera, Frances Bay...  \n",
       "633715  Andrey Kharitonov, Alyona Belyak, Aleksandr Fi...  \n",
       "633716  Gábor Harsányi, Judit Halász, Klári Tolnay, Sá...  \n",
       "633717  Ján Rohác, Rene Gabzdyl, Hana Hegerová, Vladim...  \n",
       "633718  Ali Allen, Mandy Harper, Frazer Hines, Christo...  \n",
       "\n",
       "[633719 rows x 10 columns]"
      ]
     },
     "execution_count": 121,
     "metadata": {},
     "output_type": "execute_result"
    }
   ],
   "source": [
    "movies"
   ]
  },
  {
   "cell_type": "code",
   "execution_count": 48,
   "id": "938c6f61-88a3-4f31-a382-9ae47345615f",
   "metadata": {},
   "outputs": [
    {
     "data": {
      "text/plain": [
       "<Axes: >"
      ]
     },
     "execution_count": 48,
     "metadata": {},
     "output_type": "execute_result"
    },
    {
     "data": {
      "image/png": "[encoded data removed]",
      "text/plain": [
       "<Figure size 640x480 with 1 Axes>"
      ]
     },
     "metadata": {},
     "output_type": "display_data"
    }
   ],
   "source": [
    "movies[\"ratingValue\"] = movies[\"ratingValue\"].astype(float)\n",
    "movies[\"ratingValue\"].plot()"
   ]
  },
  {
   "cell_type": "code",
   "execution_count": 110,
   "id": "a8d18120-307f-4216-ab50-34dc7268c8fd",
   "metadata": {},
   "outputs": [
    {
     "data": {
      "text/html": [
       "<div>\n",
       "<style scoped>\n",
       "    .dataframe tbody tr th:only-of-type {\n",
       "        vertical-align: middle;\n",
       "    }\n",
       "\n",
       "    .dataframe tbody tr th {\n",
       "        vertical-align: top;\n",
       "    }\n",
       "\n",
       "    .dataframe thead th {\n",
       "        text-align: right;\n",
       "    }\n",
       "</style>\n",
       "<table border=\"1\" class=\"dataframe\">\n",
       "  <thead>\n",
       "    <tr style=\"text-align: right;\">\n",
       "      <th></th>\n",
       "      <th>ratingValue</th>\n",
       "    </tr>\n",
       "    <tr>\n",
       "      <th>year</th>\n",
       "      <th></th>\n",
       "    </tr>\n",
       "  </thead>\n",
       "  <tbody>\n",
       "    <tr>\n",
       "      <th>1.0</th>\n",
       "      <td>NaN</td>\n",
       "    </tr>\n",
       "    <tr>\n",
       "      <th>2.0</th>\n",
       "      <td>NaN</td>\n",
       "    </tr>\n",
       "    <tr>\n",
       "      <th>3.0</th>\n",
       "      <td>NaN</td>\n",
       "    </tr>\n",
       "    <tr>\n",
       "      <th>4.0</th>\n",
       "      <td>NaN</td>\n",
       "    </tr>\n",
       "    <tr>\n",
       "      <th>5.0</th>\n",
       "      <td>NaN</td>\n",
       "    </tr>\n",
       "    <tr>\n",
       "      <th>...</th>\n",
       "      <td>...</td>\n",
       "    </tr>\n",
       "    <tr>\n",
       "      <th>2025.0</th>\n",
       "      <td>NaN</td>\n",
       "    </tr>\n",
       "    <tr>\n",
       "      <th>2026.0</th>\n",
       "      <td>NaN</td>\n",
       "    </tr>\n",
       "    <tr>\n",
       "      <th>2027.0</th>\n",
       "      <td>NaN</td>\n",
       "    </tr>\n",
       "    <tr>\n",
       "      <th>2028.0</th>\n",
       "      <td>NaN</td>\n",
       "    </tr>\n",
       "    <tr>\n",
       "      <th>20132020.0</th>\n",
       "      <td>7.1</td>\n",
       "    </tr>\n",
       "  </tbody>\n",
       "</table>\n",
       "<p>188 rows × 1 columns</p>\n",
       "</div>"
      ],
      "text/plain": [
       "            ratingValue\n",
       "year                   \n",
       "1.0                 NaN\n",
       "2.0                 NaN\n",
       "3.0                 NaN\n",
       "4.0                 NaN\n",
       "5.0                 NaN\n",
       "...                 ...\n",
       "2025.0              NaN\n",
       "2026.0              NaN\n",
       "2027.0              NaN\n",
       "2028.0              NaN\n",
       "20132020.0          7.1\n",
       "\n",
       "[188 rows x 1 columns]"
      ]
     },
     "execution_count": 110,
     "metadata": {},
     "output_type": "execute_result"
    }
   ],
   "source": [
    "movies_year = movies.groupby(\"year\").agg({ \n",
    "    'ratingValue': 'mean'  # Durchschnitt der Bewertung\n",
    "})\n",
    "movies_year"
   ]
  },
  {
   "cell_type": "code",
   "execution_count": 79,
   "id": "1de6cc78-fc29-46c4-9aa7-d4989b4f4ef4",
   "metadata": {},
   "outputs": [],
   "source": []
  },
  {
   "cell_type": "code",
   "execution_count": 85,
   "id": "1f3acf9a-bd08-4e6a-b100-2f0c70da9a7f",
   "metadata": {},
   "outputs": [
    {
     "name": "stdout",
     "output_type": "stream",
     "text": [
      "20\n"
     ]
    }
   ],
   "source": [
    "def myroman(x):\n",
    "    \n",
    "    try: \n",
    "        return str(roman.fromRoman(x))\n",
    "    except roman.InvalidRomanNumeralError:\n",
    "        return x\n",
    "\n",
    "zahl = \"xx\"\n",
    "neuezahl = myroman(zahl)\n",
    "print(neuezahl)"
   ]
  },
  {
   "cell_type": "code",
   "execution_count": 73,
   "id": "49166847-d1f2-44cc-b8a4-7b86822532e2",
   "metadata": {},
   "outputs": [
    {
     "name": "stdout",
     "output_type": "stream",
     "text": [
      "10\n"
     ]
    }
   ],
   "source": [
    "n=roman.fromRoman(\"X\"); #n becomes 10\n",
    "print(n)"
   ]
  },
  {
   "cell_type": "code",
   "execution_count": 93,
   "id": "1a4e9bb2-8cfd-42ec-8bad-ffa91340179e",
   "metadata": {
    "collapsed": true,
    "jupyter": {
     "outputs_hidden": true
    }
   },
   "outputs": [
    {
     "name": "stderr",
     "output_type": "stream",
     "text": [
      "C:\\Users\\bened\\AppData\\Local\\Temp\\ipykernel_13088\\3093806572.py:2: FutureWarning: errors='ignore' is deprecated and will raise in a future version. Use to_numeric without passing `errors` and catch exceptions explicitly instead\n",
      "  movies[\"year\"] = movies[\"year\"].apply( lambda x : pd.to_numeric(x, errors = 'ignore' ))\n"
     ]
    },
    {
     "ename": "KeyboardInterrupt",
     "evalue": "",
     "output_type": "error",
     "traceback": [
      "\u001b[1;31m---------------------------------------------------------------------------\u001b[0m",
      "\u001b[1;31mKeyboardInterrupt\u001b[0m                         Traceback (most recent call last)",
      "Cell \u001b[1;32mIn[93], line 2\u001b[0m\n\u001b[0;32m      1\u001b[0m movies[\u001b[38;5;124m\"\u001b[39m\u001b[38;5;124myear\u001b[39m\u001b[38;5;124m\"\u001b[39m] \u001b[38;5;241m=\u001b[39m movies[\u001b[38;5;124m\"\u001b[39m\u001b[38;5;124myear\u001b[39m\u001b[38;5;124m\"\u001b[39m]\u001b[38;5;241m.\u001b[39mapply(myroman)\n\u001b[1;32m----> 2\u001b[0m movies[\u001b[38;5;124m\"\u001b[39m\u001b[38;5;124myear\u001b[39m\u001b[38;5;124m\"\u001b[39m] \u001b[38;5;241m=\u001b[39m movies[\u001b[38;5;124m\"\u001b[39m\u001b[38;5;124myear\u001b[39m\u001b[38;5;124m\"\u001b[39m]\u001b[38;5;241m.\u001b[39mapply( \u001b[38;5;28;01mlambda\u001b[39;00m x : pd\u001b[38;5;241m.\u001b[39mto_numeric(x, errors \u001b[38;5;241m=\u001b[39m \u001b[38;5;124m'\u001b[39m\u001b[38;5;124mignore\u001b[39m\u001b[38;5;124m'\u001b[39m ))\n",
      "File \u001b[1;32m~\\anaconda3\\Lib\\site-packages\\pandas\\core\\series.py:4924\u001b[0m, in \u001b[0;36mSeries.apply\u001b[1;34m(self, func, convert_dtype, args, by_row, **kwargs)\u001b[0m\n\u001b[0;32m   4789\u001b[0m \u001b[38;5;28;01mdef\u001b[39;00m \u001b[38;5;21mapply\u001b[39m(\n\u001b[0;32m   4790\u001b[0m     \u001b[38;5;28mself\u001b[39m,\n\u001b[0;32m   4791\u001b[0m     func: AggFuncType,\n\u001b[1;32m   (...)\u001b[0m\n\u001b[0;32m   4796\u001b[0m     \u001b[38;5;241m*\u001b[39m\u001b[38;5;241m*\u001b[39mkwargs,\n\u001b[0;32m   4797\u001b[0m ) \u001b[38;5;241m-\u001b[39m\u001b[38;5;241m>\u001b[39m DataFrame \u001b[38;5;241m|\u001b[39m Series:\n\u001b[0;32m   4798\u001b[0m \u001b[38;5;250m    \u001b[39m\u001b[38;5;124;03m\"\"\"\u001b[39;00m\n\u001b[0;32m   4799\u001b[0m \u001b[38;5;124;03m    Invoke function on values of Series.\u001b[39;00m\n\u001b[0;32m   4800\u001b[0m \n\u001b[1;32m   (...)\u001b[0m\n\u001b[0;32m   4915\u001b[0m \u001b[38;5;124;03m    dtype: float64\u001b[39;00m\n\u001b[0;32m   4916\u001b[0m \u001b[38;5;124;03m    \"\"\"\u001b[39;00m\n\u001b[0;32m   4917\u001b[0m     \u001b[38;5;28;01mreturn\u001b[39;00m SeriesApply(\n\u001b[0;32m   4918\u001b[0m         \u001b[38;5;28mself\u001b[39m,\n\u001b[0;32m   4919\u001b[0m         func,\n\u001b[0;32m   4920\u001b[0m         convert_dtype\u001b[38;5;241m=\u001b[39mconvert_dtype,\n\u001b[0;32m   4921\u001b[0m         by_row\u001b[38;5;241m=\u001b[39mby_row,\n\u001b[0;32m   4922\u001b[0m         args\u001b[38;5;241m=\u001b[39margs,\n\u001b[0;32m   4923\u001b[0m         kwargs\u001b[38;5;241m=\u001b[39mkwargs,\n\u001b[1;32m-> 4924\u001b[0m     )\u001b[38;5;241m.\u001b[39mapply()\n",
      "File \u001b[1;32m~\\anaconda3\\Lib\\site-packages\\pandas\\core\\apply.py:1427\u001b[0m, in \u001b[0;36mSeriesApply.apply\u001b[1;34m(self)\u001b[0m\n\u001b[0;32m   1424\u001b[0m     \u001b[38;5;28;01mreturn\u001b[39;00m \u001b[38;5;28mself\u001b[39m\u001b[38;5;241m.\u001b[39mapply_compat()\n\u001b[0;32m   1426\u001b[0m \u001b[38;5;66;03m# self.func is Callable\u001b[39;00m\n\u001b[1;32m-> 1427\u001b[0m \u001b[38;5;28;01mreturn\u001b[39;00m \u001b[38;5;28mself\u001b[39m\u001b[38;5;241m.\u001b[39mapply_standard()\n",
      "File \u001b[1;32m~\\anaconda3\\Lib\\site-packages\\pandas\\core\\apply.py:1507\u001b[0m, in \u001b[0;36mSeriesApply.apply_standard\u001b[1;34m(self)\u001b[0m\n\u001b[0;32m   1501\u001b[0m \u001b[38;5;66;03m# row-wise access\u001b[39;00m\n\u001b[0;32m   1502\u001b[0m \u001b[38;5;66;03m# apply doesn't have a `na_action` keyword and for backward compat reasons\u001b[39;00m\n\u001b[0;32m   1503\u001b[0m \u001b[38;5;66;03m# we need to give `na_action=\"ignore\"` for categorical data.\u001b[39;00m\n\u001b[0;32m   1504\u001b[0m \u001b[38;5;66;03m# TODO: remove the `na_action=\"ignore\"` when that default has been changed in\u001b[39;00m\n\u001b[0;32m   1505\u001b[0m \u001b[38;5;66;03m#  Categorical (GH51645).\u001b[39;00m\n\u001b[0;32m   1506\u001b[0m action \u001b[38;5;241m=\u001b[39m \u001b[38;5;124m\"\u001b[39m\u001b[38;5;124mignore\u001b[39m\u001b[38;5;124m\"\u001b[39m \u001b[38;5;28;01mif\u001b[39;00m \u001b[38;5;28misinstance\u001b[39m(obj\u001b[38;5;241m.\u001b[39mdtype, CategoricalDtype) \u001b[38;5;28;01melse\u001b[39;00m \u001b[38;5;28;01mNone\u001b[39;00m\n\u001b[1;32m-> 1507\u001b[0m mapped \u001b[38;5;241m=\u001b[39m obj\u001b[38;5;241m.\u001b[39m_map_values(\n\u001b[0;32m   1508\u001b[0m     mapper\u001b[38;5;241m=\u001b[39mcurried, na_action\u001b[38;5;241m=\u001b[39maction, convert\u001b[38;5;241m=\u001b[39m\u001b[38;5;28mself\u001b[39m\u001b[38;5;241m.\u001b[39mconvert_dtype\n\u001b[0;32m   1509\u001b[0m )\n\u001b[0;32m   1511\u001b[0m \u001b[38;5;28;01mif\u001b[39;00m \u001b[38;5;28mlen\u001b[39m(mapped) \u001b[38;5;129;01mand\u001b[39;00m \u001b[38;5;28misinstance\u001b[39m(mapped[\u001b[38;5;241m0\u001b[39m], ABCSeries):\n\u001b[0;32m   1512\u001b[0m     \u001b[38;5;66;03m# GH#43986 Need to do list(mapped) in order to get treated as nested\u001b[39;00m\n\u001b[0;32m   1513\u001b[0m     \u001b[38;5;66;03m#  See also GH#25959 regarding EA support\u001b[39;00m\n\u001b[0;32m   1514\u001b[0m     \u001b[38;5;28;01mreturn\u001b[39;00m obj\u001b[38;5;241m.\u001b[39m_constructor_expanddim(\u001b[38;5;28mlist\u001b[39m(mapped), index\u001b[38;5;241m=\u001b[39mobj\u001b[38;5;241m.\u001b[39mindex)\n",
      "File \u001b[1;32m~\\anaconda3\\Lib\\site-packages\\pandas\\core\\base.py:921\u001b[0m, in \u001b[0;36mIndexOpsMixin._map_values\u001b[1;34m(self, mapper, na_action, convert)\u001b[0m\n\u001b[0;32m    918\u001b[0m \u001b[38;5;28;01mif\u001b[39;00m \u001b[38;5;28misinstance\u001b[39m(arr, ExtensionArray):\n\u001b[0;32m    919\u001b[0m     \u001b[38;5;28;01mreturn\u001b[39;00m arr\u001b[38;5;241m.\u001b[39mmap(mapper, na_action\u001b[38;5;241m=\u001b[39mna_action)\n\u001b[1;32m--> 921\u001b[0m \u001b[38;5;28;01mreturn\u001b[39;00m algorithms\u001b[38;5;241m.\u001b[39mmap_array(arr, mapper, na_action\u001b[38;5;241m=\u001b[39mna_action, convert\u001b[38;5;241m=\u001b[39mconvert)\n",
      "File \u001b[1;32m~\\anaconda3\\Lib\\site-packages\\pandas\\core\\algorithms.py:1743\u001b[0m, in \u001b[0;36mmap_array\u001b[1;34m(arr, mapper, na_action, convert)\u001b[0m\n\u001b[0;32m   1741\u001b[0m values \u001b[38;5;241m=\u001b[39m arr\u001b[38;5;241m.\u001b[39mastype(\u001b[38;5;28mobject\u001b[39m, copy\u001b[38;5;241m=\u001b[39m\u001b[38;5;28;01mFalse\u001b[39;00m)\n\u001b[0;32m   1742\u001b[0m \u001b[38;5;28;01mif\u001b[39;00m na_action \u001b[38;5;129;01mis\u001b[39;00m \u001b[38;5;28;01mNone\u001b[39;00m:\n\u001b[1;32m-> 1743\u001b[0m     \u001b[38;5;28;01mreturn\u001b[39;00m lib\u001b[38;5;241m.\u001b[39mmap_infer(values, mapper, convert\u001b[38;5;241m=\u001b[39mconvert)\n\u001b[0;32m   1744\u001b[0m \u001b[38;5;28;01melse\u001b[39;00m:\n\u001b[0;32m   1745\u001b[0m     \u001b[38;5;28;01mreturn\u001b[39;00m lib\u001b[38;5;241m.\u001b[39mmap_infer_mask(\n\u001b[0;32m   1746\u001b[0m         values, mapper, mask\u001b[38;5;241m=\u001b[39misna(values)\u001b[38;5;241m.\u001b[39mview(np\u001b[38;5;241m.\u001b[39muint8), convert\u001b[38;5;241m=\u001b[39mconvert\n\u001b[0;32m   1747\u001b[0m     )\n",
      "File \u001b[1;32mlib.pyx:2972\u001b[0m, in \u001b[0;36mpandas._libs.lib.map_infer\u001b[1;34m()\u001b[0m\n",
      "Cell \u001b[1;32mIn[93], line 2\u001b[0m, in \u001b[0;36m<lambda>\u001b[1;34m(x)\u001b[0m\n\u001b[0;32m      1\u001b[0m movies[\u001b[38;5;124m\"\u001b[39m\u001b[38;5;124myear\u001b[39m\u001b[38;5;124m\"\u001b[39m] \u001b[38;5;241m=\u001b[39m movies[\u001b[38;5;124m\"\u001b[39m\u001b[38;5;124myear\u001b[39m\u001b[38;5;124m\"\u001b[39m]\u001b[38;5;241m.\u001b[39mapply(myroman)\n\u001b[1;32m----> 2\u001b[0m movies[\u001b[38;5;124m\"\u001b[39m\u001b[38;5;124myear\u001b[39m\u001b[38;5;124m\"\u001b[39m] \u001b[38;5;241m=\u001b[39m movies[\u001b[38;5;124m\"\u001b[39m\u001b[38;5;124myear\u001b[39m\u001b[38;5;124m\"\u001b[39m]\u001b[38;5;241m.\u001b[39mapply( \u001b[38;5;28;01mlambda\u001b[39;00m x : pd\u001b[38;5;241m.\u001b[39mto_numeric(x, errors \u001b[38;5;241m=\u001b[39m \u001b[38;5;124m'\u001b[39m\u001b[38;5;124mignore\u001b[39m\u001b[38;5;124m'\u001b[39m ))\n",
      "File \u001b[1;32m~\\anaconda3\\Lib\\site-packages\\pandas\\core\\tools\\numeric.py:224\u001b[0m, in \u001b[0;36mto_numeric\u001b[1;34m(arg, errors, downcast, dtype_backend)\u001b[0m\n\u001b[0;32m    222\u001b[0m     values \u001b[38;5;241m=\u001b[39m values\u001b[38;5;241m.\u001b[39mdropna()\u001b[38;5;241m.\u001b[39mto_numpy()\n\u001b[0;32m    223\u001b[0m new_mask: np\u001b[38;5;241m.\u001b[39mndarray \u001b[38;5;241m|\u001b[39m \u001b[38;5;28;01mNone\u001b[39;00m \u001b[38;5;241m=\u001b[39m \u001b[38;5;28;01mNone\u001b[39;00m\n\u001b[1;32m--> 224\u001b[0m \u001b[38;5;28;01mif\u001b[39;00m is_numeric_dtype(values_dtype):\n\u001b[0;32m    225\u001b[0m     \u001b[38;5;28;01mpass\u001b[39;00m\n\u001b[0;32m    226\u001b[0m \u001b[38;5;28;01melif\u001b[39;00m lib\u001b[38;5;241m.\u001b[39mis_np_dtype(values_dtype, \u001b[38;5;124m\"\u001b[39m\u001b[38;5;124mmM\u001b[39m\u001b[38;5;124m\"\u001b[39m):\n",
      "File \u001b[1;32m~\\anaconda3\\Lib\\site-packages\\pandas\\core\\dtypes\\common.py:1119\u001b[0m, in \u001b[0;36mis_numeric_dtype\u001b[1;34m(arr_or_dtype)\u001b[0m\n\u001b[0;32m   1081\u001b[0m \u001b[38;5;28;01mdef\u001b[39;00m \u001b[38;5;21mis_numeric_dtype\u001b[39m(arr_or_dtype) \u001b[38;5;241m-\u001b[39m\u001b[38;5;241m>\u001b[39m \u001b[38;5;28mbool\u001b[39m:\n\u001b[0;32m   1082\u001b[0m \u001b[38;5;250m    \u001b[39m\u001b[38;5;124;03m\"\"\"\u001b[39;00m\n\u001b[0;32m   1083\u001b[0m \u001b[38;5;124;03m    Check whether the provided array or dtype is of a numeric dtype.\u001b[39;00m\n\u001b[0;32m   1084\u001b[0m \n\u001b[1;32m   (...)\u001b[0m\n\u001b[0;32m   1117\u001b[0m \u001b[38;5;124;03m    False\u001b[39;00m\n\u001b[0;32m   1118\u001b[0m \u001b[38;5;124;03m    \"\"\"\u001b[39;00m\n\u001b[1;32m-> 1119\u001b[0m     \u001b[38;5;28;01mreturn\u001b[39;00m _is_dtype_type(\n\u001b[0;32m   1120\u001b[0m         arr_or_dtype, _classes_and_not_datetimelike(np\u001b[38;5;241m.\u001b[39mnumber, np\u001b[38;5;241m.\u001b[39mbool_)\n\u001b[0;32m   1121\u001b[0m     ) \u001b[38;5;129;01mor\u001b[39;00m _is_dtype(\n\u001b[0;32m   1122\u001b[0m         arr_or_dtype, \u001b[38;5;28;01mlambda\u001b[39;00m typ: \u001b[38;5;28misinstance\u001b[39m(typ, ExtensionDtype) \u001b[38;5;129;01mand\u001b[39;00m typ\u001b[38;5;241m.\u001b[39m_is_numeric\n\u001b[0;32m   1123\u001b[0m     )\n",
      "File \u001b[1;32m~\\anaconda3\\Lib\\site-packages\\pandas\\core\\dtypes\\common.py:1453\u001b[0m, in \u001b[0;36m_is_dtype_type\u001b[1;34m(arr_or_dtype, condition)\u001b[0m\n\u001b[0;32m   1451\u001b[0m \u001b[38;5;66;03m# fastpath\u001b[39;00m\n\u001b[0;32m   1452\u001b[0m \u001b[38;5;28;01mif\u001b[39;00m \u001b[38;5;28misinstance\u001b[39m(arr_or_dtype, np\u001b[38;5;241m.\u001b[39mdtype):\n\u001b[1;32m-> 1453\u001b[0m     \u001b[38;5;28;01mreturn\u001b[39;00m condition(arr_or_dtype\u001b[38;5;241m.\u001b[39mtype)\n\u001b[0;32m   1454\u001b[0m \u001b[38;5;28;01melif\u001b[39;00m \u001b[38;5;28misinstance\u001b[39m(arr_or_dtype, \u001b[38;5;28mtype\u001b[39m):\n\u001b[0;32m   1455\u001b[0m     \u001b[38;5;28;01mif\u001b[39;00m \u001b[38;5;28missubclass\u001b[39m(arr_or_dtype, ExtensionDtype):\n",
      "File \u001b[1;32m~\\anaconda3\\Lib\\site-packages\\pandas\\core\\dtypes\\common.py:132\u001b[0m, in \u001b[0;36m_classes_and_not_datetimelike.<locals>.<lambda>\u001b[1;34m(tipo)\u001b[0m\n\u001b[0;32m    126\u001b[0m \u001b[38;5;28;01mdef\u001b[39;00m \u001b[38;5;21m_classes_and_not_datetimelike\u001b[39m(\u001b[38;5;241m*\u001b[39mklasses) \u001b[38;5;241m-\u001b[39m\u001b[38;5;241m>\u001b[39m Callable:\n\u001b[0;32m    127\u001b[0m \u001b[38;5;250m    \u001b[39m\u001b[38;5;124;03m\"\"\"\u001b[39;00m\n\u001b[0;32m    128\u001b[0m \u001b[38;5;124;03m    Evaluate if the tipo is a subclass of the klasses\u001b[39;00m\n\u001b[0;32m    129\u001b[0m \u001b[38;5;124;03m    and not a datetimelike.\u001b[39;00m\n\u001b[0;32m    130\u001b[0m \u001b[38;5;124;03m    \"\"\"\u001b[39;00m\n\u001b[0;32m    131\u001b[0m     \u001b[38;5;28;01mreturn\u001b[39;00m \u001b[38;5;28;01mlambda\u001b[39;00m tipo: (\n\u001b[1;32m--> 132\u001b[0m         \u001b[38;5;28missubclass\u001b[39m(tipo, klasses)\n\u001b[0;32m    133\u001b[0m         \u001b[38;5;129;01mand\u001b[39;00m \u001b[38;5;129;01mnot\u001b[39;00m \u001b[38;5;28missubclass\u001b[39m(tipo, (np\u001b[38;5;241m.\u001b[39mdatetime64, np\u001b[38;5;241m.\u001b[39mtimedelta64))\n\u001b[0;32m    134\u001b[0m     )\n",
      "\u001b[1;31mKeyboardInterrupt\u001b[0m: "
     ]
    }
   ],
   "source": [
    "movies[\"year\"] = movies[\"year\"].apply(myroman)"
   ]
  },
  {
   "cell_type": "code",
   "execution_count": 109,
   "id": "4c7cb3d8-bf89-4d7c-a6b4-b26a4c7cc915",
   "metadata": {},
   "outputs": [],
   "source": [
    "movies[\"year\"] = movies[\"year\"].apply( lambda x : pd.to_numeric( x ))"
   ]
  },
  {
   "cell_type": "code",
   "execution_count": 107,
   "id": "7aa38b08-a38c-43be-94be-404325e783bc",
   "metadata": {},
   "outputs": [],
   "source": [
    "movies[\"year\"] = movies[\"year\"].str.replace(r\"[^0-9]\", \"\", regex = True)"
   ]
  },
  {
   "cell_type": "code",
   "execution_count": 108,
   "id": "f88e8c5b-18e2-4fea-b2c2-4a3479df63e8",
   "metadata": {},
   "outputs": [
    {
     "data": {
      "text/plain": [
       "0         1966\n",
       "1         1979\n",
       "2         1981\n",
       "3         1960\n",
       "4         1960\n",
       "          ... \n",
       "633714    1996\n",
       "633715    1983\n",
       "633716    1972\n",
       "633717    1966\n",
       "633718    1958\n",
       "Name: year, Length: 633719, dtype: object"
      ]
     },
     "execution_count": 108,
     "metadata": {},
     "output_type": "execute_result"
    }
   ],
   "source": [
    "movies[\"year\"]"
   ]
  }
 ],
 "metadata": {
  "kernelspec": {
   "display_name": "Python 3 (ipykernel)",
   "language": "python",
   "name": "python3"
  },
  "language_info": {
   "codemirror_mode": {
    "name": "ipython",
    "version": 3
   },
   "file_extension": ".py",
   "mimetype": "text/x-python",
   "name": "python",
   "nbconvert_exporter": "python",
   "pygments_lexer": "ipython3",
   "version": "3.12.7"
  }
 },
 "nbformat": 4,
 "nbformat_minor": 5
}
