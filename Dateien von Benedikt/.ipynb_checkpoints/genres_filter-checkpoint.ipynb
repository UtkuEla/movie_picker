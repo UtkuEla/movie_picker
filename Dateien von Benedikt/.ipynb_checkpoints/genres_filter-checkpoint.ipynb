{
 "cells": [
  {
   "cell_type": "code",
   "execution_count": 1,
   "id": "64034a77-210e-4df7-bff9-e91d6e7c9dea",
   "metadata": {},
   "outputs": [],
   "source": [
    "import pandas as pd\n",
    "import numpy as np"
   ]
  },
  {
   "cell_type": "code",
   "execution_count": 2,
   "id": "4221c140-1824-41db-9837-365d1747f181",
   "metadata": {},
   "outputs": [],
   "source": [
    "movies = pd.read_parquet(\"movies.parquet\")\n",
    "movies = movies.replace(\"\", np.nan)"
   ]
  },
  {
   "cell_type": "code",
   "execution_count": 15,
   "id": "b91c921d-97af-473a-b95f-aacc7b46174f",
   "metadata": {
    "collapsed": true,
    "jupyter": {
     "outputs_hidden": true
    }
   },
   "outputs": [
    {
     "data": {
      "text/html": [
       "<div>\n",
       "<style scoped>\n",
       "    .dataframe tbody tr th:only-of-type {\n",
       "        vertical-align: middle;\n",
       "    }\n",
       "\n",
       "    .dataframe tbody tr th {\n",
       "        vertical-align: top;\n",
       "    }\n",
       "\n",
       "    .dataframe thead th {\n",
       "        text-align: right;\n",
       "    }\n",
       "</style>\n",
       "<table border=\"1\" class=\"dataframe\">\n",
       "  <thead>\n",
       "    <tr style=\"text-align: right;\">\n",
       "      <th></th>\n",
       "      <th>ImdbId</th>\n",
       "      <th>name</th>\n",
       "      <th>year</th>\n",
       "      <th>runtime</th>\n",
       "      <th>genre</th>\n",
       "      <th>ratingValue</th>\n",
       "      <th>summary_text</th>\n",
       "      <th>ratingCount</th>\n",
       "      <th>director</th>\n",
       "      <th>cast</th>\n",
       "    </tr>\n",
       "  </thead>\n",
       "  <tbody>\n",
       "    <tr>\n",
       "      <th>363178</th>\n",
       "      <td>tt6347332</td>\n",
       "      <td>Raul Roldan</td>\n",
       "      <td>1952</td>\n",
       "      <td>NaN</td>\n",
       "      <td>Action,  Adventure,  Drama</td>\n",
       "      <td>1.0</td>\n",
       "      <td>See the Strangest Adventure, The Most Faithful...</td>\n",
       "      <td>5</td>\n",
       "      <td>Billy Icasiano</td>\n",
       "      <td>Leila Morena, Efren Reyes, Fernando Royo, Patr...</td>\n",
       "    </tr>\n",
       "    <tr>\n",
       "      <th>497411</th>\n",
       "      <td>tt3476012</td>\n",
       "      <td>Zhongguo Yeren Wang</td>\n",
       "      <td>1940</td>\n",
       "      <td>NaN</td>\n",
       "      <td>Adventure</td>\n",
       "      <td>1.0</td>\n",
       "      <td>Add a Plot</td>\n",
       "      <td>6</td>\n",
       "      <td>Hoi-Ling Wan</td>\n",
       "      <td>Hou Yao, Fung Fung, Sau-Ying Chan, Ching Nga-K...</td>\n",
       "    </tr>\n",
       "    <tr>\n",
       "      <th>330376</th>\n",
       "      <td>tt8929514</td>\n",
       "      <td>My Stage</td>\n",
       "      <td>2018 TV Movie</td>\n",
       "      <td>84 min</td>\n",
       "      <td>Drama</td>\n",
       "      <td>1.0</td>\n",
       "      <td>Add a Plot</td>\n",
       "      <td>25</td>\n",
       "      <td>Mian-Mian Lu</td>\n",
       "      <td>Chen-Peng Kao, Chung-Heng Chu, Li-Yun Hsu</td>\n",
       "    </tr>\n",
       "    <tr>\n",
       "      <th>14473</th>\n",
       "      <td>tt0440154</td>\n",
       "      <td>Boogie special: 50 Cent</td>\n",
       "      <td>2003 TV Movie</td>\n",
       "      <td>26 min</td>\n",
       "      <td>Documentary,  Music</td>\n",
       "      <td>1.0</td>\n",
       "      <td>Boogie host Mikkel Herforth interviews the US ...</td>\n",
       "      <td>7</td>\n",
       "      <td>Mikkel Herforth</td>\n",
       "      <td>50 Cent</td>\n",
       "    </tr>\n",
       "    <tr>\n",
       "      <th>148050</th>\n",
       "      <td>tt7858840</td>\n",
       "      <td>Do or</td>\n",
       "      <td>2016 TV Movie</td>\n",
       "      <td>90 min</td>\n",
       "      <td>Drama</td>\n",
       "      <td>1.0</td>\n",
       "      <td>Add a Plot</td>\n",
       "      <td>40</td>\n",
       "      <td>Bon An</td>\n",
       "      <td>Ying-Hsuan Kao, Waa Wei, Kerr Hsu, Hsuan-yen Tsai</td>\n",
       "    </tr>\n",
       "    <tr>\n",
       "      <th>...</th>\n",
       "      <td>...</td>\n",
       "      <td>...</td>\n",
       "      <td>...</td>\n",
       "      <td>...</td>\n",
       "      <td>...</td>\n",
       "      <td>...</td>\n",
       "      <td>...</td>\n",
       "      <td>...</td>\n",
       "      <td>...</td>\n",
       "      <td>...</td>\n",
       "    </tr>\n",
       "    <tr>\n",
       "      <th>632714</th>\n",
       "      <td>tt0304788</td>\n",
       "      <td>Tango, canción de Buenos Aires</td>\n",
       "      <td>1978</td>\n",
       "      <td>NaN</td>\n",
       "      <td>Musical</td>\n",
       "      <td>NaN</td>\n",
       "      <td>Add a Plot</td>\n",
       "      <td>NaN</td>\n",
       "      <td>Abel Rubén Beltrami</td>\n",
       "      <td>Eduardo Ayala, Coco Fossati, Juan Valente, Ori...</td>\n",
       "    </tr>\n",
       "    <tr>\n",
       "      <th>632715</th>\n",
       "      <td>tt0304785</td>\n",
       "      <td>Talseon</td>\n",
       "      <td>1967</td>\n",
       "      <td>NaN</td>\n",
       "      <td>Drama</td>\n",
       "      <td>NaN</td>\n",
       "      <td>A married man carries on a secret, incestuous ...</td>\n",
       "      <td>NaN</td>\n",
       "      <td>Young Nam Ko</td>\n",
       "      <td>Sung-il Shin, Ji-mee Kim, Jeong-im Nam, No-shi...</td>\n",
       "    </tr>\n",
       "    <tr>\n",
       "      <th>632716</th>\n",
       "      <td>tt0304781</td>\n",
       "      <td>Taeyangeun neulgji anhneunda</td>\n",
       "      <td>1970</td>\n",
       "      <td>110 min</td>\n",
       "      <td>Drama,  Action</td>\n",
       "      <td>NaN</td>\n",
       "      <td>Add a Plot</td>\n",
       "      <td>NaN</td>\n",
       "      <td>Young Nam Ko</td>\n",
       "      <td>No-shik Park, Su-mi Oh, Jang-kang Heo</td>\n",
       "    </tr>\n",
       "    <tr>\n",
       "      <th>632717</th>\n",
       "      <td>tt0304780</td>\n",
       "      <td>T'es grand et puis t'oublies</td>\n",
       "      <td>1981 TV Movie</td>\n",
       "      <td>85 min</td>\n",
       "      <td>Drama</td>\n",
       "      <td>NaN</td>\n",
       "      <td>Add a Plot</td>\n",
       "      <td>NaN</td>\n",
       "      <td>Serge Moati</td>\n",
       "      <td>David Benassayag, Jean Cousin, Lucie Caries, M...</td>\n",
       "    </tr>\n",
       "    <tr>\n",
       "      <th>632718</th>\n",
       "      <td>tt0304773</td>\n",
       "      <td>The Swinging Nutcracker</td>\n",
       "      <td>2001 TV Movie</td>\n",
       "      <td>NaN</td>\n",
       "      <td>NaN</td>\n",
       "      <td>NaN</td>\n",
       "      <td>Add a Plot</td>\n",
       "      <td>NaN</td>\n",
       "      <td>Shel Piercy</td>\n",
       "      <td>Paul Becker, Ashley Hale, James Hibbard, Jeff ...</td>\n",
       "    </tr>\n",
       "  </tbody>\n",
       "</table>\n",
       "<p>633719 rows × 10 columns</p>\n",
       "</div>"
      ],
      "text/plain": [
       "           ImdbId                            name           year  runtime  \\\n",
       "363178  tt6347332                     Raul Roldan           1952      NaN   \n",
       "497411  tt3476012             Zhongguo Yeren Wang           1940      NaN   \n",
       "330376  tt8929514                        My Stage  2018 TV Movie   84 min   \n",
       "14473   tt0440154         Boogie special: 50 Cent  2003 TV Movie   26 min   \n",
       "148050  tt7858840                           Do or  2016 TV Movie   90 min   \n",
       "...           ...                             ...            ...      ...   \n",
       "632714  tt0304788  Tango, canción de Buenos Aires           1978      NaN   \n",
       "632715  tt0304785                         Talseon           1967      NaN   \n",
       "632716  tt0304781    Taeyangeun neulgji anhneunda           1970  110 min   \n",
       "632717  tt0304780    T'es grand et puis t'oublies  1981 TV Movie   85 min   \n",
       "632718  tt0304773         The Swinging Nutcracker  2001 TV Movie      NaN   \n",
       "\n",
       "                             genre ratingValue  \\\n",
       "363178  Action,  Adventure,  Drama         1.0   \n",
       "497411                   Adventure         1.0   \n",
       "330376                       Drama         1.0   \n",
       "14473          Documentary,  Music         1.0   \n",
       "148050                       Drama         1.0   \n",
       "...                            ...         ...   \n",
       "632714                     Musical         NaN   \n",
       "632715                       Drama         NaN   \n",
       "632716              Drama,  Action         NaN   \n",
       "632717                       Drama         NaN   \n",
       "632718                         NaN         NaN   \n",
       "\n",
       "                                             summary_text ratingCount  \\\n",
       "363178  See the Strangest Adventure, The Most Faithful...           5   \n",
       "497411                                         Add a Plot           6   \n",
       "330376                                         Add a Plot          25   \n",
       "14473   Boogie host Mikkel Herforth interviews the US ...           7   \n",
       "148050                                         Add a Plot          40   \n",
       "...                                                   ...         ...   \n",
       "632714                                         Add a Plot         NaN   \n",
       "632715  A married man carries on a secret, incestuous ...         NaN   \n",
       "632716                                         Add a Plot         NaN   \n",
       "632717                                         Add a Plot         NaN   \n",
       "632718                                         Add a Plot         NaN   \n",
       "\n",
       "                   director                                               cast  \n",
       "363178       Billy Icasiano  Leila Morena, Efren Reyes, Fernando Royo, Patr...  \n",
       "497411         Hoi-Ling Wan  Hou Yao, Fung Fung, Sau-Ying Chan, Ching Nga-K...  \n",
       "330376         Mian-Mian Lu          Chen-Peng Kao, Chung-Heng Chu, Li-Yun Hsu  \n",
       "14473       Mikkel Herforth                                            50 Cent  \n",
       "148050               Bon An  Ying-Hsuan Kao, Waa Wei, Kerr Hsu, Hsuan-yen Tsai  \n",
       "...                     ...                                                ...  \n",
       "632714  Abel Rubén Beltrami  Eduardo Ayala, Coco Fossati, Juan Valente, Ori...  \n",
       "632715         Young Nam Ko  Sung-il Shin, Ji-mee Kim, Jeong-im Nam, No-shi...  \n",
       "632716         Young Nam Ko              No-shik Park, Su-mi Oh, Jang-kang Heo  \n",
       "632717          Serge Moati  David Benassayag, Jean Cousin, Lucie Caries, M...  \n",
       "632718          Shel Piercy  Paul Becker, Ashley Hale, James Hibbard, Jeff ...  \n",
       "\n",
       "[633719 rows x 10 columns]"
      ]
     },
     "execution_count": 15,
     "metadata": {},
     "output_type": "execute_result"
    }
   ],
   "source": [
    "movies_rating_sorted = movies.sort_values(by = \"ratingValue\")\n",
    "movies_rating_sorted"
   ]
  },
  {
   "cell_type": "code",
   "execution_count": 4,
   "id": "27ea5888-3976-4a1f-86a6-6a1fc26d56eb",
   "metadata": {},
   "outputs": [
    {
     "data": {
      "text/plain": [
       "Index(['ImdbId', 'name', 'year', 'runtime', 'genre', 'ratingValue',\n",
       "       'summary_text', 'ratingCount', 'director', 'cast'],\n",
       "      dtype='object')"
      ]
     },
     "execution_count": 4,
     "metadata": {},
     "output_type": "execute_result"
    }
   ],
   "source": [
    "movies.columns"
   ]
  },
  {
   "cell_type": "code",
   "execution_count": 5,
   "id": "8553c080-d4c1-4bb7-b2f7-c7f450323cf8",
   "metadata": {},
   "outputs": [],
   "source": [
    "movies = movies.sort_values(by = \"ratingValue\")"
   ]
  },
  {
   "cell_type": "code",
   "execution_count": 31,
   "id": "3d84d85b-7364-4b6b-9cb5-cb320acb661e",
   "metadata": {},
   "outputs": [
    {
     "name": "stdin",
     "output_type": "stream",
     "text": [
      "Lieblings Genre?  action\n",
      "Rating?  1\n"
     ]
    }
   ],
   "source": [
    "lieblings_grenre = input( \"Lieblings Genre? \" )\n",
    "mindestrating = float(input(\"Rating? \" ))"
   ]
  },
  {
   "cell_type": "code",
   "execution_count": 44,
   "id": "9968dcb7-5631-41ce-824a-e974b5b2e1bf",
   "metadata": {},
   "outputs": [
    {
     "ename": "SyntaxError",
     "evalue": "incomplete input (1090445395.py, line 3)",
     "output_type": "error",
     "traceback": [
      "\u001b[1;36m  Cell \u001b[1;32mIn[44], line 3\u001b[1;36m\u001b[0m\n\u001b[1;33m    filt = ((movies[\"genre\"].str.contains(lieblings_grenre, ase=False, na=False, regex=True) & (movies[\"ratingValue\"].astype(float) >= mindestrating))\u001b[0m\n\u001b[1;37m                                                                                                                                                      ^\u001b[0m\n\u001b[1;31mSyntaxError\u001b[0m\u001b[1;31m:\u001b[0m incomplete input\n"
     ]
    }
   ],
   "source": [
    "#filt_genre = movies[\"genre\"].str.contains(lieblings_grenre, case=False)\n",
    "#filt_rating = movies[\"ratingValue\"].astype(float) >= mindestrating\n",
    "filt = ((movies[\"genre\"].str.contains(lieblings_grenre, case=False, na=False, regex=True) & (movies[\"ratingValue\"].astype(float) >= mindestrating)))"
   ]
  },
  {
   "cell_type": "code",
   "execution_count": 38,
   "id": "966b9cee-aa13-4253-82c3-d5475cd74532",
   "metadata": {},
   "outputs": [
    {
     "data": {
      "text/html": [
       "<div>\n",
       "<style scoped>\n",
       "    .dataframe tbody tr th:only-of-type {\n",
       "        vertical-align: middle;\n",
       "    }\n",
       "\n",
       "    .dataframe tbody tr th {\n",
       "        vertical-align: top;\n",
       "    }\n",
       "\n",
       "    .dataframe thead th {\n",
       "        text-align: right;\n",
       "    }\n",
       "</style>\n",
       "<table border=\"1\" class=\"dataframe\">\n",
       "  <thead>\n",
       "    <tr style=\"text-align: right;\">\n",
       "      <th></th>\n",
       "      <th>ImdbId</th>\n",
       "      <th>name</th>\n",
       "      <th>year</th>\n",
       "      <th>runtime</th>\n",
       "      <th>genre</th>\n",
       "      <th>ratingValue</th>\n",
       "      <th>summary_text</th>\n",
       "      <th>ratingCount</th>\n",
       "      <th>director</th>\n",
       "      <th>cast</th>\n",
       "    </tr>\n",
       "  </thead>\n",
       "  <tbody>\n",
       "  </tbody>\n",
       "</table>\n",
       "</div>"
      ],
      "text/plain": [
       "Empty DataFrame\n",
       "Columns: [ImdbId, name, year, runtime, genre, ratingValue, summary_text, ratingCount, director, cast]\n",
       "Index: []"
      ]
     },
     "execution_count": 38,
     "metadata": {},
     "output_type": "execute_result"
    }
   ],
   "source": [
    "movies_filt_rating = movies.loc[filt]\n",
    "movies_filt_rating.tail(50)"
   ]
  },
  {
   "cell_type": "code",
   "execution_count": 23,
   "id": "10030dcc-d12e-4e7e-b971-34881313bfd6",
   "metadata": {},
   "outputs": [
    {
     "data": {
      "text/plain": [
       "array(['Action'], dtype=object)"
      ]
     },
     "execution_count": 23,
     "metadata": {},
     "output_type": "execute_result"
    }
   ],
   "source": [
    "movies_filt_rating[\"genre\"].unique()"
   ]
  }
 ],
 "metadata": {
  "kernelspec": {
   "display_name": "Python 3 (ipykernel)",
   "language": "python",
   "name": "python3"
  },
  "language_info": {
   "codemirror_mode": {
    "name": "ipython",
    "version": 3
   },
   "file_extension": ".py",
   "mimetype": "text/x-python",
   "name": "python",
   "nbconvert_exporter": "python",
   "pygments_lexer": "ipython3",
   "version": "3.12.7"
  }
 },
 "nbformat": 4,
 "nbformat_minor": 5
}
