{
 "cells": [
  {
   "cell_type": "code",
   "execution_count": null,
   "id": "f20f074b-b0a0-4d2b-a9c0-d1241a1dd84a",
   "metadata": {},
   "outputs": [],
   "source": [
    "#https://www.kaggle.com/datasets/pavan4kalyan/imdb-dataset-of-600k-international-movies?resource=download"
   ]
  },
  {
   "cell_type": "code",
   "execution_count": 2,
   "id": "342c2291-64c8-4ba2-a5d9-2de4951325d8",
   "metadata": {
    "collapsed": true,
    "jupyter": {
     "outputs_hidden": true
    },
    "scrolled": true
   },
   "outputs": [
    {
     "name": "stdout",
     "output_type": "stream",
     "text": [
      "Collecting kagglehub\n",
      "  Downloading kagglehub-0.3.7-py3-none-any.whl.metadata (30 kB)\n",
      "Collecting model-signing (from kagglehub)\n",
      "  Downloading model_signing-0.2.0-py3-none-any.whl.metadata (26 kB)\n",
      "Requirement already satisfied: packaging in c:\\users\\bened\\anaconda3\\lib\\site-packages (from kagglehub) (24.1)\n",
      "Requirement already satisfied: requests in c:\\users\\bened\\anaconda3\\lib\\site-packages (from kagglehub) (2.32.3)\n",
      "Requirement already satisfied: tqdm in c:\\users\\bened\\anaconda3\\lib\\site-packages (from kagglehub) (4.66.5)\n",
      "Requirement already satisfied: cryptography in c:\\users\\bened\\anaconda3\\lib\\site-packages (from model-signing->kagglehub) (43.0.0)\n",
      "Collecting in-toto-attestation (from model-signing->kagglehub)\n",
      "  Downloading in_toto_attestation-0.9.3-py3-none-any.whl.metadata (2.6 kB)\n",
      "Collecting sigstore (from model-signing->kagglehub)\n",
      "  Downloading sigstore-3.6.1-py3-none-any.whl.metadata (15 kB)\n",
      "Requirement already satisfied: typing-extensions in c:\\users\\bened\\anaconda3\\lib\\site-packages (from model-signing->kagglehub) (4.12.2)\n",
      "Requirement already satisfied: charset-normalizer<4,>=2 in c:\\users\\bened\\anaconda3\\lib\\site-packages (from requests->kagglehub) (3.3.2)\n",
      "Requirement already satisfied: idna<4,>=2.5 in c:\\users\\bened\\anaconda3\\lib\\site-packages (from requests->kagglehub) (3.7)\n",
      "Requirement already satisfied: urllib3<3,>=1.21.1 in c:\\users\\bened\\anaconda3\\lib\\site-packages (from requests->kagglehub) (2.2.3)\n",
      "Requirement already satisfied: certifi>=2017.4.17 in c:\\users\\bened\\anaconda3\\lib\\site-packages (from requests->kagglehub) (2024.8.30)\n",
      "Requirement already satisfied: colorama in c:\\users\\bened\\anaconda3\\lib\\site-packages (from tqdm->kagglehub) (0.4.6)\n",
      "Requirement already satisfied: cffi>=1.12 in c:\\users\\bened\\anaconda3\\lib\\site-packages (from cryptography->model-signing->kagglehub) (1.17.1)\n",
      "Requirement already satisfied: protobuf in c:\\users\\bened\\anaconda3\\lib\\site-packages (from in-toto-attestation->model-signing->kagglehub) (4.25.3)\n",
      "Collecting id>=1.1.0 (from sigstore->model-signing->kagglehub)\n",
      "  Downloading id-1.5.0-py3-none-any.whl.metadata (5.2 kB)\n",
      "Collecting pyasn1~=0.6 (from sigstore->model-signing->kagglehub)\n",
      "  Downloading pyasn1-0.6.1-py3-none-any.whl.metadata (8.4 kB)\n",
      "Requirement already satisfied: pydantic<3,>=2 in c:\\users\\bened\\anaconda3\\lib\\site-packages (from sigstore->model-signing->kagglehub) (2.8.2)\n",
      "Requirement already satisfied: pyjwt>=2.1 in c:\\users\\bened\\anaconda3\\lib\\site-packages (from sigstore->model-signing->kagglehub) (2.8.0)\n",
      "Requirement already satisfied: pyOpenSSL>=23.0.0 in c:\\users\\bened\\anaconda3\\lib\\site-packages (from sigstore->model-signing->kagglehub) (24.2.1)\n",
      "Requirement already satisfied: rich~=13.0 in c:\\users\\bened\\anaconda3\\lib\\site-packages (from sigstore->model-signing->kagglehub) (13.7.1)\n",
      "Collecting rfc8785~=0.1.2 (from sigstore->model-signing->kagglehub)\n",
      "  Downloading rfc8785-0.1.4-py3-none-any.whl.metadata (3.4 kB)\n",
      "Collecting rfc3161-client~=0.1.2 (from sigstore->model-signing->kagglehub)\n",
      "  Downloading rfc3161_client-0.1.2-cp39-abi3-win_amd64.whl.metadata (3.0 kB)\n",
      "Collecting sigstore-protobuf-specs==0.3.2 (from sigstore->model-signing->kagglehub)\n",
      "  Downloading sigstore_protobuf_specs-0.3.2-py3-none-any.whl.metadata (1.4 kB)\n",
      "Collecting sigstore-rekor-types==0.0.18 (from sigstore->model-signing->kagglehub)\n",
      "  Downloading sigstore_rekor_types-0.0.18-py3-none-any.whl.metadata (13 kB)\n",
      "Collecting tuf~=5.0 (from sigstore->model-signing->kagglehub)\n",
      "  Downloading tuf-5.1.0-py3-none-any.whl.metadata (7.9 kB)\n",
      "Collecting platformdirs~=4.2 (from sigstore->model-signing->kagglehub)\n",
      "  Downloading platformdirs-4.3.6-py3-none-any.whl.metadata (11 kB)\n",
      "Collecting betterproto==2.0.0b6 (from sigstore-protobuf-specs==0.3.2->sigstore->model-signing->kagglehub)\n",
      "  Downloading betterproto-2.0.0b6-py3-none-any.whl.metadata (17 kB)\n",
      "Collecting grpclib<0.5.0,>=0.4.1 (from betterproto==2.0.0b6->sigstore-protobuf-specs==0.3.2->sigstore->model-signing->kagglehub)\n",
      "  Downloading grpclib-0.4.7.tar.gz (61 kB)\n",
      "  Installing build dependencies: started\n",
      "  Installing build dependencies: finished with status 'done'\n",
      "  Getting requirements to build wheel: started\n",
      "  Getting requirements to build wheel: finished with status 'done'\n",
      "  Preparing metadata (pyproject.toml): started\n",
      "  Preparing metadata (pyproject.toml): finished with status 'done'\n",
      "Requirement already satisfied: python-dateutil<3.0,>=2.8 in c:\\users\\bened\\anaconda3\\lib\\site-packages (from betterproto==2.0.0b6->sigstore-protobuf-specs==0.3.2->sigstore->model-signing->kagglehub) (2.9.0.post0)\n",
      "Requirement already satisfied: pycparser in c:\\users\\bened\\anaconda3\\lib\\site-packages (from cffi>=1.12->cryptography->model-signing->kagglehub) (2.21)\n",
      "Requirement already satisfied: annotated-types>=0.4.0 in c:\\users\\bened\\anaconda3\\lib\\site-packages (from pydantic<3,>=2->sigstore->model-signing->kagglehub) (0.6.0)\n",
      "Requirement already satisfied: pydantic-core==2.20.1 in c:\\users\\bened\\anaconda3\\lib\\site-packages (from pydantic<3,>=2->sigstore->model-signing->kagglehub) (2.20.1)\n",
      "Requirement already satisfied: markdown-it-py>=2.2.0 in c:\\users\\bened\\anaconda3\\lib\\site-packages (from rich~=13.0->sigstore->model-signing->kagglehub) (2.2.0)\n",
      "Requirement already satisfied: pygments<3.0.0,>=2.13.0 in c:\\users\\bened\\anaconda3\\lib\\site-packages (from rich~=13.0->sigstore->model-signing->kagglehub) (2.15.1)\n",
      "Collecting securesystemslib~=1.0 (from tuf~=5.0->sigstore->model-signing->kagglehub)\n",
      "  Downloading securesystemslib-1.2.0-py3-none-any.whl.metadata (4.8 kB)\n",
      "Requirement already satisfied: mdurl~=0.1 in c:\\users\\bened\\anaconda3\\lib\\site-packages (from markdown-it-py>=2.2.0->rich~=13.0->sigstore->model-signing->kagglehub) (0.1.0)\n",
      "Collecting email-validator>=2.0.0 (from pydantic[email]<3,>=2->sigstore-rekor-types==0.0.18->sigstore->model-signing->kagglehub)\n",
      "  Downloading email_validator-2.2.0-py3-none-any.whl.metadata (25 kB)\n",
      "Collecting dnspython>=2.0.0 (from email-validator>=2.0.0->pydantic[email]<3,>=2->sigstore-rekor-types==0.0.18->sigstore->model-signing->kagglehub)\n",
      "  Downloading dnspython-2.7.0-py3-none-any.whl.metadata (5.8 kB)\n",
      "Collecting h2<5,>=3.1.0 (from grpclib<0.5.0,>=0.4.1->betterproto==2.0.0b6->sigstore-protobuf-specs==0.3.2->sigstore->model-signing->kagglehub)\n",
      "  Downloading h2-4.2.0-py3-none-any.whl.metadata (5.1 kB)\n",
      "Requirement already satisfied: multidict in c:\\users\\bened\\anaconda3\\lib\\site-packages (from grpclib<0.5.0,>=0.4.1->betterproto==2.0.0b6->sigstore-protobuf-specs==0.3.2->sigstore->model-signing->kagglehub) (6.0.4)\n",
      "Requirement already satisfied: six>=1.5 in c:\\users\\bened\\anaconda3\\lib\\site-packages (from python-dateutil<3.0,>=2.8->betterproto==2.0.0b6->sigstore-protobuf-specs==0.3.2->sigstore->model-signing->kagglehub) (1.16.0)\n",
      "Collecting hyperframe<7,>=6.1 (from h2<5,>=3.1.0->grpclib<0.5.0,>=0.4.1->betterproto==2.0.0b6->sigstore-protobuf-specs==0.3.2->sigstore->model-signing->kagglehub)\n",
      "  Downloading hyperframe-6.1.0-py3-none-any.whl.metadata (4.3 kB)\n",
      "Collecting hpack<5,>=4.1 (from h2<5,>=3.1.0->grpclib<0.5.0,>=0.4.1->betterproto==2.0.0b6->sigstore-protobuf-specs==0.3.2->sigstore->model-signing->kagglehub)\n",
      "  Downloading hpack-4.1.0-py3-none-any.whl.metadata (4.6 kB)\n",
      "Downloading kagglehub-0.3.7-py3-none-any.whl (54 kB)\n",
      "Downloading model_signing-0.2.0-py3-none-any.whl (63 kB)\n",
      "Downloading in_toto_attestation-0.9.3-py3-none-any.whl (13 kB)\n",
      "Downloading sigstore-3.6.1-py3-none-any.whl (99 kB)\n",
      "Downloading sigstore_protobuf_specs-0.3.2-py3-none-any.whl (24 kB)\n",
      "Downloading sigstore_rekor_types-0.0.18-py3-none-any.whl (20 kB)\n",
      "Downloading betterproto-2.0.0b6-py3-none-any.whl (64 kB)\n",
      "Downloading id-1.5.0-py3-none-any.whl (13 kB)\n",
      "Downloading platformdirs-4.3.6-py3-none-any.whl (18 kB)\n",
      "Downloading pyasn1-0.6.1-py3-none-any.whl (83 kB)\n",
      "Downloading rfc3161_client-0.1.2-cp39-abi3-win_amd64.whl (2.2 MB)\n",
      "   ---------------------------------------- 0.0/2.2 MB ? eta -:--:--\n",
      "   -------------------------------------- - 2.1/2.2 MB 11.8 MB/s eta 0:00:01\n",
      "   ---------------------------------------- 2.2/2.2 MB 9.4 MB/s eta 0:00:00\n",
      "Downloading rfc8785-0.1.4-py3-none-any.whl (9.2 kB)\n",
      "Downloading tuf-5.1.0-py3-none-any.whl (50 kB)\n",
      "Downloading securesystemslib-1.2.0-py3-none-any.whl (870 kB)\n",
      "   ---------------------------------------- 0.0/870.8 kB ? eta -:--:--\n",
      "   ---------------------------------------- 870.8/870.8 kB 9.8 MB/s eta 0:00:00\n",
      "Downloading email_validator-2.2.0-py3-none-any.whl (33 kB)\n",
      "Downloading dnspython-2.7.0-py3-none-any.whl (313 kB)\n",
      "Downloading h2-4.2.0-py3-none-any.whl (60 kB)\n",
      "Downloading hpack-4.1.0-py3-none-any.whl (34 kB)\n",
      "Downloading hyperframe-6.1.0-py3-none-any.whl (13 kB)\n",
      "Building wheels for collected packages: grpclib\n",
      "  Building wheel for grpclib (pyproject.toml): started\n",
      "  Building wheel for grpclib (pyproject.toml): finished with status 'done'\n",
      "  Created wheel for grpclib: filename=grpclib-0.4.7-py3-none-any.whl size=76255 sha256=2c23ecb7044cbcb00483c81db87e0758b3af03b321859f6469d4a6dc9de06f2d\n",
      "  Stored in directory: c:\\users\\bened\\appdata\\local\\pip\\cache\\wheels\\2f\\c3\\8a\\5d9ac03578acaa3fcb488bab3f5e6664594ca88dd8f5494ee9\n",
      "Successfully built grpclib\n",
      "Installing collected packages: securesystemslib, rfc8785, pyasn1, platformdirs, in-toto-attestation, hyperframe, hpack, dnspython, tuf, id, h2, email-validator, rfc3161-client, grpclib, sigstore-rekor-types, betterproto, sigstore-protobuf-specs, sigstore, model-signing, kagglehub\n",
      "  Attempting uninstall: pyasn1\n",
      "    Found existing installation: pyasn1 0.4.8\n",
      "    Uninstalling pyasn1-0.4.8:\n",
      "      Successfully uninstalled pyasn1-0.4.8\n",
      "  Attempting uninstall: platformdirs\n",
      "    Found existing installation: platformdirs 3.10.0\n",
      "    Uninstalling platformdirs-3.10.0:\n",
      "      Successfully uninstalled platformdirs-3.10.0\n",
      "Successfully installed betterproto-2.0.0b6 dnspython-2.7.0 email-validator-2.2.0 grpclib-0.4.7 h2-4.2.0 hpack-4.1.0 hyperframe-6.1.0 id-1.5.0 in-toto-attestation-0.9.3 kagglehub-0.3.7 model-signing-0.2.0 platformdirs-4.3.6 pyasn1-0.6.1 rfc3161-client-0.1.2 rfc8785-0.1.4 securesystemslib-1.2.0 sigstore-3.6.1 sigstore-protobuf-specs-0.3.2 sigstore-rekor-types-0.0.18 tuf-5.1.0\n"
     ]
    },
    {
     "name": "stderr",
     "output_type": "stream",
     "text": [
      "ERROR: pip's dependency resolver does not currently take into account all the packages that are installed. This behaviour is the source of the following dependency conflicts.\n",
      "pyasn1-modules 0.2.8 requires pyasn1<0.5.0,>=0.4.6, but you have pyasn1 0.6.1 which is incompatible.\n"
     ]
    },
    {
     "name": "stdout",
     "output_type": "stream",
     "text": [
      "Downloading from https://www.kaggle.com/api/v1/datasets/download/pavan4kalyan/imdb-dataset-of-600k-international-movies?dataset_version_number=3...\n"
     ]
    },
    {
     "name": "stderr",
     "output_type": "stream",
     "text": [
      "100%|██████████| 104M/104M [00:10<00:00, 10.7MB/s] "
     ]
    },
    {
     "name": "stdout",
     "output_type": "stream",
     "text": [
      "Extracting files...\n"
     ]
    },
    {
     "name": "stderr",
     "output_type": "stream",
     "text": [
      "\n"
     ]
    },
    {
     "name": "stdout",
     "output_type": "stream",
     "text": [
      "Path to dataset files: C:\\Users\\bened\\.cache\\kagglehub\\datasets\\pavan4kalyan\\imdb-dataset-of-600k-international-movies\\versions\\3\n"
     ]
    }
   ],
   "source": [
    "!pip install kagglehub\n",
    "import kagglehub\n",
    "\n",
    "# Download latest version\n",
    "path = kagglehub.dataset_download(\"pavan4kalyan/imdb-dataset-of-600k-international-movies\")\n",
    "\n",
    "print(\"Path to dataset files:\", path)"
   ]
  },
  {
   "cell_type": "code",
   "execution_count": null,
   "id": "753476f2-b399-439e-841f-cf6b8f302cde",
   "metadata": {},
   "outputs": [],
   "source": [
    "# fix ERROR: pip's dependency resolver does not currently take into account all the packages that are installed. This behaviour is the source of the following dependency conflicts.\n",
    "#!conda remove --force pyasn1-modules\n",
    "#!pip install pyasn1-modules"
   ]
  }
 ],
 "metadata": {
  "kernelspec": {
   "display_name": "Python 3 (ipykernel)",
   "language": "python",
   "name": "python3"
  },
  "language_info": {
   "codemirror_mode": {
    "name": "ipython",
    "version": 3
   },
   "file_extension": ".py",
   "mimetype": "text/x-python",
   "name": "python",
   "nbconvert_exporter": "python",
   "pygments_lexer": "ipython3",
   "version": "3.12.7"
  }
 },
 "nbformat": 4,
 "nbformat_minor": 5
}
