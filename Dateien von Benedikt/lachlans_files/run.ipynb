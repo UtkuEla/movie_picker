{
 "cells": [
  {
   "cell_type": "code",
   "execution_count": 14,
   "id": "e74b2a33-c500-49af-b3c1-6c15933fbaac",
   "metadata": {},
   "outputs": [
    {
     "name": "stdout",
     "output_type": "stream",
     "text": [
      "Welcome to the Movie Recommendation System\n",
      "Please choose an option:\n",
      "1. Explore by genre (Branch 1)\n",
      "2. Search directly by movie title (Branch 2)\n"
     ]
    },
    {
     "name": "stdin",
     "output_type": "stream",
     "text": [
      "Enter 1 or 2:  1\n"
     ]
    },
    {
     "name": "stdout",
     "output_type": "stream",
     "text": [
      "\n",
      "Available Genres:\n",
      "Action, Adventure, Animation, Comedy, Crime, Documentary, Drama, Family, Fantasy, History, Horror, Music, Mystery, Romance, Science Fiction, Thriller, Tv Movie, War, Western\n",
      "\n"
     ]
    },
    {
     "name": "stdin",
     "output_type": "stream",
     "text": [
      "Enter a genre:  Action\n"
     ]
    },
    {
     "name": "stdout",
     "output_type": "stream",
     "text": [
      "\n",
      "Top 10 Action Movies (Ranked by Weighted Rating):\n",
      "\n",
      "+---------------------------------------------------+-------------------+--------------+------------+\n",
      "|                       title                       |       score       | vote_average | vote_count |\n",
      "+---------------------------------------------------+-------------------+--------------+------------+\n",
      "|                  The Dark Knight                  | 8.479128257350427 |     8.5      |   33504    |\n",
      "|   The Lord of the Rings: The Return of the King   | 8.453053543780685 |    8.481     |   24763    |\n",
      "|                     Inception                     | 8.381896471447988 |     8.4      |   37134    |\n",
      "| The Lord of the Rings: The Fellowship of the Ring | 8.373910276957323 |     8.4      |   25682    |\n",
      "|       The Lord of the Rings: The Two Towers       | 8.370985948607402 |    8.401     |   22297    |\n",
      "|              The Empire Strikes Back              | 8.36129554773485  |     8.4      |   17221    |\n",
      "|         Spider-Man: Into the Spider-Verse         | 8.355305275506172 |    8.397     |   15946    |\n",
      "|                   Seven Samurai                   | 8.288461317802474 |    8.458     |    3812    |\n",
      "|              Léon: The Professional               | 8.257602375469164 |     8.3      |   15041    |\n",
      "|                      Oldboy                       | 8.229009814166806 |     8.3      |    8871    |\n",
      "+---------------------------------------------------+-------------------+--------------+------------+\n",
      "\n",
      "If you want to search for more Action movies, we can search by movie.\n"
     ]
    },
    {
     "name": "stdin",
     "output_type": "stream",
     "text": [
      "\n",
      "Enter a movie:  Seven Samurai\n"
     ]
    },
    {
     "name": "stdout",
     "output_type": "stream",
     "text": [
      "\n",
      "Top 10 Action Movies Similar to Seven Samurai:\n",
      "\n",
      "+----------------------------------+--------------------+--------------+------------+\n",
      "|              title               |       score        | vote_average | vote_count |\n",
      "+----------------------------------+--------------------+--------------+------------+\n",
      "|             Sanjuro              | 7.332938926783315  |    7.941     |    626     |\n",
      "|         The Last Samurai         | 7.5256566049719895 |    7.588     |    6965    |\n",
      "|   The Man with the Iron Fists    | 5.597302126466655  |    5.507     |    1128    |\n",
      "|           Son of a Gun           | 6.262544817827698  |    6.371     |    766     |\n",
      "| Teenage Mutant Ninja Turtles III | 5.615822812050419  |     5.5      |    835     |\n",
      "|       In the Line of Fire        |  6.8474911539503   |     7.0      |    1611    |\n",
      "|      The Magnificent Seven       | 7.302979364762233  |    7.508     |    1816    |\n",
      "|           13 Assassins           | 7.038571984385726  |     7.3      |    1143    |\n",
      "|           Money Talks            | 5.984873747844253  |     6.0      |    389     |\n",
      "|             Bunraku              | 5.929567261789844  |     5.9      |    321     |\n",
      "+----------------------------------+--------------------+--------------+------------+\n"
     ]
    }
   ],
   "source": [
    "%run main.py"
   ]
  }
 ],
 "metadata": {
  "kernelspec": {
   "display_name": "Python 3 (ipykernel)",
   "language": "python",
   "name": "python3"
  },
  "language_info": {
   "codemirror_mode": {
    "name": "ipython",
    "version": 3
   },
   "file_extension": ".py",
   "mimetype": "text/x-python",
   "name": "python",
   "nbconvert_exporter": "python",
   "pygments_lexer": "ipython3",
   "version": "3.12.7"
  }
 },
 "nbformat": 4,
 "nbformat_minor": 5
}
