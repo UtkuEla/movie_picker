{
 "cells": [
  {
   "cell_type": "code",
   "execution_count": null,
   "id": "e74b2a33-c500-49af-b3c1-6c15933fbaac",
   "metadata": {},
   "outputs": [
    {
     "name": "stdout",
     "output_type": "stream",
     "text": [
      "\n",
      "==================================================\n",
      "Welcome to the Movie Recommendation System\n",
      "Please choose an option:\n",
      "1. Explore by genre (Branch 1)\n",
      "2. Search directly by movie title (Branch 2)\n",
      "3. Exit\n"
     ]
    },
    {
     "name": "stdin",
     "output_type": "stream",
     "text": [
      "Enter 1, 2, or 3:  1\n"
     ]
    },
    {
     "name": "stdout",
     "output_type": "stream",
     "text": [
      "\n",
      "Available Genres:\n",
      "Action, Adventure, Animation, Comedy, Crime, Documentary, Drama, Family, Fantasy, History, Horror, Music, Mystery, Romance, Science Fiction, Thriller, Tv Movie, War, Western\n",
      "\n"
     ]
    },
    {
     "name": "stdin",
     "output_type": "stream",
     "text": [
      "Enter a genre:  Action\n"
     ]
    },
    {
     "name": "stdout",
     "output_type": "stream",
     "text": [
      "\n",
      "Top 10 Action Movies (Ranked by Weighted Rating):\n",
      "\n",
      "+---------------------------------------------------+-------+--------------+------------+\n",
      "|                       title                       | score | vote_average | vote_count |\n",
      "+---------------------------------------------------+-------+--------------+------------+\n",
      "|                  The Dark Knight                  | 8.48  |     8.5      |   33504    |\n",
      "|   The Lord of the Rings: The Return of the King   | 8.45  |     8.48     |   24763    |\n",
      "|                     Inception                     | 8.38  |     8.4      |   37134    |\n",
      "| The Lord of the Rings: The Fellowship of the Ring | 8.37  |     8.4      |   25682    |\n",
      "|       The Lord of the Rings: The Two Towers       | 8.37  |     8.4      |   22297    |\n",
      "|              The Empire Strikes Back              | 8.36  |     8.4      |   17221    |\n",
      "|         Spider-Man: Into the Spider-Verse         | 8.36  |     8.4      |   15946    |\n",
      "|                   Seven Samurai                   | 8.29  |     8.46     |    3812    |\n",
      "|              Léon: The Professional               | 8.26  |     8.3      |   15041    |\n",
      "|                      Oldboy                       | 8.23  |     8.3      |    8871    |\n",
      "+---------------------------------------------------+-------+--------------+------------+\n",
      "\n",
      "If you want to search for more Action movies, we can search by movie.\n"
     ]
    },
    {
     "name": "stdin",
     "output_type": "stream",
     "text": [
      "\n",
      "Enter a movie:  Seven Samurai\n",
      "\n",
      "How many recommendations would you like to see? (5-50):  15\n"
     ]
    },
    {
     "name": "stdout",
     "output_type": "stream",
     "text": [
      "\n",
      "Top 15 Action Movies Similar to Seven Samurai:\n",
      "\n",
      "+----------------------+-------+--------------+------------+------------------+\n",
      "|        title         | score | vote_average | vote_count | similarity_score |\n",
      "+----------------------+-------+--------------+------------+------------------+\n",
      "|       Sanjuro        | 7.33  |     7.94     |    626     |       0.45       |\n",
      "|       Yojimbo        | 7.76  |     8.1      |    1490    |       0.34       |\n",
      "| The Hidden Fortress  | 7.38  |     8.0      |    630     |       0.34       |\n",
      "|      Kagemusha       | 7.26  |     7.8      |    664     |       0.33       |\n",
      "|   Throne of Blood    | 7.45  |     7.92     |    882     |       0.31       |\n",
      "|         Ran          | 7.74  |     8.06     |    1583    |       0.3        |\n",
      "|     13 Assassins     | 7.04  |     7.3      |    1143    |       0.28       |\n",
      "|       Harakiri       |  7.9  |     8.41     |    1040    |       0.27       |\n",
      "| The Twilight Samurai | 6.94  |     7.8      |    318     |       0.27       |\n",
      "|     Dersu Uzala      | 7.25  |     7.9      |    553     |       0.27       |\n",
      "|        Ugetsu        | 7.34  |     8.0      |    583     |       0.25       |\n",
      "|      Red Beard       | 7.18  |     8.1      |    370     |       0.25       |\n",
      "|       47 Ronin       | 6.18  |     6.2      |    3866    |       0.24       |\n",
      "|       Rashomon       | 7.84  |     8.07     |    2272    |       0.24       |\n",
      "|      Stray Dog       | 6.77  |     7.5      |    311     |       0.22       |\n",
      "+----------------------+-------+--------------+------------+------------------+\n"
     ]
    },
    {
     "name": "stdin",
     "output_type": "stream",
     "text": [
      "\n",
      "Would you like to make another search? (y/n):  y\n"
     ]
    },
    {
     "name": "stdout",
     "output_type": "stream",
     "text": [
      "\n",
      "==================================================\n",
      "Welcome to the Movie Recommendation System\n",
      "Please choose an option:\n",
      "1. Explore by genre (Branch 1)\n",
      "2. Search directly by movie title (Branch 2)\n",
      "3. Exit\n"
     ]
    },
    {
     "name": "stdin",
     "output_type": "stream",
     "text": [
      "Enter 1, 2, or 3:  2\n",
      "\n",
      "Enter a movie:  Seven Samurai\n",
      "\n",
      "How many recommendations would you like to see? (5-50):  25\n"
     ]
    },
    {
     "name": "stdout",
     "output_type": "stream",
     "text": [
      "\n",
      "Top 25 Movies Similar to Seven Samurai:\n",
      "\n",
      "+----------------------------------------+-------+--------------+------------+------------------+\n",
      "|                 title                  | score | vote_average | vote_count | similarity_score |\n",
      "+----------------------------------------+-------+--------------+------------+------------------+\n",
      "|                Sanjuro                 | 7.33  |     7.94     |    626     |       0.45       |\n",
      "|                Yojimbo                 | 7.76  |     8.1      |    1490    |       0.34       |\n",
      "|          The Hidden Fortress           | 7.38  |     8.0      |    630     |       0.34       |\n",
      "|               Kagemusha                | 7.26  |     7.8      |    664     |       0.33       |\n",
      "|            Throne of Blood             | 7.45  |     7.92     |    882     |       0.31       |\n",
      "|                  Ran                   | 7.74  |     8.06     |    1583    |       0.3        |\n",
      "|              13 Assassins              | 7.04  |     7.3      |    1143    |       0.28       |\n",
      "|                Harakiri                |  7.9  |     8.41     |    1040    |       0.27       |\n",
      "|          The Twilight Samurai          | 6.94  |     7.8      |    318     |       0.27       |\n",
      "|              Dersu Uzala               | 7.25  |     7.9      |    553     |       0.27       |\n",
      "|                 Ugetsu                 | 7.34  |     8.0      |    583     |       0.25       |\n",
      "|               Red Beard                | 7.18  |     8.1      |    370     |       0.25       |\n",
      "|                47 Ronin                | 6.18  |     6.2      |    3866    |       0.24       |\n",
      "|                Rashomon                | 7.84  |     8.07     |    2272    |       0.24       |\n",
      "|               Stray Dog                | 6.77  |     7.5      |    311     |       0.22       |\n",
      "| Rurouni Kenshin Part II: Kyoto Inferno | 7.08  |     7.6      |    589     |       0.22       |\n",
      "|       Rurouni Kenshin: The Final       | 7.08  |     7.72     |    490     |       0.22       |\n",
      "|                 Dreams                 | 7.06  |     7.7      |    480     |       0.21       |\n",
      "|     Rurouni Kenshin: The Beginning     | 7.04  |     7.68     |    467     |       0.21       |\n",
      "|                Headshot                | 6.23  |     6.4      |    448     |       0.21       |\n",
      "|                Onibaba                 | 7.02  |     7.7      |    427     |       0.2        |\n",
      "|                Bunraku                 | 5.93  |     5.9      |    321     |       0.2        |\n",
      "|            The Last Samurai            | 7.53  |     7.59     |    6965    |       0.19       |\n",
      "|       Once Upon a Time in China        | 6.68  |     7.15     |    423     |       0.19       |\n",
      "|                 Ikiru                  | 7.85  |     8.3      |    1176    |       0.19       |\n",
      "+----------------------------------------+-------+--------------+------------+------------------+\n"
     ]
    }
   ],
   "source": [
    "%run main.py"
   ]
  }
 ],
 "metadata": {
  "kernelspec": {
   "display_name": "Python 3 (ipykernel)",
   "language": "python",
   "name": "python3"
  },
  "language_info": {
   "codemirror_mode": {
    "name": "ipython",
    "version": 3
   },
   "file_extension": ".py",
   "mimetype": "text/x-python",
   "name": "python",
   "nbconvert_exporter": "python",
   "pygments_lexer": "ipython3",
   "version": "3.12.7"
  }
 },
 "nbformat": 4,
 "nbformat_minor": 5
}
