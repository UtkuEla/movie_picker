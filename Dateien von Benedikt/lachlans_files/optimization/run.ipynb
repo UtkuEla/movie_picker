{
 "cells": [
  {
   "cell_type": "code",
   "execution_count": null,
   "id": "e74b2a33-c500-49af-b3c1-6c15933fbaac",
   "metadata": {},
   "outputs": [
    {
     "name": "stdout",
     "output_type": "stream",
     "text": [
      "\n",
      "==================================================\n",
      "Welcome to the Movie Recommendation System\n",
      "Please choose an option:\n",
      "1. Explore by genre (Branch 1)\n",
      "2. Search directly by movie title (Branch 2)\n",
      "3. Exit\n"
     ]
    },
    {
     "name": "stdin",
     "output_type": "stream",
     "text": [
      "Enter 1, 2, or 3:  2\n",
      "\n",
      "Enter a movie:  Seven Samurai\n",
      "\n",
      "How many recommendations would you like to see? (5-50):  15\n"
     ]
    },
    {
     "name": "stdout",
     "output_type": "stream",
     "text": [
      "\n",
      "Top 15 Movies Similar to Seven Samurai:\n",
      "\n",
      "+----------------------+--------------------+--------------+------------+------------------+\n",
      "|        title         |       score        | vote_average | vote_count | similarity_score |\n",
      "+----------------------+--------------------+--------------+------------+------------------+\n",
      "|       Sanjuro        | 7.332938926783315  |    7.941     |    626     |       0.69       |\n",
      "|      Kagemusha       | 7.258079394705007  |     7.8      |    664     |       0.66       |\n",
      "| The Hidden Fortress  | 7.376553733273256  |     8.0      |    630     |       0.64       |\n",
      "|   Throne of Blood    | 7.450404129148377  |    7.919     |    882     |       0.64       |\n",
      "|       Yojimbo        | 7.764089813242148  |     8.1      |    1490    |       0.63       |\n",
      "|         Ran          | 7.743449107905489  |    8.056     |    1583    |       0.59       |\n",
      "|       Rashomon       | 7.839481878357693  |    8.069     |    2272    |       0.56       |\n",
      "|      Stray Dog       | 6.774890984400877  |     7.5      |    311     |       0.55       |\n",
      "|     Dersu Uzala      | 7.252239217583775  |     7.9      |    553     |       0.54       |\n",
      "|      Red Beard       | 7.183504305265613  |     8.1      |    370     |       0.54       |\n",
      "|        Dreams        | 7.063206846717833  |     7.7      |    480     |       0.5        |\n",
      "|     High and Low     | 7.801271001475666  |    8.339     |    950     |       0.47       |\n",
      "|        Ikiru         | 7.8533086587428595 |     8.3      |    1176    |       0.45       |\n",
      "|       Harakiri       | 7.897170553726947  |    8.414     |    1040    |       0.38       |\n",
      "| The Twilight Samurai | 6.943474479550531  |     7.8      |    318     |       0.37       |\n",
      "+----------------------+--------------------+--------------+------------+------------------+\n"
     ]
    },
    {
     "name": "stdin",
     "output_type": "stream",
     "text": [
      "\n",
      "Would you like to make another search? (y/n):  y\n"
     ]
    },
    {
     "name": "stdout",
     "output_type": "stream",
     "text": [
      "\n",
      "==================================================\n",
      "Welcome to the Movie Recommendation System\n",
      "Please choose an option:\n",
      "1. Explore by genre (Branch 1)\n",
      "2. Search directly by movie title (Branch 2)\n",
      "3. Exit\n"
     ]
    },
    {
     "name": "stdin",
     "output_type": "stream",
     "text": [
      "Enter 1, 2, or 3:  1\n"
     ]
    },
    {
     "name": "stdout",
     "output_type": "stream",
     "text": [
      "\n",
      "Available Genres:\n",
      "Action, Adventure, Animation, Comedy, Crime, Documentary, Drama, Family, Fantasy, History, Horror, Music, Mystery, Romance, Science Fiction, Thriller, Tv Movie, War, Western\n",
      "\n"
     ]
    },
    {
     "name": "stdin",
     "output_type": "stream",
     "text": [
      "Enter a genre:  Western\n"
     ]
    },
    {
     "name": "stdout",
     "output_type": "stream",
     "text": [
      "\n",
      "Top 10 Western Movies (Ranked by Weighted Rating):\n",
      "\n",
      "+----------------------------------+-------------------+--------------+------------+\n",
      "|              title               |       score       | vote_average | vote_count |\n",
      "+----------------------------------+-------------------+--------------+------------+\n",
      "|  The Good, the Bad and the Ugly  | 8.42264517715986  |     8.5      |    8837    |\n",
      "|         Django Unchained         | 8.176816482316978 |     8.2      |   26538    |\n",
      "|   Once Upon a Time in the West   | 8.162454635707777 |     8.3      |    4444    |\n",
      "|      For a Few Dollars More      | 7.869444370344122 |     8.0      |    4058    |\n",
      "|            Unforgiven            | 7.803374720613542 |    7.917     |    4501    |\n",
      "|        The Hateful Eight         | 7.765151941416623 |     7.8      |   14371    |\n",
      "|        Dances with Wolves        | 7.728779796635792 |    7.843     |    4296    |\n",
      "|       A Fistful of Dollars       | 7.688999954297047 |     7.8      |    4321    |\n",
      "| Spirit: Stallion of the Cimarron | 7.593122460214455 |    7.691     |    4628    |\n",
      "| The Treasure of the Sierra Madre | 7.583748694078692 |    7.952     |    1223    |\n",
      "+----------------------------------+-------------------+--------------+------------+\n",
      "\n",
      "If you want to search for more Western movies, we can search by movie.\n"
     ]
    },
    {
     "name": "stdin",
     "output_type": "stream",
     "text": [
      "\n",
      "Enter a movie:  The Good, the Bad and the Ugly\n",
      "\n",
      "How many recommendations would you like to see? (5-50):  25\n"
     ]
    },
    {
     "name": "stdout",
     "output_type": "stream",
     "text": [
      "\n",
      "Top 25 Western Movies Similar to The Good, the Bad and the Ugly:\n",
      "\n",
      "+----------------------------------------------+--------------------+--------------+------------+------------------+\n",
      "|                    title                     |       score        | vote_average | vote_count | similarity_score |\n",
      "+----------------------------------------------+--------------------+--------------+------------+------------------+\n",
      "|             A Fistful of Dollars             | 7.688999954297047  |     7.8      |    4321    |       0.62       |\n",
      "|            For a Few Dollars More            | 7.869444370344122  |     8.0      |    4058    |       0.6        |\n",
      "|               Duck, You Sucker               |  7.34664040249789  |     7.7      |    1088    |       0.49       |\n",
      "|                  Pale Rider                  |  6.94821303282939  |     7.2      |    1087    |       0.47       |\n",
      "|                    Django                    | 6.912393966369972  |     7.2      |    917     |       0.44       |\n",
      "|         Once Upon a Time in the West         | 8.162454635707777  |     8.3      |    4444    |       0.43       |\n",
      "|              The Great Silence               | 6.840302187682992  |    7.445     |    403     |       0.43       |\n",
      "|            The Outlaw Josey Wales            | 7.122330173721918  |     7.4      |    1160    |       0.4        |\n",
      "|       The Treasure of the Sierra Madre       | 7.583748694078692  |    7.952     |    1223    |       0.4        |\n",
      "|             The Sisters Brothers             | 6.7147611190811585 |    6.823     |    1929    |       0.38       |\n",
      "| City Slickers II: The Legend of Curly's Gold | 5.611148043528022  |     5.3      |    315     |       0.38       |\n",
      "|         The Good, the Bad, the Weird         | 6.860721411463096  |     7.2      |    735     |       0.37       |\n",
      "|             High Plains Drifter              | 7.044856311684146  |     7.3      |    1178    |       0.34       |\n",
      "|                   Joe Kidd                   | 6.269211748935165  |     6.5      |    368     |       0.34       |\n",
      "|                  Cry Macho                   | 5.9923450605554756 |     6.0      |    1040    |       0.33       |\n",
      "|              My Name Is Nobody               | 7.0013752329679395 |     7.3      |    966     |       0.33       |\n",
      "|               The Proposition                | 6.686859554143604  |     7.0      |    642     |       0.31       |\n",
      "|                  Unforgiven                  | 7.803374720613542  |    7.917     |    4501    |       0.31       |\n",
      "|              River of No Return              | 6.416889059214546  |     6.7      |    445     |       0.31       |\n",
      "|                The Wild Bunch                | 7.295522617009448  |     7.6      |    1216    |       0.31       |\n",
      "|                ¡Three Amigos!                |  6.22819937097214  |    6.301     |    1010    |       0.3        |\n",
      "|                Young Guns II                 | 6.3188466461872626 |     6.5      |    545     |       0.3        |\n",
      "|                  Slow West                   | 6.5355944495741225 |    6.697     |    985     |       0.29       |\n",
      "|                   Bacurau                    | 7.339515152959012  |     7.7      |    1061    |       0.29       |\n",
      "|                  True Grit                   | 6.951511059861273  |     7.3      |    788     |       0.29       |\n",
      "+----------------------------------------------+--------------------+--------------+------------+------------------+\n"
     ]
    },
    {
     "name": "stdin",
     "output_type": "stream",
     "text": [
      "\n",
      "Would you like to make another search? (y/n):  y\n"
     ]
    },
    {
     "name": "stdout",
     "output_type": "stream",
     "text": [
      "\n",
      "==================================================\n",
      "Welcome to the Movie Recommendation System\n",
      "Please choose an option:\n",
      "1. Explore by genre (Branch 1)\n",
      "2. Search directly by movie title (Branch 2)\n",
      "3. Exit\n"
     ]
    },
    {
     "name": "stdin",
     "output_type": "stream",
     "text": [
      "Enter 1, 2, or 3:  1\n"
     ]
    },
    {
     "name": "stdout",
     "output_type": "stream",
     "text": [
      "\n",
      "Available Genres:\n",
      "Action, Adventure, Animation, Comedy, Crime, Documentary, Drama, Family, Fantasy, History, Horror, Music, Mystery, Romance, Science Fiction, Thriller, Tv Movie, War, Western\n",
      "\n"
     ]
    },
    {
     "name": "stdin",
     "output_type": "stream",
     "text": [
      "Enter a genre:  Action\n"
     ]
    },
    {
     "name": "stdout",
     "output_type": "stream",
     "text": [
      "\n",
      "Top 10 Action Movies (Ranked by Weighted Rating):\n",
      "\n",
      "+---------------------------------------------------+-------------------+--------------+------------+\n",
      "|                       title                       |       score       | vote_average | vote_count |\n",
      "+---------------------------------------------------+-------------------+--------------+------------+\n",
      "|                  The Dark Knight                  | 8.479128257350427 |     8.5      |   33504    |\n",
      "|   The Lord of the Rings: The Return of the King   | 8.453053543780685 |    8.481     |   24763    |\n",
      "|                     Inception                     | 8.381896471447988 |     8.4      |   37134    |\n",
      "| The Lord of the Rings: The Fellowship of the Ring | 8.373910276957323 |     8.4      |   25682    |\n",
      "|       The Lord of the Rings: The Two Towers       | 8.370985948607402 |    8.401     |   22297    |\n",
      "|              The Empire Strikes Back              | 8.36129554773485  |     8.4      |   17221    |\n",
      "|         Spider-Man: Into the Spider-Verse         | 8.355305275506172 |    8.397     |   15946    |\n",
      "|                   Seven Samurai                   | 8.288461317802474 |    8.458     |    3812    |\n",
      "|              Léon: The Professional               | 8.257602375469164 |     8.3      |   15041    |\n",
      "|                      Oldboy                       | 8.229009814166806 |     8.3      |    8871    |\n",
      "+---------------------------------------------------+-------------------+--------------+------------+\n",
      "\n",
      "If you want to search for more Action movies, we can search by movie.\n"
     ]
    },
    {
     "name": "stdin",
     "output_type": "stream",
     "text": [
      "\n",
      "Enter a movie:  Seven Samurai\n",
      "\n",
      "How many recommendations would you like to see? (5-50):  5\n"
     ]
    },
    {
     "name": "stdout",
     "output_type": "stream",
     "text": [
      "\n",
      "Top 5 Action Movies Similar to Seven Samurai:\n",
      "\n",
      "+---------------------+-------------------+--------------+------------+------------------+\n",
      "|        title        |       score       | vote_average | vote_count | similarity_score |\n",
      "+---------------------+-------------------+--------------+------------+------------------+\n",
      "|       Sanjuro       | 7.332938926783315 |    7.941     |    626     |       0.76       |\n",
      "|      Kagemusha      | 7.258079394705007 |     7.8      |    664     |       0.72       |\n",
      "| The Hidden Fortress | 7.376553733273256 |     8.0      |    630     |       0.71       |\n",
      "|         Ran         | 7.743449107905489 |    8.056     |    1583    |       0.65       |\n",
      "|     Dersu Uzala     | 7.252239217583775 |     7.9      |    553     |       0.6        |\n",
      "+---------------------+-------------------+--------------+------------+------------------+\n"
     ]
    },
    {
     "name": "stdin",
     "output_type": "stream",
     "text": [
      "\n",
      "Would you like to make another search? (y/n):  y\n"
     ]
    },
    {
     "name": "stdout",
     "output_type": "stream",
     "text": [
      "\n",
      "==================================================\n",
      "Welcome to the Movie Recommendation System\n",
      "Please choose an option:\n",
      "1. Explore by genre (Branch 1)\n",
      "2. Search directly by movie title (Branch 2)\n",
      "3. Exit\n"
     ]
    },
    {
     "name": "stdin",
     "output_type": "stream",
     "text": [
      "Enter 1, 2, or 3:  1\n"
     ]
    },
    {
     "name": "stdout",
     "output_type": "stream",
     "text": [
      "\n",
      "Available Genres:\n",
      "Action, Adventure, Animation, Comedy, Crime, Documentary, Drama, Family, Fantasy, History, Horror, Music, Mystery, Romance, Science Fiction, Thriller, Tv Movie, War, Western\n",
      "\n"
     ]
    },
    {
     "name": "stdin",
     "output_type": "stream",
     "text": [
      "Enter a genre:  Action\n"
     ]
    },
    {
     "name": "stdout",
     "output_type": "stream",
     "text": [
      "\n",
      "Top 10 Action Movies (Ranked by Weighted Rating):\n",
      "\n",
      "+---------------------------------------------------+-------------------+--------------+------------+\n",
      "|                       title                       |       score       | vote_average | vote_count |\n",
      "+---------------------------------------------------+-------------------+--------------+------------+\n",
      "|                  The Dark Knight                  | 8.479128257350427 |     8.5      |   33504    |\n",
      "|   The Lord of the Rings: The Return of the King   | 8.453053543780685 |    8.481     |   24763    |\n",
      "|                     Inception                     | 8.381896471447988 |     8.4      |   37134    |\n",
      "| The Lord of the Rings: The Fellowship of the Ring | 8.373910276957323 |     8.4      |   25682    |\n",
      "|       The Lord of the Rings: The Two Towers       | 8.370985948607402 |    8.401     |   22297    |\n",
      "|              The Empire Strikes Back              | 8.36129554773485  |     8.4      |   17221    |\n",
      "|         Spider-Man: Into the Spider-Verse         | 8.355305275506172 |    8.397     |   15946    |\n",
      "|                   Seven Samurai                   | 8.288461317802474 |    8.458     |    3812    |\n",
      "|              Léon: The Professional               | 8.257602375469164 |     8.3      |   15041    |\n",
      "|                      Oldboy                       | 8.229009814166806 |     8.3      |    8871    |\n",
      "+---------------------------------------------------+-------------------+--------------+------------+\n",
      "\n",
      "If you want to search for more Action movies, we can search by movie.\n"
     ]
    },
    {
     "name": "stdin",
     "output_type": "stream",
     "text": [
      "\n",
      "Enter a movie:  Seven Samurai\n",
      "\n",
      "How many recommendations would you like to see? (5-50):  20\n"
     ]
    },
    {
     "name": "stdout",
     "output_type": "stream",
     "text": [
      "\n",
      "Top 20 Action Movies Similar to Seven Samurai:\n",
      "\n",
      "+-------------------------------------------+--------------------+--------------+------------+------------------+\n",
      "|                   title                   |       score        | vote_average | vote_count | similarity_score |\n",
      "+-------------------------------------------+--------------------+--------------+------------+------------------+\n",
      "|                  Sanjuro                  | 7.332938926783315  |    7.941     |    626     |       0.76       |\n",
      "|                 Kagemusha                 | 7.258079394705007  |     7.8      |    664     |       0.72       |\n",
      "|            The Hidden Fortress            | 7.376553733273256  |     8.0      |    630     |       0.71       |\n",
      "|                    Ran                    | 7.743449107905489  |    8.056     |    1583    |       0.65       |\n",
      "|                Dersu Uzala                | 7.252239217583775  |     7.9      |    553     |       0.6        |\n",
      "|                 Harakiri                  | 7.897170553726947  |    8.414     |    1040    |       0.42       |\n",
      "|      Rurouni Kenshin: The Beginning       | 7.042692335318279  |    7.685     |    467     |       0.4        |\n",
      "|  Rurouni Kenshin Part II: Kyoto Inferno   | 7.076008984789062  |    7.601     |    589     |       0.4        |\n",
      "|        Rurouni Kenshin: The Final         | 7.081068736734528  |    7.715     |    490     |       0.39       |\n",
      "|               13 Assassins                | 7.038571984385726  |     7.3      |    1143    |       0.39       |\n",
      "| Rurouni Kenshin Part III: The Legend Ends | 7.093647315282591  |    7.712     |    508     |       0.37       |\n",
      "|                 47 Ronin                  | 6.184148356614893  |     6.2      |    3866    |       0.35       |\n",
      "|           Blade of the Immortal           | 6.4597772660498425 |    6.703     |    567     |       0.33       |\n",
      "|              Lady Snowblood               | 6.841927257029456  |     7.5      |    371     |       0.29       |\n",
      "|                  Sholay                   | 6.470353938511002  |    6.977     |    278     |       0.29       |\n",
      "|                 Headshot                  | 6.232934972192998  |     6.4      |    448     |       0.29       |\n",
      "|        Why Don't You Play in Hell?        | 6.701941940230974  |     7.4      |    294     |       0.28       |\n",
      "|                 Zatoichi                  |  6.90139946986283  |     7.2      |    873     |       0.28       |\n",
      "|             The Last Samurai              | 7.5256566049719895 |    7.588     |    6965    |       0.27       |\n",
      "|      Rurouni Kenshin Part I: Origins      | 7.113143831351555  |     7.5      |    826     |       0.27       |\n",
      "+-------------------------------------------+--------------------+--------------+------------+------------------+\n"
     ]
    }
   ],
   "source": [
    "%run main.py"
   ]
  }
 ],
 "metadata": {
  "kernelspec": {
   "display_name": "Python 3 (ipykernel)",
   "language": "python",
   "name": "python3"
  },
  "language_info": {
   "codemirror_mode": {
    "name": "ipython",
    "version": 3
   },
   "file_extension": ".py",
   "mimetype": "text/x-python",
   "name": "python",
   "nbconvert_exporter": "python",
   "pygments_lexer": "ipython3",
   "version": "3.12.7"
  }
 },
 "nbformat": 4,
 "nbformat_minor": 5
}
