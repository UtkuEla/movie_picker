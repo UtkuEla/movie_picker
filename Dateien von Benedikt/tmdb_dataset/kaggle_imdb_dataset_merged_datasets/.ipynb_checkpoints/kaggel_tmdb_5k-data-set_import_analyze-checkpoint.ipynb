{
 "cells": [
  {
   "cell_type": "markdown",
   "id": "81086e4c-5d09-476f-849e-1bb095484456",
   "metadata": {},
   "source": [
    "# Kaggle TMDB 5000 Movie Dataset"
   ]
  },
  {
   "cell_type": "markdown",
   "id": "1f66a786-94ac-4433-866b-2603e6d20339",
   "metadata": {},
   "source": [
    "https://www.kaggle.com/datasets/tmdb/tmdb-movie-metadata?select=tmdb_5000_movies.csv\n",
    "*We (Kaggle) have removed the original version of this dataset per a DMCA takedown request from IMDB. In order to minimize the impact, we're replacing it with a similar set of films and data fields from The Movie Database (TMDb) in accordance with their terms of use. The bad news is that kernels built on the old dataset will most likely no longer work.*"
   ]
  },
  {
   "cell_type": "code",
   "execution_count": 3,
   "id": "5339eb10-99bc-4adb-9905-0ecade5a6f80",
   "metadata": {
    "collapsed": true,
    "jupyter": {
     "outputs_hidden": true
    }
   },
   "outputs": [
    {
     "name": "stdout",
     "output_type": "stream",
     "text": [
      "Collecting missingno\n",
      "  Downloading missingno-0.5.2-py3-none-any.whl.metadata (639 bytes)\n",
      "Requirement already satisfied: numpy in c:\\users\\bened\\anaconda3\\lib\\site-packages (from missingno) (1.26.4)\n",
      "Requirement already satisfied: matplotlib in c:\\users\\bened\\anaconda3\\lib\\site-packages (from missingno) (3.9.2)\n",
      "Requirement already satisfied: scipy in c:\\users\\bened\\anaconda3\\lib\\site-packages (from missingno) (1.13.1)\n",
      "Requirement already satisfied: seaborn in c:\\users\\bened\\anaconda3\\lib\\site-packages (from missingno) (0.13.2)\n",
      "Requirement already satisfied: contourpy>=1.0.1 in c:\\users\\bened\\anaconda3\\lib\\site-packages (from matplotlib->missingno) (1.2.0)\n",
      "Requirement already satisfied: cycler>=0.10 in c:\\users\\bened\\anaconda3\\lib\\site-packages (from matplotlib->missingno) (0.11.0)\n",
      "Requirement already satisfied: fonttools>=4.22.0 in c:\\users\\bened\\anaconda3\\lib\\site-packages (from matplotlib->missingno) (4.51.0)\n",
      "Requirement already satisfied: kiwisolver>=1.3.1 in c:\\users\\bened\\anaconda3\\lib\\site-packages (from matplotlib->missingno) (1.4.4)\n",
      "Requirement already satisfied: packaging>=20.0 in c:\\users\\bened\\anaconda3\\lib\\site-packages (from matplotlib->missingno) (24.1)\n",
      "Requirement already satisfied: pillow>=8 in c:\\users\\bened\\anaconda3\\lib\\site-packages (from matplotlib->missingno) (10.4.0)\n",
      "Requirement already satisfied: pyparsing>=2.3.1 in c:\\users\\bened\\anaconda3\\lib\\site-packages (from matplotlib->missingno) (3.1.2)\n",
      "Requirement already satisfied: python-dateutil>=2.7 in c:\\users\\bened\\anaconda3\\lib\\site-packages (from matplotlib->missingno) (2.9.0.post0)\n",
      "Requirement already satisfied: pandas>=1.2 in c:\\users\\bened\\anaconda3\\lib\\site-packages (from seaborn->missingno) (2.2.2)\n",
      "Requirement already satisfied: pytz>=2020.1 in c:\\users\\bened\\anaconda3\\lib\\site-packages (from pandas>=1.2->seaborn->missingno) (2024.1)\n",
      "Requirement already satisfied: tzdata>=2022.7 in c:\\users\\bened\\anaconda3\\lib\\site-packages (from pandas>=1.2->seaborn->missingno) (2023.3)\n",
      "Requirement already satisfied: six>=1.5 in c:\\users\\bened\\anaconda3\\lib\\site-packages (from python-dateutil>=2.7->matplotlib->missingno) (1.16.0)\n",
      "Downloading missingno-0.5.2-py3-none-any.whl (8.7 kB)\n",
      "Installing collected packages: missingno\n",
      "Successfully installed missingno-0.5.2\n"
     ]
    }
   ],
   "source": [
    "# This is actaully very cool: gives us a graphical overview of the missing entries in a data set: \n",
    "!pip install missingno"
   ]
  },
  {
   "cell_type": "code",
   "execution_count": 4,
   "id": "d4d9e379-a9ca-450b-a2cd-9608485398fb",
   "metadata": {},
   "outputs": [],
   "source": [
    "import pandas as pd\n",
    "import numpy as np\n",
    "import json  # Für sichere String-zu-Listen-Konvertierung\n",
    "import missingno as msno # Via https://www.kaggle.com/code/sadeghjalalian/imdb-best-movies-analysis-recommender-system\n"
   ]
  },
  {
   "cell_type": "markdown",
   "id": "5f955569-4231-4ec0-a724-84f3a6be7822",
   "metadata": {},
   "source": [
    "## Import Kaggle \"tmdb data set\""
   ]
  },
  {
   "cell_type": "code",
   "execution_count": 28,
   "id": "9f0040a8-488b-472b-9d0d-d9d17e6ed653",
   "metadata": {
    "collapsed": true,
    "jupyter": {
     "outputs_hidden": true
    }
   },
   "outputs": [
    {
     "name": "stdout",
     "output_type": "stream",
     "text": [
      "Warning: Looks like you're using an outdated `kagglehub` version (installed: 0.3.7), please consider upgrading to the latest version (0.3.8).\n",
      "Downloading from https://www.kaggle.com/api/v1/datasets/download/tmdb/tmdb-movie-metadata?dataset_version_number=2...\n"
     ]
    },
    {
     "name": "stderr",
     "output_type": "stream",
     "text": [
      "100%|██████████| 8.89M/8.89M [00:01<00:00, 7.38MB/s]"
     ]
    },
    {
     "name": "stdout",
     "output_type": "stream",
     "text": [
      "Extracting files...\n"
     ]
    },
    {
     "name": "stderr",
     "output_type": "stream",
     "text": [
      "\n"
     ]
    },
    {
     "name": "stdout",
     "output_type": "stream",
     "text": [
      "Path to dataset files: C:\\Users\\bened\\.cache\\kagglehub\\datasets\\tmdb\\tmdb-movie-metadata\\versions\\2\n"
     ]
    }
   ],
   "source": [
    "# import kagglehub\n",
    "# Download latest version\n",
    "# path = kagglehub.dataset_download(\"tmdb/tmdb-movie-metadata\")\n",
    "# print(\"Path to dataset files:\", path)"
   ]
  },
  {
   "cell_type": "markdown",
   "id": "2662837d-2bb5-4841-bcd2-699fc5014064",
   "metadata": {},
   "source": [
    "## Convert JSON-like entrys\n",
    "The data set contains \"JOSN-like\" structures in some of the columns (cast, crew..). There are at leats 3 ways, how to manage that: \n",
    "\n",
    "### TMDb Format Introduction\n",
    "https://www.kaggle.com/code/sohier/tmdb-format-introduction\n"
   ]
  },
  {
   "cell_type": "code",
   "execution_count": 2,
   "id": "a46ca9e0-4d0e-4bae-8ef5-cad0c66ffc13",
   "metadata": {},
   "outputs": [],
   "source": [
    "def load_tmdb_movies(path):\n",
    "    kaggle_df = pd.read_csv(path)\n",
    "    kaggle_df['release_date'] = pd.to_datetime(kaggle_df['release_date']).apply(lambda x: x.date())\n",
    "    json_columns = ['genres', 'keywords', 'production_countries', 'production_companies', 'spoken_languages']\n",
    "    for column in json_columns:\n",
    "        kaggle_df[column] = kaggle_df[column].apply(json.loads)\n",
    "    return kaggle_df\n",
    "\n",
    "\n",
    "def load_tmdb_credits(path):\n",
    "    kaggle_df = pd.read_csv(path)\n",
    "    json_columns = ['cast', 'crew']\n",
    "    for column in json_columns:\n",
    "        kaggle_df[column] = kaggle_df[column].apply(json.loads)\n",
    "    return kaggle_df"
   ]
  },
  {
   "cell_type": "code",
   "execution_count": 5,
   "id": "fd19ba69-01bb-4d63-a384-b322806a2392",
   "metadata": {},
   "outputs": [
    {
     "ename": "FileNotFoundError",
     "evalue": "[Errno 2] No such file or directory: './input/kaggle_2_tmdb/tmdb_5000_movies.csv'",
     "output_type": "error",
     "traceback": [
      "\u001b[1;31m---------------------------------------------------------------------------\u001b[0m",
      "\u001b[1;31mFileNotFoundError\u001b[0m                         Traceback (most recent call last)",
      "Cell \u001b[1;32mIn[5], line 1\u001b[0m\n\u001b[1;32m----> 1\u001b[0m kaggle_movies \u001b[38;5;241m=\u001b[39m load_tmdb_movies(\u001b[38;5;124m\"\u001b[39m\u001b[38;5;124m./input/kaggle_2_tmdb/tmdb_5000_movies.csv\u001b[39m\u001b[38;5;124m\"\u001b[39m)\n\u001b[0;32m      2\u001b[0m kaggle_credist \u001b[38;5;241m=\u001b[39m load_tmdb_credits(\u001b[38;5;124m\"\u001b[39m\u001b[38;5;124m./input/kaggle_2_tmdb/tmdb_5000_credits.csv\u001b[39m\u001b[38;5;124m\"\u001b[39m)\n",
      "Cell \u001b[1;32mIn[2], line 2\u001b[0m, in \u001b[0;36mload_tmdb_movies\u001b[1;34m(path)\u001b[0m\n\u001b[0;32m      1\u001b[0m \u001b[38;5;28;01mdef\u001b[39;00m \u001b[38;5;21mload_tmdb_movies\u001b[39m(path):\n\u001b[1;32m----> 2\u001b[0m     kaggle_df \u001b[38;5;241m=\u001b[39m pd\u001b[38;5;241m.\u001b[39mread_csv(path)\n\u001b[0;32m      3\u001b[0m     kaggle_df[\u001b[38;5;124m'\u001b[39m\u001b[38;5;124mrelease_date\u001b[39m\u001b[38;5;124m'\u001b[39m] \u001b[38;5;241m=\u001b[39m pd\u001b[38;5;241m.\u001b[39mto_datetime(kaggle_df[\u001b[38;5;124m'\u001b[39m\u001b[38;5;124mrelease_date\u001b[39m\u001b[38;5;124m'\u001b[39m])\u001b[38;5;241m.\u001b[39mapply(\u001b[38;5;28;01mlambda\u001b[39;00m x: x\u001b[38;5;241m.\u001b[39mdate())\n\u001b[0;32m      4\u001b[0m     json_columns \u001b[38;5;241m=\u001b[39m [\u001b[38;5;124m'\u001b[39m\u001b[38;5;124mgenres\u001b[39m\u001b[38;5;124m'\u001b[39m, \u001b[38;5;124m'\u001b[39m\u001b[38;5;124mkeywords\u001b[39m\u001b[38;5;124m'\u001b[39m, \u001b[38;5;124m'\u001b[39m\u001b[38;5;124mproduction_countries\u001b[39m\u001b[38;5;124m'\u001b[39m, \u001b[38;5;124m'\u001b[39m\u001b[38;5;124mproduction_companies\u001b[39m\u001b[38;5;124m'\u001b[39m, \u001b[38;5;124m'\u001b[39m\u001b[38;5;124mspoken_languages\u001b[39m\u001b[38;5;124m'\u001b[39m]\n",
      "File \u001b[1;32m~\\anaconda3\\Lib\\site-packages\\pandas\\io\\parsers\\readers.py:1026\u001b[0m, in \u001b[0;36mread_csv\u001b[1;34m(filepath_or_buffer, sep, delimiter, header, names, index_col, usecols, dtype, engine, converters, true_values, false_values, skipinitialspace, skiprows, skipfooter, nrows, na_values, keep_default_na, na_filter, verbose, skip_blank_lines, parse_dates, infer_datetime_format, keep_date_col, date_parser, date_format, dayfirst, cache_dates, iterator, chunksize, compression, thousands, decimal, lineterminator, quotechar, quoting, doublequote, escapechar, comment, encoding, encoding_errors, dialect, on_bad_lines, delim_whitespace, low_memory, memory_map, float_precision, storage_options, dtype_backend)\u001b[0m\n\u001b[0;32m   1013\u001b[0m kwds_defaults \u001b[38;5;241m=\u001b[39m _refine_defaults_read(\n\u001b[0;32m   1014\u001b[0m     dialect,\n\u001b[0;32m   1015\u001b[0m     delimiter,\n\u001b[1;32m   (...)\u001b[0m\n\u001b[0;32m   1022\u001b[0m     dtype_backend\u001b[38;5;241m=\u001b[39mdtype_backend,\n\u001b[0;32m   1023\u001b[0m )\n\u001b[0;32m   1024\u001b[0m kwds\u001b[38;5;241m.\u001b[39mupdate(kwds_defaults)\n\u001b[1;32m-> 1026\u001b[0m \u001b[38;5;28;01mreturn\u001b[39;00m _read(filepath_or_buffer, kwds)\n",
      "File \u001b[1;32m~\\anaconda3\\Lib\\site-packages\\pandas\\io\\parsers\\readers.py:620\u001b[0m, in \u001b[0;36m_read\u001b[1;34m(filepath_or_buffer, kwds)\u001b[0m\n\u001b[0;32m    617\u001b[0m _validate_names(kwds\u001b[38;5;241m.\u001b[39mget(\u001b[38;5;124m\"\u001b[39m\u001b[38;5;124mnames\u001b[39m\u001b[38;5;124m\"\u001b[39m, \u001b[38;5;28;01mNone\u001b[39;00m))\n\u001b[0;32m    619\u001b[0m \u001b[38;5;66;03m# Create the parser.\u001b[39;00m\n\u001b[1;32m--> 620\u001b[0m parser \u001b[38;5;241m=\u001b[39m TextFileReader(filepath_or_buffer, \u001b[38;5;241m*\u001b[39m\u001b[38;5;241m*\u001b[39mkwds)\n\u001b[0;32m    622\u001b[0m \u001b[38;5;28;01mif\u001b[39;00m chunksize \u001b[38;5;129;01mor\u001b[39;00m iterator:\n\u001b[0;32m    623\u001b[0m     \u001b[38;5;28;01mreturn\u001b[39;00m parser\n",
      "File \u001b[1;32m~\\anaconda3\\Lib\\site-packages\\pandas\\io\\parsers\\readers.py:1620\u001b[0m, in \u001b[0;36mTextFileReader.__init__\u001b[1;34m(self, f, engine, **kwds)\u001b[0m\n\u001b[0;32m   1617\u001b[0m     \u001b[38;5;28mself\u001b[39m\u001b[38;5;241m.\u001b[39moptions[\u001b[38;5;124m\"\u001b[39m\u001b[38;5;124mhas_index_names\u001b[39m\u001b[38;5;124m\"\u001b[39m] \u001b[38;5;241m=\u001b[39m kwds[\u001b[38;5;124m\"\u001b[39m\u001b[38;5;124mhas_index_names\u001b[39m\u001b[38;5;124m\"\u001b[39m]\n\u001b[0;32m   1619\u001b[0m \u001b[38;5;28mself\u001b[39m\u001b[38;5;241m.\u001b[39mhandles: IOHandles \u001b[38;5;241m|\u001b[39m \u001b[38;5;28;01mNone\u001b[39;00m \u001b[38;5;241m=\u001b[39m \u001b[38;5;28;01mNone\u001b[39;00m\n\u001b[1;32m-> 1620\u001b[0m \u001b[38;5;28mself\u001b[39m\u001b[38;5;241m.\u001b[39m_engine \u001b[38;5;241m=\u001b[39m \u001b[38;5;28mself\u001b[39m\u001b[38;5;241m.\u001b[39m_make_engine(f, \u001b[38;5;28mself\u001b[39m\u001b[38;5;241m.\u001b[39mengine)\n",
      "File \u001b[1;32m~\\anaconda3\\Lib\\site-packages\\pandas\\io\\parsers\\readers.py:1880\u001b[0m, in \u001b[0;36mTextFileReader._make_engine\u001b[1;34m(self, f, engine)\u001b[0m\n\u001b[0;32m   1878\u001b[0m     \u001b[38;5;28;01mif\u001b[39;00m \u001b[38;5;124m\"\u001b[39m\u001b[38;5;124mb\u001b[39m\u001b[38;5;124m\"\u001b[39m \u001b[38;5;129;01mnot\u001b[39;00m \u001b[38;5;129;01min\u001b[39;00m mode:\n\u001b[0;32m   1879\u001b[0m         mode \u001b[38;5;241m+\u001b[39m\u001b[38;5;241m=\u001b[39m \u001b[38;5;124m\"\u001b[39m\u001b[38;5;124mb\u001b[39m\u001b[38;5;124m\"\u001b[39m\n\u001b[1;32m-> 1880\u001b[0m \u001b[38;5;28mself\u001b[39m\u001b[38;5;241m.\u001b[39mhandles \u001b[38;5;241m=\u001b[39m get_handle(\n\u001b[0;32m   1881\u001b[0m     f,\n\u001b[0;32m   1882\u001b[0m     mode,\n\u001b[0;32m   1883\u001b[0m     encoding\u001b[38;5;241m=\u001b[39m\u001b[38;5;28mself\u001b[39m\u001b[38;5;241m.\u001b[39moptions\u001b[38;5;241m.\u001b[39mget(\u001b[38;5;124m\"\u001b[39m\u001b[38;5;124mencoding\u001b[39m\u001b[38;5;124m\"\u001b[39m, \u001b[38;5;28;01mNone\u001b[39;00m),\n\u001b[0;32m   1884\u001b[0m     compression\u001b[38;5;241m=\u001b[39m\u001b[38;5;28mself\u001b[39m\u001b[38;5;241m.\u001b[39moptions\u001b[38;5;241m.\u001b[39mget(\u001b[38;5;124m\"\u001b[39m\u001b[38;5;124mcompression\u001b[39m\u001b[38;5;124m\"\u001b[39m, \u001b[38;5;28;01mNone\u001b[39;00m),\n\u001b[0;32m   1885\u001b[0m     memory_map\u001b[38;5;241m=\u001b[39m\u001b[38;5;28mself\u001b[39m\u001b[38;5;241m.\u001b[39moptions\u001b[38;5;241m.\u001b[39mget(\u001b[38;5;124m\"\u001b[39m\u001b[38;5;124mmemory_map\u001b[39m\u001b[38;5;124m\"\u001b[39m, \u001b[38;5;28;01mFalse\u001b[39;00m),\n\u001b[0;32m   1886\u001b[0m     is_text\u001b[38;5;241m=\u001b[39mis_text,\n\u001b[0;32m   1887\u001b[0m     errors\u001b[38;5;241m=\u001b[39m\u001b[38;5;28mself\u001b[39m\u001b[38;5;241m.\u001b[39moptions\u001b[38;5;241m.\u001b[39mget(\u001b[38;5;124m\"\u001b[39m\u001b[38;5;124mencoding_errors\u001b[39m\u001b[38;5;124m\"\u001b[39m, \u001b[38;5;124m\"\u001b[39m\u001b[38;5;124mstrict\u001b[39m\u001b[38;5;124m\"\u001b[39m),\n\u001b[0;32m   1888\u001b[0m     storage_options\u001b[38;5;241m=\u001b[39m\u001b[38;5;28mself\u001b[39m\u001b[38;5;241m.\u001b[39moptions\u001b[38;5;241m.\u001b[39mget(\u001b[38;5;124m\"\u001b[39m\u001b[38;5;124mstorage_options\u001b[39m\u001b[38;5;124m\"\u001b[39m, \u001b[38;5;28;01mNone\u001b[39;00m),\n\u001b[0;32m   1889\u001b[0m )\n\u001b[0;32m   1890\u001b[0m \u001b[38;5;28;01massert\u001b[39;00m \u001b[38;5;28mself\u001b[39m\u001b[38;5;241m.\u001b[39mhandles \u001b[38;5;129;01mis\u001b[39;00m \u001b[38;5;129;01mnot\u001b[39;00m \u001b[38;5;28;01mNone\u001b[39;00m\n\u001b[0;32m   1891\u001b[0m f \u001b[38;5;241m=\u001b[39m \u001b[38;5;28mself\u001b[39m\u001b[38;5;241m.\u001b[39mhandles\u001b[38;5;241m.\u001b[39mhandle\n",
      "File \u001b[1;32m~\\anaconda3\\Lib\\site-packages\\pandas\\io\\common.py:873\u001b[0m, in \u001b[0;36mget_handle\u001b[1;34m(path_or_buf, mode, encoding, compression, memory_map, is_text, errors, storage_options)\u001b[0m\n\u001b[0;32m    868\u001b[0m \u001b[38;5;28;01melif\u001b[39;00m \u001b[38;5;28misinstance\u001b[39m(handle, \u001b[38;5;28mstr\u001b[39m):\n\u001b[0;32m    869\u001b[0m     \u001b[38;5;66;03m# Check whether the filename is to be opened in binary mode.\u001b[39;00m\n\u001b[0;32m    870\u001b[0m     \u001b[38;5;66;03m# Binary mode does not support 'encoding' and 'newline'.\u001b[39;00m\n\u001b[0;32m    871\u001b[0m     \u001b[38;5;28;01mif\u001b[39;00m ioargs\u001b[38;5;241m.\u001b[39mencoding \u001b[38;5;129;01mand\u001b[39;00m \u001b[38;5;124m\"\u001b[39m\u001b[38;5;124mb\u001b[39m\u001b[38;5;124m\"\u001b[39m \u001b[38;5;129;01mnot\u001b[39;00m \u001b[38;5;129;01min\u001b[39;00m ioargs\u001b[38;5;241m.\u001b[39mmode:\n\u001b[0;32m    872\u001b[0m         \u001b[38;5;66;03m# Encoding\u001b[39;00m\n\u001b[1;32m--> 873\u001b[0m         handle \u001b[38;5;241m=\u001b[39m \u001b[38;5;28mopen\u001b[39m(\n\u001b[0;32m    874\u001b[0m             handle,\n\u001b[0;32m    875\u001b[0m             ioargs\u001b[38;5;241m.\u001b[39mmode,\n\u001b[0;32m    876\u001b[0m             encoding\u001b[38;5;241m=\u001b[39mioargs\u001b[38;5;241m.\u001b[39mencoding,\n\u001b[0;32m    877\u001b[0m             errors\u001b[38;5;241m=\u001b[39merrors,\n\u001b[0;32m    878\u001b[0m             newline\u001b[38;5;241m=\u001b[39m\u001b[38;5;124m\"\u001b[39m\u001b[38;5;124m\"\u001b[39m,\n\u001b[0;32m    879\u001b[0m         )\n\u001b[0;32m    880\u001b[0m     \u001b[38;5;28;01melse\u001b[39;00m:\n\u001b[0;32m    881\u001b[0m         \u001b[38;5;66;03m# Binary mode\u001b[39;00m\n\u001b[0;32m    882\u001b[0m         handle \u001b[38;5;241m=\u001b[39m \u001b[38;5;28mopen\u001b[39m(handle, ioargs\u001b[38;5;241m.\u001b[39mmode)\n",
      "\u001b[1;31mFileNotFoundError\u001b[0m: [Errno 2] No such file or directory: './input/kaggle_2_tmdb/tmdb_5000_movies.csv'"
     ]
    }
   ],
   "source": [
    "kaggle_movies = load_tmdb_movies(\"../input/kaggle_2_tmdb/tmdb_5000_movies.csv\")\n",
    "kaggle_credist = load_tmdb_credits(\"../input/kaggle_2_tmdb/tmdb_5000_credits.csv\")"
   ]
  },
  {
   "cell_type": "code",
   "execution_count": 9,
   "id": "bd26f8a2-a4a4-4896-a96f-e14458151b9d",
   "metadata": {
    "collapsed": true,
    "jupyter": {
     "outputs_hidden": true
    },
    "scrolled": true
   },
   "outputs": [
    {
     "data": {
      "text/html": [
       "<div>\n",
       "<style scoped>\n",
       "    .dataframe tbody tr th:only-of-type {\n",
       "        vertical-align: middle;\n",
       "    }\n",
       "\n",
       "    .dataframe tbody tr th {\n",
       "        vertical-align: top;\n",
       "    }\n",
       "\n",
       "    .dataframe thead th {\n",
       "        text-align: right;\n",
       "    }\n",
       "</style>\n",
       "<table border=\"1\" class=\"dataframe\">\n",
       "  <thead>\n",
       "    <tr style=\"text-align: right;\">\n",
       "      <th></th>\n",
       "      <th>budget</th>\n",
       "      <th>genres</th>\n",
       "      <th>homepage</th>\n",
       "      <th>id</th>\n",
       "      <th>keywords</th>\n",
       "      <th>original_language</th>\n",
       "      <th>original_title</th>\n",
       "      <th>overview</th>\n",
       "      <th>popularity</th>\n",
       "      <th>production_companies</th>\n",
       "      <th>production_countries</th>\n",
       "      <th>release_date</th>\n",
       "      <th>revenue</th>\n",
       "      <th>runtime</th>\n",
       "      <th>spoken_languages</th>\n",
       "      <th>status</th>\n",
       "      <th>tagline</th>\n",
       "      <th>title</th>\n",
       "      <th>vote_average</th>\n",
       "      <th>vote_count</th>\n",
       "    </tr>\n",
       "  </thead>\n",
       "  <tbody>\n",
       "    <tr>\n",
       "      <th>3519</th>\n",
       "      <td>0</td>\n",
       "      <td>[{'id': 35, 'name': 'Comedy'}]</td>\n",
       "      <td>NaN</td>\n",
       "      <td>89861</td>\n",
       "      <td>[{'id': 131, 'name': 'italy'}, {'id': 8250, 'n...</td>\n",
       "      <td>en</td>\n",
       "      <td>Stiff Upper Lips</td>\n",
       "      <td>Stiff Upper Lips is a broad parody of British ...</td>\n",
       "      <td>0.356495</td>\n",
       "      <td>[]</td>\n",
       "      <td>[{'iso_3166_1': 'GB', 'name': 'United Kingdom'...</td>\n",
       "      <td>1998-06-12</td>\n",
       "      <td>0</td>\n",
       "      <td>99.0</td>\n",
       "      <td>[{'iso_639_1': 'en', 'name': 'English'}]</td>\n",
       "      <td>Released</td>\n",
       "      <td>NaN</td>\n",
       "      <td>Stiff Upper Lips</td>\n",
       "      <td>10.0</td>\n",
       "      <td>1</td>\n",
       "    </tr>\n",
       "    <tr>\n",
       "      <th>4247</th>\n",
       "      <td>1</td>\n",
       "      <td>[{'id': 10749, 'name': 'Romance'}, {'id': 35, ...</td>\n",
       "      <td>NaN</td>\n",
       "      <td>361505</td>\n",
       "      <td>[]</td>\n",
       "      <td>en</td>\n",
       "      <td>Me You and Five Bucks</td>\n",
       "      <td>A womanizing yet lovable loser, Charlie, a wai...</td>\n",
       "      <td>0.094105</td>\n",
       "      <td>[]</td>\n",
       "      <td>[]</td>\n",
       "      <td>2015-07-07</td>\n",
       "      <td>0</td>\n",
       "      <td>90.0</td>\n",
       "      <td>[]</td>\n",
       "      <td>Released</td>\n",
       "      <td>A story about second, second chances</td>\n",
       "      <td>Me You and Five Bucks</td>\n",
       "      <td>10.0</td>\n",
       "      <td>2</td>\n",
       "    </tr>\n",
       "    <tr>\n",
       "      <th>4045</th>\n",
       "      <td>0</td>\n",
       "      <td>[{'id': 35, 'name': 'Comedy'}, {'id': 18, 'nam...</td>\n",
       "      <td>NaN</td>\n",
       "      <td>78373</td>\n",
       "      <td>[{'id': 1415, 'name': 'small town'}, {'id': 15...</td>\n",
       "      <td>en</td>\n",
       "      <td>Dancer, Texas Pop. 81</td>\n",
       "      <td>Four guys, best friends, have grown up togethe...</td>\n",
       "      <td>0.376662</td>\n",
       "      <td>[{'name': 'HSX Films', 'id': 4714}, {'name': '...</td>\n",
       "      <td>[{'iso_3166_1': 'US', 'name': 'United States o...</td>\n",
       "      <td>1998-05-01</td>\n",
       "      <td>565592</td>\n",
       "      <td>97.0</td>\n",
       "      <td>[{'iso_639_1': 'en', 'name': 'English'}]</td>\n",
       "      <td>Released</td>\n",
       "      <td>in the middle of nowhere they had everything</td>\n",
       "      <td>Dancer, Texas Pop. 81</td>\n",
       "      <td>10.0</td>\n",
       "      <td>1</td>\n",
       "    </tr>\n",
       "    <tr>\n",
       "      <th>4662</th>\n",
       "      <td>0</td>\n",
       "      <td>[{'id': 35, 'name': 'Comedy'}]</td>\n",
       "      <td>NaN</td>\n",
       "      <td>40963</td>\n",
       "      <td>[{'id': 10183, 'name': 'independent film'}]</td>\n",
       "      <td>en</td>\n",
       "      <td>Little Big Top</td>\n",
       "      <td>An aging out of work clown returns to his smal...</td>\n",
       "      <td>0.092100</td>\n",
       "      <td>[{'name': 'Fly High Films', 'id': 24248}]</td>\n",
       "      <td>[{'iso_3166_1': 'US', 'name': 'United States o...</td>\n",
       "      <td>2006-01-01</td>\n",
       "      <td>0</td>\n",
       "      <td>0.0</td>\n",
       "      <td>[{'iso_639_1': 'en', 'name': 'English'}]</td>\n",
       "      <td>Rumored</td>\n",
       "      <td>NaN</td>\n",
       "      <td>Little Big Top</td>\n",
       "      <td>10.0</td>\n",
       "      <td>1</td>\n",
       "    </tr>\n",
       "    <tr>\n",
       "      <th>3992</th>\n",
       "      <td>0</td>\n",
       "      <td>[]</td>\n",
       "      <td>NaN</td>\n",
       "      <td>346081</td>\n",
       "      <td>[]</td>\n",
       "      <td>en</td>\n",
       "      <td>Sardaarji</td>\n",
       "      <td>A ghost hunter uses bottles to capture trouble...</td>\n",
       "      <td>0.296981</td>\n",
       "      <td>[]</td>\n",
       "      <td>[{'iso_3166_1': 'IN', 'name': 'India'}]</td>\n",
       "      <td>2015-06-26</td>\n",
       "      <td>0</td>\n",
       "      <td>0.0</td>\n",
       "      <td>[]</td>\n",
       "      <td>Released</td>\n",
       "      <td>NaN</td>\n",
       "      <td>Sardaarji</td>\n",
       "      <td>9.5</td>\n",
       "      <td>2</td>\n",
       "    </tr>\n",
       "    <tr>\n",
       "      <th>...</th>\n",
       "      <td>...</td>\n",
       "      <td>...</td>\n",
       "      <td>...</td>\n",
       "      <td>...</td>\n",
       "      <td>...</td>\n",
       "      <td>...</td>\n",
       "      <td>...</td>\n",
       "      <td>...</td>\n",
       "      <td>...</td>\n",
       "      <td>...</td>\n",
       "      <td>...</td>\n",
       "      <td>...</td>\n",
       "      <td>...</td>\n",
       "      <td>...</td>\n",
       "      <td>...</td>\n",
       "      <td>...</td>\n",
       "      <td>...</td>\n",
       "      <td>...</td>\n",
       "      <td>...</td>\n",
       "      <td>...</td>\n",
       "    </tr>\n",
       "    <tr>\n",
       "      <th>3960</th>\n",
       "      <td>0</td>\n",
       "      <td>[{'id': 35, 'name': 'Comedy'}, {'id': 10751, '...</td>\n",
       "      <td>https://www.facebook.com/pages/The-Deported/46...</td>\n",
       "      <td>170480</td>\n",
       "      <td>[]</td>\n",
       "      <td>en</td>\n",
       "      <td>The Deported</td>\n",
       "      <td>An Italian-American actor is deported to Mexic...</td>\n",
       "      <td>0.194848</td>\n",
       "      <td>[]</td>\n",
       "      <td>[]</td>\n",
       "      <td>2010-06-15</td>\n",
       "      <td>0</td>\n",
       "      <td>90.0</td>\n",
       "      <td>[{'iso_639_1': 'en', 'name': 'English'}]</td>\n",
       "      <td>Released</td>\n",
       "      <td>NaN</td>\n",
       "      <td>The Deported</td>\n",
       "      <td>0.0</td>\n",
       "      <td>0</td>\n",
       "    </tr>\n",
       "    <tr>\n",
       "      <th>4684</th>\n",
       "      <td>0</td>\n",
       "      <td>[{'id': 27, 'name': 'Horror'}]</td>\n",
       "      <td>NaN</td>\n",
       "      <td>402515</td>\n",
       "      <td>[{'id': 321, 'name': 'terror'}, {'id': 8087, '...</td>\n",
       "      <td>pt</td>\n",
       "      <td>Solitude</td>\n",
       "      <td>After finding an old storage locker filled wit...</td>\n",
       "      <td>0.018716</td>\n",
       "      <td>[{'name': 'Gravitas Ventures', 'id': 44632}]</td>\n",
       "      <td>[{'iso_3166_1': 'US', 'name': 'United States o...</td>\n",
       "      <td>2014-10-21</td>\n",
       "      <td>0</td>\n",
       "      <td>89.0</td>\n",
       "      <td>[{'iso_639_1': 'en', 'name': 'English'}]</td>\n",
       "      <td>Released</td>\n",
       "      <td>NaN</td>\n",
       "      <td>American Beast</td>\n",
       "      <td>0.0</td>\n",
       "      <td>0</td>\n",
       "    </tr>\n",
       "    <tr>\n",
       "      <th>3967</th>\n",
       "      <td>3</td>\n",
       "      <td>[{'id': 18, 'name': 'Drama'}, {'id': 35, 'name...</td>\n",
       "      <td>NaN</td>\n",
       "      <td>79587</td>\n",
       "      <td>[]</td>\n",
       "      <td>en</td>\n",
       "      <td>Four Single Fathers</td>\n",
       "      <td>A comedy/drama about four Italian single fathe...</td>\n",
       "      <td>0.008263</td>\n",
       "      <td>[{'name': 'Indiana Production Company', 'id': ...</td>\n",
       "      <td>[{'iso_3166_1': 'US', 'name': 'United States o...</td>\n",
       "      <td>2009-01-15</td>\n",
       "      <td>0</td>\n",
       "      <td>100.0</td>\n",
       "      <td>[{'iso_639_1': 'it', 'name': 'Italiano'}, {'is...</td>\n",
       "      <td>Released</td>\n",
       "      <td>Comedy</td>\n",
       "      <td>Four Single Fathers</td>\n",
       "      <td>0.0</td>\n",
       "      <td>0</td>\n",
       "    </tr>\n",
       "    <tr>\n",
       "      <th>4486</th>\n",
       "      <td>700000</td>\n",
       "      <td>[{'id': 18, 'name': 'Drama'}]</td>\n",
       "      <td>http://naturallynative.com/home.html</td>\n",
       "      <td>302579</td>\n",
       "      <td>[{'id': 10322, 'name': 'native american'}, {'i...</td>\n",
       "      <td>en</td>\n",
       "      <td>Naturally Native</td>\n",
       "      <td>Naturally Native follows the lives, loves, pai...</td>\n",
       "      <td>0.578798</td>\n",
       "      <td>[{'name': 'Red-horse Native', 'id': 38147}]</td>\n",
       "      <td>[{'iso_3166_1': 'US', 'name': 'United States o...</td>\n",
       "      <td>1999-10-08</td>\n",
       "      <td>10508</td>\n",
       "      <td>107.0</td>\n",
       "      <td>[{'iso_639_1': 'en', 'name': 'English'}]</td>\n",
       "      <td>Released</td>\n",
       "      <td>Sometimes When You're Going Home, It's Importa...</td>\n",
       "      <td>Naturally Native</td>\n",
       "      <td>0.0</td>\n",
       "      <td>0</td>\n",
       "    </tr>\n",
       "    <tr>\n",
       "      <th>4458</th>\n",
       "      <td>0</td>\n",
       "      <td>[]</td>\n",
       "      <td>NaN</td>\n",
       "      <td>279759</td>\n",
       "      <td>[]</td>\n",
       "      <td>en</td>\n",
       "      <td>Harrison Montgomery</td>\n",
       "      <td>Film from Daniel Davila</td>\n",
       "      <td>0.006943</td>\n",
       "      <td>[]</td>\n",
       "      <td>[]</td>\n",
       "      <td>2008-01-01</td>\n",
       "      <td>0</td>\n",
       "      <td>0.0</td>\n",
       "      <td>[]</td>\n",
       "      <td>Released</td>\n",
       "      <td>NaN</td>\n",
       "      <td>Harrison Montgomery</td>\n",
       "      <td>0.0</td>\n",
       "      <td>0</td>\n",
       "    </tr>\n",
       "  </tbody>\n",
       "</table>\n",
       "<p>4803 rows × 20 columns</p>\n",
       "</div>"
      ],
      "text/plain": [
       "      budget                                             genres  \\\n",
       "3519       0                     [{'id': 35, 'name': 'Comedy'}]   \n",
       "4247       1  [{'id': 10749, 'name': 'Romance'}, {'id': 35, ...   \n",
       "4045       0  [{'id': 35, 'name': 'Comedy'}, {'id': 18, 'nam...   \n",
       "4662       0                     [{'id': 35, 'name': 'Comedy'}]   \n",
       "3992       0                                                 []   \n",
       "...      ...                                                ...   \n",
       "3960       0  [{'id': 35, 'name': 'Comedy'}, {'id': 10751, '...   \n",
       "4684       0                     [{'id': 27, 'name': 'Horror'}]   \n",
       "3967       3  [{'id': 18, 'name': 'Drama'}, {'id': 35, 'name...   \n",
       "4486  700000                      [{'id': 18, 'name': 'Drama'}]   \n",
       "4458       0                                                 []   \n",
       "\n",
       "                                               homepage      id  \\\n",
       "3519                                                NaN   89861   \n",
       "4247                                                NaN  361505   \n",
       "4045                                                NaN   78373   \n",
       "4662                                                NaN   40963   \n",
       "3992                                                NaN  346081   \n",
       "...                                                 ...     ...   \n",
       "3960  https://www.facebook.com/pages/The-Deported/46...  170480   \n",
       "4684                                                NaN  402515   \n",
       "3967                                                NaN   79587   \n",
       "4486               http://naturallynative.com/home.html  302579   \n",
       "4458                                                NaN  279759   \n",
       "\n",
       "                                               keywords original_language  \\\n",
       "3519  [{'id': 131, 'name': 'italy'}, {'id': 8250, 'n...                en   \n",
       "4247                                                 []                en   \n",
       "4045  [{'id': 1415, 'name': 'small town'}, {'id': 15...                en   \n",
       "4662        [{'id': 10183, 'name': 'independent film'}]                en   \n",
       "3992                                                 []                en   \n",
       "...                                                 ...               ...   \n",
       "3960                                                 []                en   \n",
       "4684  [{'id': 321, 'name': 'terror'}, {'id': 8087, '...                pt   \n",
       "3967                                                 []                en   \n",
       "4486  [{'id': 10322, 'name': 'native american'}, {'i...                en   \n",
       "4458                                                 []                en   \n",
       "\n",
       "             original_title  \\\n",
       "3519       Stiff Upper Lips   \n",
       "4247  Me You and Five Bucks   \n",
       "4045  Dancer, Texas Pop. 81   \n",
       "4662         Little Big Top   \n",
       "3992              Sardaarji   \n",
       "...                     ...   \n",
       "3960           The Deported   \n",
       "4684               Solitude   \n",
       "3967    Four Single Fathers   \n",
       "4486       Naturally Native   \n",
       "4458    Harrison Montgomery   \n",
       "\n",
       "                                               overview  popularity  \\\n",
       "3519  Stiff Upper Lips is a broad parody of British ...    0.356495   \n",
       "4247  A womanizing yet lovable loser, Charlie, a wai...    0.094105   \n",
       "4045  Four guys, best friends, have grown up togethe...    0.376662   \n",
       "4662  An aging out of work clown returns to his smal...    0.092100   \n",
       "3992  A ghost hunter uses bottles to capture trouble...    0.296981   \n",
       "...                                                 ...         ...   \n",
       "3960  An Italian-American actor is deported to Mexic...    0.194848   \n",
       "4684  After finding an old storage locker filled wit...    0.018716   \n",
       "3967  A comedy/drama about four Italian single fathe...    0.008263   \n",
       "4486  Naturally Native follows the lives, loves, pai...    0.578798   \n",
       "4458                            Film from Daniel Davila    0.006943   \n",
       "\n",
       "                                   production_companies  \\\n",
       "3519                                                 []   \n",
       "4247                                                 []   \n",
       "4045  [{'name': 'HSX Films', 'id': 4714}, {'name': '...   \n",
       "4662          [{'name': 'Fly High Films', 'id': 24248}]   \n",
       "3992                                                 []   \n",
       "...                                                 ...   \n",
       "3960                                                 []   \n",
       "4684       [{'name': 'Gravitas Ventures', 'id': 44632}]   \n",
       "3967  [{'name': 'Indiana Production Company', 'id': ...   \n",
       "4486        [{'name': 'Red-horse Native', 'id': 38147}]   \n",
       "4458                                                 []   \n",
       "\n",
       "                                   production_countries release_date  revenue  \\\n",
       "3519  [{'iso_3166_1': 'GB', 'name': 'United Kingdom'...   1998-06-12        0   \n",
       "4247                                                 []   2015-07-07        0   \n",
       "4045  [{'iso_3166_1': 'US', 'name': 'United States o...   1998-05-01   565592   \n",
       "4662  [{'iso_3166_1': 'US', 'name': 'United States o...   2006-01-01        0   \n",
       "3992            [{'iso_3166_1': 'IN', 'name': 'India'}]   2015-06-26        0   \n",
       "...                                                 ...          ...      ...   \n",
       "3960                                                 []   2010-06-15        0   \n",
       "4684  [{'iso_3166_1': 'US', 'name': 'United States o...   2014-10-21        0   \n",
       "3967  [{'iso_3166_1': 'US', 'name': 'United States o...   2009-01-15        0   \n",
       "4486  [{'iso_3166_1': 'US', 'name': 'United States o...   1999-10-08    10508   \n",
       "4458                                                 []   2008-01-01        0   \n",
       "\n",
       "      runtime                                   spoken_languages    status  \\\n",
       "3519     99.0           [{'iso_639_1': 'en', 'name': 'English'}]  Released   \n",
       "4247     90.0                                                 []  Released   \n",
       "4045     97.0           [{'iso_639_1': 'en', 'name': 'English'}]  Released   \n",
       "4662      0.0           [{'iso_639_1': 'en', 'name': 'English'}]   Rumored   \n",
       "3992      0.0                                                 []  Released   \n",
       "...       ...                                                ...       ...   \n",
       "3960     90.0           [{'iso_639_1': 'en', 'name': 'English'}]  Released   \n",
       "4684     89.0           [{'iso_639_1': 'en', 'name': 'English'}]  Released   \n",
       "3967    100.0  [{'iso_639_1': 'it', 'name': 'Italiano'}, {'is...  Released   \n",
       "4486    107.0           [{'iso_639_1': 'en', 'name': 'English'}]  Released   \n",
       "4458      0.0                                                 []  Released   \n",
       "\n",
       "                                                tagline  \\\n",
       "3519                                                NaN   \n",
       "4247               A story about second, second chances   \n",
       "4045       in the middle of nowhere they had everything   \n",
       "4662                                                NaN   \n",
       "3992                                                NaN   \n",
       "...                                                 ...   \n",
       "3960                                                NaN   \n",
       "4684                                                NaN   \n",
       "3967                                             Comedy   \n",
       "4486  Sometimes When You're Going Home, It's Importa...   \n",
       "4458                                                NaN   \n",
       "\n",
       "                      title  vote_average  vote_count  \n",
       "3519       Stiff Upper Lips          10.0           1  \n",
       "4247  Me You and Five Bucks          10.0           2  \n",
       "4045  Dancer, Texas Pop. 81          10.0           1  \n",
       "4662         Little Big Top          10.0           1  \n",
       "3992              Sardaarji           9.5           2  \n",
       "...                     ...           ...         ...  \n",
       "3960           The Deported           0.0           0  \n",
       "4684         American Beast           0.0           0  \n",
       "3967    Four Single Fathers           0.0           0  \n",
       "4486       Naturally Native           0.0           0  \n",
       "4458    Harrison Montgomery           0.0           0  \n",
       "\n",
       "[4803 rows x 20 columns]"
      ]
     },
     "execution_count": 9,
     "metadata": {},
     "output_type": "execute_result"
    }
   ],
   "source": [
    "kaggle_movies.sort_values(by = \"vote_average\", ascending=False)"
   ]
  },
  {
   "cell_type": "code",
   "execution_count": 12,
   "id": "f0c392b5-defa-441a-a005-4129a89f7463",
   "metadata": {},
   "outputs": [
    {
     "data": {
      "text/plain": [
       "Index(['budget', 'genres', 'homepage', 'id', 'keywords', 'original_language',\n",
       "       'original_title', 'overview', 'popularity', 'production_companies',\n",
       "       'production_countries', 'release_date', 'revenue', 'runtime',\n",
       "       'spoken_languages', 'status', 'tagline', 'title', 'vote_average',\n",
       "       'vote_count'],\n",
       "      dtype='object')"
      ]
     },
     "execution_count": 12,
     "metadata": {},
     "output_type": "execute_result"
    }
   ],
   "source": [
    "kaggle_movies.columns"
   ]
  },
  {
   "cell_type": "markdown",
   "id": "964a7c5c-a7df-4544-9bb0-6b66cc91232c",
   "metadata": {},
   "source": [
    "## Convert genres to strings and genre IDs to lists\n",
    "Second option accessing json like structures in cells: convert to string and copy to new columns"
   ]
  },
  {
   "cell_type": "code",
   "execution_count": 40,
   "id": "14340959-b1c6-4e2f-b7de-6eae5b87190a",
   "metadata": {},
   "outputs": [],
   "source": [
    "#kaggle_movies[\"genre\"] = kaggle_df[\"genres\"].apply( lambda x : \", \".join(d[\"name\"] for d in x ) )\n",
    "#kaggle_moevies[\"genre_no\"] = kaggle_df[\"genres\"].apply( lambda x : [d[\"id\"] for d in x ] )\n",
    "#kaggle_movies = kaggle_df.drop( columns = ( [\"genres\"]))\n",
    "#kaggle_movies = kaggle_df.rename(columns = { \"genre\" : \"genres\" } )"
   ]
  },
  {
   "cell_type": "markdown",
   "id": "ad841e9e-6da9-4bc5-a501-553deb24e36b",
   "metadata": {},
   "source": [
    "## Use JSON-like structures as is\n",
    "Third  option: access JSON-like structures in data set via iloc, key, or value\n",
    "Problem: data set might contain empty keys\n",
    "\n",
    "*For a more involved example, let's try checking how often men got the lead credit in the 10 films with the highest revenues. First, let's pull in a utility function from How to Get IMDB Kernels Working With TMDb Data to handle missing values in the json fields.*\n",
    "via https://www.kaggle.com/code/sohier/tmdb-format-introduction?scriptVersionId=1545091&cellId=17"
   ]
  },
  {
   "cell_type": "code",
   "execution_count": null,
   "id": "11681a87-b3c8-4540-bebe-8da863531480",
   "metadata": {},
   "outputs": [],
   "source": [
    "import pandas as pd\n",
    "import numpy as np\n",
    "\n",
    "def safe_access(container, index_values):\n",
    "    result = container\n",
    "    try:\n",
    "        for idx in index_values:\n",
    "            result = result[idx]\n",
    "        return result\n",
    "    except (IndexError, KeyError, TypeError):\n",
    "        return np.nan"
   ]
  },
  {
   "cell_type": "code",
   "execution_count": null,
   "id": "4cdf575e-76dd-4bd6-a8bb-ad93801d2d8b",
   "metadata": {},
   "outputs": [],
   "source": [
    "# Create new column for gender. It's trinary data ({other: 0, female: 1, male: 2}), but that's the best we can do with the data on hand.\n",
    "credits['gender_of_lead'] = credits.cast.apply(lambda x: safe_access(x, [0, 'gender']))\n",
    "credits['lead'] = credits.cast.apply(lambda x: safe_access(x, [0, 'name']))\n",
    "credits.head(3)"
   ]
  },
  {
   "cell_type": "markdown",
   "id": "019ac829-f9f4-4b70-853a-c0c0134ae892",
   "metadata": {},
   "source": [
    "# Analyze data set"
   ]
  },
  {
   "cell_type": "markdown",
   "id": "e84f2fea-da44-43f9-9d06-b0eac3eb5768",
   "metadata": {},
   "source": [
    "## 4803 Entries in toal 20 columns\n",
    "- D-Types: int, str, float\n",
    "- Some values are bound in json-like structures"
   ]
  },
  {
   "cell_type": "code",
   "execution_count": 59,
   "id": "dd3eb7d0-8c53-4b99-8349-aea6c100dbc9",
   "metadata": {},
   "outputs": [
    {
     "name": "stdout",
     "output_type": "stream",
     "text": [
      "<class 'pandas.core.frame.DataFrame'>\n",
      "RangeIndex: 4803 entries, 0 to 4802\n",
      "Data columns (total 20 columns):\n",
      " #   Column                Non-Null Count  Dtype  \n",
      "---  ------                --------------  -----  \n",
      " 0   budget                4803 non-null   int64  \n",
      " 1   genres                4803 non-null   object \n",
      " 2   homepage              1712 non-null   object \n",
      " 3   id                    4803 non-null   int64  \n",
      " 4   keywords              4803 non-null   object \n",
      " 5   original_language     4803 non-null   object \n",
      " 6   original_title        4803 non-null   object \n",
      " 7   overview              4800 non-null   object \n",
      " 8   popularity            4803 non-null   float64\n",
      " 9   production_companies  4803 non-null   object \n",
      " 10  production_countries  4803 non-null   object \n",
      " 11  release_date          4802 non-null   object \n",
      " 12  revenue               4803 non-null   int64  \n",
      " 13  runtime               4801 non-null   float64\n",
      " 14  spoken_languages      4803 non-null   object \n",
      " 15  status                4803 non-null   object \n",
      " 16  tagline               3959 non-null   object \n",
      " 17  title                 4803 non-null   object \n",
      " 18  vote_average          4803 non-null   float64\n",
      " 19  vote_count            4803 non-null   int64  \n",
      "dtypes: float64(3), int64(4), object(13)\n",
      "memory usage: 750.6+ KB\n"
     ]
    }
   ],
   "source": [
    "movies.info()"
   ]
  },
  {
   "cell_type": "markdown",
   "id": "7b812c78-36ff-4c10-a379-ce2886827843",
   "metadata": {},
   "source": [
    "## Important Columns \n",
    "* Genres: one to many genre-items per entry. Stored in JSON-like structures\n",
    "* ID: TMDB-database-ID: can be used dirctyl in URLs, ie: \"710\" --> https://www.themoviedb.org/movie/710-goldeneye\n",
    "* Title / Original title\n",
    "* Overview: Short decription of movie (string)\n",
    "* Popularity: used to \"boost search results, adds an incredibly useful sort value for discover\"\n",
    "* Release date\n",
    "* Vote average\n",
    "* Vote count\n"
   ]
  },
  {
   "cell_type": "markdown",
   "id": "91c21798-0861-40a6-81c6-04fe4aa3ab48",
   "metadata": {},
   "source": [
    "### Check and clean up data in \"overview\""
   ]
  },
  {
   "cell_type": "code",
   "execution_count": 62,
   "id": "707056f2-4956-43d8-b546-1783f2f004ed",
   "metadata": {},
   "outputs": [
    {
     "data": {
      "text/plain": [
       "3844    The film is a drama about the aftermath of the...\n",
       "2000    In this adaptation of the Mona Simpson novel, ...\n",
       "3380    The mother of a teenage sociopath who went on ...\n",
       "1296    Aiming to defeat the Man of Steel, wealthy exe...\n",
       "121     Hapless museum night watchman Larry Daley must...\n",
       "Name: overview, dtype: object"
      ]
     },
     "execution_count": 62,
     "metadata": {},
     "output_type": "execute_result"
    }
   ],
   "source": [
    " kaggle_movies[\"overview\"].sample(5)"
   ]
  },
  {
   "cell_type": "code",
   "execution_count": 154,
   "id": "26cc9474-5d00-45a4-a277-06608279d7eb",
   "metadata": {},
   "outputs": [
    {
     "name": "stdout",
     "output_type": "stream",
     "text": [
      "Shortest description length:  1.0\n",
      "Longest description length:  1000.0\n",
      "Longest description length:  305.39875\n"
     ]
    }
   ],
   "source": [
    "print(\"Shortest description length: \", kaggle_movies[\"overview\"].str.len().min())\n",
    "print(\"Longest description length: \", kaggle_movies[\"overview\"].str.len().max())\n",
    "print(\"Description length mean: \", kaggle_movies[\"overview\"].str.len().mean())"
   ]
  },
  {
   "cell_type": "code",
   "execution_count": 150,
   "id": "0e889297-dee4-493c-be68-c73d7e912e25",
   "metadata": {},
   "outputs": [
    {
     "data": {
      "text/html": [
       "<div>\n",
       "<style scoped>\n",
       "    .dataframe tbody tr th:only-of-type {\n",
       "        vertical-align: middle;\n",
       "    }\n",
       "\n",
       "    .dataframe tbody tr th {\n",
       "        vertical-align: top;\n",
       "    }\n",
       "\n",
       "    .dataframe thead th {\n",
       "        text-align: right;\n",
       "    }\n",
       "</style>\n",
       "<table border=\"1\" class=\"dataframe\">\n",
       "  <thead>\n",
       "    <tr style=\"text-align: right;\">\n",
       "      <th></th>\n",
       "      <th>budget</th>\n",
       "      <th>genres</th>\n",
       "      <th>homepage</th>\n",
       "      <th>id</th>\n",
       "      <th>keywords</th>\n",
       "      <th>original_language</th>\n",
       "      <th>original_title</th>\n",
       "      <th>overview</th>\n",
       "      <th>popularity</th>\n",
       "      <th>production_companies</th>\n",
       "      <th>production_countries</th>\n",
       "      <th>release_date</th>\n",
       "      <th>revenue</th>\n",
       "      <th>runtime</th>\n",
       "      <th>spoken_languages</th>\n",
       "      <th>status</th>\n",
       "      <th>tagline</th>\n",
       "      <th>title</th>\n",
       "      <th>vote_average</th>\n",
       "      <th>vote_count</th>\n",
       "    </tr>\n",
       "  </thead>\n",
       "  <tbody>\n",
       "    <tr>\n",
       "      <th>4401</th>\n",
       "      <td>0</td>\n",
       "      <td>[{'id': 28, 'name': 'Action'}, {'id': 35, 'nam...</td>\n",
       "      <td>NaN</td>\n",
       "      <td>43630</td>\n",
       "      <td>[]</td>\n",
       "      <td>en</td>\n",
       "      <td>The Helix... Loaded</td>\n",
       "      <td></td>\n",
       "      <td>0.0206</td>\n",
       "      <td>[]</td>\n",
       "      <td>[{'iso_3166_1': 'US', 'name': 'United States o...</td>\n",
       "      <td>2005-01-01</td>\n",
       "      <td>0</td>\n",
       "      <td>97.0</td>\n",
       "      <td>[{'iso_639_1': 'en', 'name': 'English'}]</td>\n",
       "      <td>Rumored</td>\n",
       "      <td>NaN</td>\n",
       "      <td>The Helix... Loaded</td>\n",
       "      <td>4.8</td>\n",
       "      <td>2</td>\n",
       "    </tr>\n",
       "  </tbody>\n",
       "</table>\n",
       "</div>"
      ],
      "text/plain": [
       "      budget                                             genres homepage  \\\n",
       "4401       0  [{'id': 28, 'name': 'Action'}, {'id': 35, 'nam...      NaN   \n",
       "\n",
       "         id keywords original_language       original_title overview  \\\n",
       "4401  43630       []                en  The Helix... Loaded            \n",
       "\n",
       "      popularity production_companies  \\\n",
       "4401      0.0206                   []   \n",
       "\n",
       "                                   production_countries release_date  revenue  \\\n",
       "4401  [{'iso_3166_1': 'US', 'name': 'United States o...   2005-01-01        0   \n",
       "\n",
       "      runtime                          spoken_languages   status tagline  \\\n",
       "4401     97.0  [{'iso_639_1': 'en', 'name': 'English'}]  Rumored     NaN   \n",
       "\n",
       "                    title  vote_average  vote_count  \n",
       "4401  The Helix... Loaded           4.8           2  "
      ]
     },
     "execution_count": 150,
     "metadata": {},
     "output_type": "execute_result"
    }
   ],
   "source": [
    "kaggle_movies.query(\"overview.str.len() < 10\")"
   ]
  },
  {
   "cell_type": "code",
   "execution_count": 153,
   "id": "c582f79f-aa2f-49ed-8049-b419c1590ad0",
   "metadata": {},
   "outputs": [
    {
     "data": {
      "text/html": [
       "<div>\n",
       "<style scoped>\n",
       "    .dataframe tbody tr th:only-of-type {\n",
       "        vertical-align: middle;\n",
       "    }\n",
       "\n",
       "    .dataframe tbody tr th {\n",
       "        vertical-align: top;\n",
       "    }\n",
       "\n",
       "    .dataframe thead th {\n",
       "        text-align: right;\n",
       "    }\n",
       "</style>\n",
       "<table border=\"1\" class=\"dataframe\">\n",
       "  <thead>\n",
       "    <tr style=\"text-align: right;\">\n",
       "      <th></th>\n",
       "      <th>budget</th>\n",
       "      <th>genres</th>\n",
       "      <th>homepage</th>\n",
       "      <th>id</th>\n",
       "      <th>keywords</th>\n",
       "      <th>original_language</th>\n",
       "      <th>original_title</th>\n",
       "      <th>overview</th>\n",
       "      <th>popularity</th>\n",
       "      <th>production_companies</th>\n",
       "      <th>production_countries</th>\n",
       "      <th>release_date</th>\n",
       "      <th>revenue</th>\n",
       "      <th>runtime</th>\n",
       "      <th>spoken_languages</th>\n",
       "      <th>status</th>\n",
       "      <th>tagline</th>\n",
       "      <th>title</th>\n",
       "      <th>vote_average</th>\n",
       "      <th>vote_count</th>\n",
       "    </tr>\n",
       "  </thead>\n",
       "  <tbody>\n",
       "    <tr>\n",
       "      <th>2647</th>\n",
       "      <td>15000000</td>\n",
       "      <td>[{'id': 9648, 'name': 'Mystery'}, {'id': 18, '...</td>\n",
       "      <td>http://www.midnightmeattrainthemovie.com</td>\n",
       "      <td>10185</td>\n",
       "      <td>[{'id': 1003, 'name': 'photographer'}, {'id': ...</td>\n",
       "      <td>en</td>\n",
       "      <td>The Midnight Meat Train</td>\n",
       "      <td>The photographer Leon lives with his girlfrien...</td>\n",
       "      <td>19.913961</td>\n",
       "      <td>[{'name': 'Lions Gate Films', 'id': 35}, {'nam...</td>\n",
       "      <td>[{'iso_3166_1': 'US', 'name': 'United States o...</td>\n",
       "      <td>2008-08-07</td>\n",
       "      <td>3533227</td>\n",
       "      <td>98.0</td>\n",
       "      <td>[{'iso_639_1': 'en', 'name': 'English'}, {'iso...</td>\n",
       "      <td>Released</td>\n",
       "      <td>The most terrifying ride you'll ever take</td>\n",
       "      <td>The Midnight Meat Train</td>\n",
       "      <td>6.0</td>\n",
       "      <td>290</td>\n",
       "    </tr>\n",
       "    <tr>\n",
       "      <th>3665</th>\n",
       "      <td>0</td>\n",
       "      <td>[{'id': 10770, 'name': 'TV Movie'}, {'id': 80,...</td>\n",
       "      <td>NaN</td>\n",
       "      <td>78814</td>\n",
       "      <td>[]</td>\n",
       "      <td>en</td>\n",
       "      <td>We Have Your Husband</td>\n",
       "      <td>American-born Jayne Valseca, her husband Eduar...</td>\n",
       "      <td>0.102003</td>\n",
       "      <td>[{'name': 'Johnson Production Group', 'id': 52...</td>\n",
       "      <td>[{'iso_3166_1': 'US', 'name': 'United States o...</td>\n",
       "      <td>2011-11-12</td>\n",
       "      <td>0</td>\n",
       "      <td>89.0</td>\n",
       "      <td>[{'iso_639_1': 'en', 'name': 'English'}]</td>\n",
       "      <td>Released</td>\n",
       "      <td>NaN</td>\n",
       "      <td>We Have Your Husband</td>\n",
       "      <td>5.0</td>\n",
       "      <td>3</td>\n",
       "    </tr>\n",
       "  </tbody>\n",
       "</table>\n",
       "</div>"
      ],
      "text/plain": [
       "        budget                                             genres  \\\n",
       "2647  15000000  [{'id': 9648, 'name': 'Mystery'}, {'id': 18, '...   \n",
       "3665         0  [{'id': 10770, 'name': 'TV Movie'}, {'id': 80,...   \n",
       "\n",
       "                                      homepage     id  \\\n",
       "2647  http://www.midnightmeattrainthemovie.com  10185   \n",
       "3665                                       NaN  78814   \n",
       "\n",
       "                                               keywords original_language  \\\n",
       "2647  [{'id': 1003, 'name': 'photographer'}, {'id': ...                en   \n",
       "3665                                                 []                en   \n",
       "\n",
       "               original_title  \\\n",
       "2647  The Midnight Meat Train   \n",
       "3665     We Have Your Husband   \n",
       "\n",
       "                                               overview  popularity  \\\n",
       "2647  The photographer Leon lives with his girlfrien...   19.913961   \n",
       "3665  American-born Jayne Valseca, her husband Eduar...    0.102003   \n",
       "\n",
       "                                   production_companies  \\\n",
       "2647  [{'name': 'Lions Gate Films', 'id': 35}, {'nam...   \n",
       "3665  [{'name': 'Johnson Production Group', 'id': 52...   \n",
       "\n",
       "                                   production_countries release_date  revenue  \\\n",
       "2647  [{'iso_3166_1': 'US', 'name': 'United States o...   2008-08-07  3533227   \n",
       "3665  [{'iso_3166_1': 'US', 'name': 'United States o...   2011-11-12        0   \n",
       "\n",
       "      runtime                                   spoken_languages    status  \\\n",
       "2647     98.0  [{'iso_639_1': 'en', 'name': 'English'}, {'iso...  Released   \n",
       "3665     89.0           [{'iso_639_1': 'en', 'name': 'English'}]  Released   \n",
       "\n",
       "                                        tagline                    title  \\\n",
       "2647  The most terrifying ride you'll ever take  The Midnight Meat Train   \n",
       "3665                                        NaN     We Have Your Husband   \n",
       "\n",
       "      vote_average  vote_count  \n",
       "2647           6.0         290  \n",
       "3665           5.0           3  "
      ]
     },
     "execution_count": 153,
     "metadata": {},
     "output_type": "execute_result"
    }
   ],
   "source": [
    "kaggle_movies.query(\"overview.str.len() > 980\")"
   ]
  },
  {
   "cell_type": "code",
   "execution_count": 74,
   "id": "6962c91c-4716-450f-a33e-7420adddab59",
   "metadata": {},
   "outputs": [
    {
     "data": {
      "text/html": [
       "<div>\n",
       "<style scoped>\n",
       "    .dataframe tbody tr th:only-of-type {\n",
       "        vertical-align: middle;\n",
       "    }\n",
       "\n",
       "    .dataframe tbody tr th {\n",
       "        vertical-align: top;\n",
       "    }\n",
       "\n",
       "    .dataframe thead th {\n",
       "        text-align: right;\n",
       "    }\n",
       "</style>\n",
       "<table border=\"1\" class=\"dataframe\">\n",
       "  <thead>\n",
       "    <tr style=\"text-align: right;\">\n",
       "      <th></th>\n",
       "      <th>budget</th>\n",
       "      <th>genres</th>\n",
       "      <th>homepage</th>\n",
       "      <th>id</th>\n",
       "      <th>keywords</th>\n",
       "      <th>original_language</th>\n",
       "      <th>original_title</th>\n",
       "      <th>overview</th>\n",
       "      <th>popularity</th>\n",
       "      <th>production_companies</th>\n",
       "      <th>production_countries</th>\n",
       "      <th>release_date</th>\n",
       "      <th>revenue</th>\n",
       "      <th>runtime</th>\n",
       "      <th>spoken_languages</th>\n",
       "      <th>status</th>\n",
       "      <th>tagline</th>\n",
       "      <th>title</th>\n",
       "      <th>vote_average</th>\n",
       "      <th>vote_count</th>\n",
       "    </tr>\n",
       "  </thead>\n",
       "  <tbody>\n",
       "  </tbody>\n",
       "</table>\n",
       "</div>"
      ],
      "text/plain": [
       "Empty DataFrame\n",
       "Columns: [budget, genres, homepage, id, keywords, original_language, original_title, overview, popularity, production_companies, production_countries, release_date, revenue, runtime, spoken_languages, status, tagline, title, vote_average, vote_count]\n",
       "Index: []"
      ]
     },
     "execution_count": 74,
     "metadata": {},
     "output_type": "execute_result"
    }
   ],
   "source": [
    "#kaggle_movies[\"overview\"].unique().tolist()\n",
    "\n",
    "# 3 empty entries\n",
    "# kaggle_movies[\"overview\"].isnull().sum()\n",
    "filt_oview = ((kaggle_movies[\"overview\"].isnull()) | (kaggle_movies[\"overview\"] == \"\"))  \n",
    "kaggle_movies[filt_oview]"
   ]
  },
  {
   "cell_type": "code",
   "execution_count": 73,
   "id": "f3c655aa-f0a0-4dd0-b6da-f3f7ecf17974",
   "metadata": {},
   "outputs": [],
   "source": [
    "# Let's remove those\n",
    "kaggle_movies = kaggle_movies.dropna(subset = [\"overview\"])"
   ]
  },
  {
   "cell_type": "markdown",
   "id": "0679b1c0-8fad-4dc0-a387-a6f2c8de93b8",
   "metadata": {},
   "source": [
    "### Check and clean up data in \"ID\""
   ]
  },
  {
   "cell_type": "code",
   "execution_count": 121,
   "id": "a36fdfc8-bea5-4586-a01f-e3e9c96d9d26",
   "metadata": {},
   "outputs": [
    {
     "name": "stdout",
     "output_type": "stream",
     "text": [
      "Number of NaNs:  0\n"
     ]
    }
   ],
   "source": [
    "#print(\"Unique values to List: \", sorted(kaggle_movies[\"id\"].unique().tolist()))\n",
    "# 0 empty entries\n",
    "print(\"Number of NaNs: \", kaggle_movies[\"id\"].isnull().sum())\n",
    "#filt_oview = ((kaggle_movies[\"id\"].isnull()) | (kaggle_movies[\"id\"] == \"\"))  \n",
    "#print(\"Empty rows: \", kaggle_movies[filt_oview])"
   ]
  },
  {
   "cell_type": "code",
   "execution_count": 122,
   "id": "8c2e2f13-cb6b-4e69-b17b-5eabcd3a6604",
   "metadata": {},
   "outputs": [
    {
     "data": {
      "text/html": [
       "<div>\n",
       "<style scoped>\n",
       "    .dataframe tbody tr th:only-of-type {\n",
       "        vertical-align: middle;\n",
       "    }\n",
       "\n",
       "    .dataframe tbody tr th {\n",
       "        vertical-align: top;\n",
       "    }\n",
       "\n",
       "    .dataframe thead th {\n",
       "        text-align: right;\n",
       "    }\n",
       "</style>\n",
       "<table border=\"1\" class=\"dataframe\">\n",
       "  <thead>\n",
       "    <tr style=\"text-align: right;\">\n",
       "      <th></th>\n",
       "      <th>budget</th>\n",
       "      <th>genres</th>\n",
       "      <th>homepage</th>\n",
       "      <th>id</th>\n",
       "      <th>keywords</th>\n",
       "      <th>original_language</th>\n",
       "      <th>original_title</th>\n",
       "      <th>overview</th>\n",
       "      <th>popularity</th>\n",
       "      <th>production_companies</th>\n",
       "      <th>production_countries</th>\n",
       "      <th>release_date</th>\n",
       "      <th>revenue</th>\n",
       "      <th>runtime</th>\n",
       "      <th>spoken_languages</th>\n",
       "      <th>status</th>\n",
       "      <th>tagline</th>\n",
       "      <th>title</th>\n",
       "      <th>vote_average</th>\n",
       "      <th>vote_count</th>\n",
       "    </tr>\n",
       "  </thead>\n",
       "  <tbody>\n",
       "    <tr>\n",
       "      <th>3766</th>\n",
       "      <td>4000000</td>\n",
       "      <td>[{'id': 80, 'name': 'Crime'}, {'id': 35, 'name...</td>\n",
       "      <td>NaN</td>\n",
       "      <td>5</td>\n",
       "      <td>[{'id': 612, 'name': 'hotel'}, {'id': 613, 'na...</td>\n",
       "      <td>en</td>\n",
       "      <td>Four Rooms</td>\n",
       "      <td>It's Ted the Bellhop's first night on the job....</td>\n",
       "      <td>22.87623</td>\n",
       "      <td>[{'name': 'Miramax Films', 'id': 14}, {'name':...</td>\n",
       "      <td>[{'iso_3166_1': 'US', 'name': 'United States o...</td>\n",
       "      <td>1995-12-09</td>\n",
       "      <td>4300000</td>\n",
       "      <td>98.0</td>\n",
       "      <td>[{'iso_639_1': 'en', 'name': 'English'}]</td>\n",
       "      <td>Released</td>\n",
       "      <td>Twelve outrageous guests. Four scandalous requ...</td>\n",
       "      <td>Four Rooms</td>\n",
       "      <td>6.5</td>\n",
       "      <td>530</td>\n",
       "    </tr>\n",
       "  </tbody>\n",
       "</table>\n",
       "</div>"
      ],
      "text/plain": [
       "       budget                                             genres homepage  id  \\\n",
       "3766  4000000  [{'id': 80, 'name': 'Crime'}, {'id': 35, 'name...      NaN   5   \n",
       "\n",
       "                                               keywords original_language  \\\n",
       "3766  [{'id': 612, 'name': 'hotel'}, {'id': 613, 'na...                en   \n",
       "\n",
       "     original_title                                           overview  \\\n",
       "3766     Four Rooms  It's Ted the Bellhop's first night on the job....   \n",
       "\n",
       "      popularity                               production_companies  \\\n",
       "3766    22.87623  [{'name': 'Miramax Films', 'id': 14}, {'name':...   \n",
       "\n",
       "                                   production_countries release_date  revenue  \\\n",
       "3766  [{'iso_3166_1': 'US', 'name': 'United States o...   1995-12-09  4300000   \n",
       "\n",
       "      runtime                          spoken_languages    status  \\\n",
       "3766     98.0  [{'iso_639_1': 'en', 'name': 'English'}]  Released   \n",
       "\n",
       "                                                tagline       title  \\\n",
       "3766  Twelve outrageous guests. Four scandalous requ...  Four Rooms   \n",
       "\n",
       "      vote_average  vote_count  \n",
       "3766           6.5         530  "
      ]
     },
     "execution_count": 122,
     "metadata": {},
     "output_type": "execute_result"
    }
   ],
   "source": [
    "# Check ID no 5 - must be \"Four rooms\"\n",
    "kaggle_movies[kaggle_movies[\"id\"] == 5]"
   ]
  },
  {
   "cell_type": "markdown",
   "id": "81104748-7897-4047-ad59-793ce947f93b",
   "metadata": {},
   "source": [
    "### Check and clean up data in \"title\""
   ]
  },
  {
   "cell_type": "code",
   "execution_count": 123,
   "id": "e7333f27-6edf-42b1-9625-57330101ea2d",
   "metadata": {},
   "outputs": [
    {
     "data": {
      "text/plain": [
       "0"
      ]
     },
     "execution_count": 123,
     "metadata": {},
     "output_type": "execute_result"
    }
   ],
   "source": [
    "#kaggle_movies[\"title\"].unique().tolist()\n",
    "\n",
    "# 0 empty entries\n",
    "kaggle_movies[\"title\"].isnull().sum()\n",
    "#filt_oview = ((kaggle_movies[\"overview\"].isnull()) | (kaggle_movies[\"overview\"] == \"\"))  \n",
    "#kaggle_movies[filt_oview]"
   ]
  },
  {
   "cell_type": "markdown",
   "id": "1ad194ed-c721-4142-9558-6b75b6ac6701",
   "metadata": {},
   "source": [
    "### Check and clean up data in \"original_title\""
   ]
  },
  {
   "cell_type": "code",
   "execution_count": 124,
   "id": "ada9f0ec-0f84-4e9a-9927-ffc4a147c2a6",
   "metadata": {},
   "outputs": [
    {
     "data": {
      "text/plain": [
       "0"
      ]
     },
     "execution_count": 124,
     "metadata": {},
     "output_type": "execute_result"
    }
   ],
   "source": [
    "#kaggle_movies[\"original_title\"].unique().tolist()\n",
    "\n",
    "# 0 empty entries\n",
    "kaggle_movies[\"original_title\"].isnull().sum()\n",
    "#filt_oview = ((kaggle_movies[\"overview\"].isnull()) | (kaggle_movies[\"overview\"] == \"\"))  \n",
    "#kaggle_movies[filt_oview]"
   ]
  },
  {
   "cell_type": "markdown",
   "id": "28ae990e-cb3a-417d-a29d-50102fe8900b",
   "metadata": {},
   "source": [
    "### Check and clean up data in \"Popularity\""
   ]
  },
  {
   "cell_type": "code",
   "execution_count": 125,
   "id": "8f62e3de-fc84-4a80-a072-7024a7dbaa26",
   "metadata": {},
   "outputs": [
    {
     "name": "stdout",
     "output_type": "stream",
     "text": [
      "Sum of NaNs:  0\n"
     ]
    }
   ],
   "source": [
    "#print(\"Content: \", kaggle_movies[\"popularity\"].unique().tolist())\n",
    "# 0 empty entries\n",
    "print(\"Sum of NaNs: \", kaggle_movies[\"popularity\"].isnull().sum())\n",
    "#filt_oview = ((kaggle_movies[\"popularity\"].isnull()) | (kaggle_movies[\"popularity\"] == \"\"))  \n",
    "#kaggle_movies[filt_oview]"
   ]
  },
  {
   "cell_type": "markdown",
   "id": "aa0c9cdb-0fe3-48e1-b115-b08981c35660",
   "metadata": {},
   "source": [
    "### Check and clean up data in \"Release date\""
   ]
  },
  {
   "cell_type": "code",
   "execution_count": 171,
   "id": "22a39642-eddb-4559-b701-cf3a24d2e25f",
   "metadata": {},
   "outputs": [
    {
     "name": "stdout",
     "output_type": "stream",
     "text": [
      "<class 'pandas.core.series.Series'>\n",
      "Index: 4802 entries, 0 to 4802\n",
      "Series name: release_date\n",
      "Non-Null Count  Dtype \n",
      "--------------  ----- \n",
      "4802 non-null   object\n",
      "dtypes: object(1)\n",
      "memory usage: 75.0+ KB\n",
      "Info:  None\n",
      "Sum of NaNs:  0\n"
     ]
    },
    {
     "data": {
      "text/html": [
       "<div>\n",
       "<style scoped>\n",
       "    .dataframe tbody tr th:only-of-type {\n",
       "        vertical-align: middle;\n",
       "    }\n",
       "\n",
       "    .dataframe tbody tr th {\n",
       "        vertical-align: top;\n",
       "    }\n",
       "\n",
       "    .dataframe thead th {\n",
       "        text-align: right;\n",
       "    }\n",
       "</style>\n",
       "<table border=\"1\" class=\"dataframe\">\n",
       "  <thead>\n",
       "    <tr style=\"text-align: right;\">\n",
       "      <th></th>\n",
       "      <th>budget</th>\n",
       "      <th>genres</th>\n",
       "      <th>homepage</th>\n",
       "      <th>id</th>\n",
       "      <th>keywords</th>\n",
       "      <th>original_language</th>\n",
       "      <th>original_title</th>\n",
       "      <th>overview</th>\n",
       "      <th>popularity</th>\n",
       "      <th>production_companies</th>\n",
       "      <th>production_countries</th>\n",
       "      <th>release_date</th>\n",
       "      <th>revenue</th>\n",
       "      <th>runtime</th>\n",
       "      <th>spoken_languages</th>\n",
       "      <th>status</th>\n",
       "      <th>tagline</th>\n",
       "      <th>title</th>\n",
       "      <th>vote_average</th>\n",
       "      <th>vote_count</th>\n",
       "    </tr>\n",
       "  </thead>\n",
       "  <tbody>\n",
       "  </tbody>\n",
       "</table>\n",
       "</div>"
      ],
      "text/plain": [
       "Empty DataFrame\n",
       "Columns: [budget, genres, homepage, id, keywords, original_language, original_title, overview, popularity, production_companies, production_countries, release_date, revenue, runtime, spoken_languages, status, tagline, title, vote_average, vote_count]\n",
       "Index: []"
      ]
     },
     "execution_count": 171,
     "metadata": {},
     "output_type": "execute_result"
    }
   ],
   "source": [
    "#print(\"Content: \", kaggle_movies[\"release_date\"].unique().tolist())\n",
    "print(\"Info: \", kaggle_movies[\"release_date\"].info())\n",
    "# 1 empty entries\n",
    "print(\"Sum of NaNs: \", kaggle_movies[\"release_date\"].isnull().sum())\n",
    "filt_oview = ((kaggle_movies[\"release_date\"].isnull()) | (kaggle_movies[\"release_date\"] == \"\"))  \n",
    "kaggle_movies[filt_oview]"
   ]
  },
  {
   "cell_type": "code",
   "execution_count": 170,
   "id": "7178127e-df89-4649-8d5b-9d89d8fbcabf",
   "metadata": {},
   "outputs": [],
   "source": [
    "# Remove Row 4553 \n",
    "kaggle_movies = kaggle_movies.drop([4553])"
   ]
  },
  {
   "cell_type": "markdown",
   "id": "79688630-3e09-47bc-9dfa-934d5b3b2b83",
   "metadata": {},
   "source": [
    "### \"Collect\" Years from release_date and place it in to new column release_year"
   ]
  },
  {
   "cell_type": "code",
   "execution_count": 174,
   "id": "71a51bcf-6656-4cf2-a737-1d86a18e5da6",
   "metadata": {},
   "outputs": [
    {
     "data": {
      "text/plain": [
       "2015"
      ]
     },
     "execution_count": 174,
     "metadata": {},
     "output_type": "execute_result"
    }
   ],
   "source": [
    "#kaggle_movies[\"release_year\"] = \n",
    "kaggle_movies[\"release_date\"].loc[4554].year"
   ]
  },
  {
   "cell_type": "code",
   "execution_count": 182,
   "id": "ce8ad1c5-216a-427c-964f-31d1f518879a",
   "metadata": {},
   "outputs": [],
   "source": [
    "kaggle_movies[\"release_year\"] = kaggle_movies[\"release_date\"].map(lambda x : x.year)"
   ]
  },
  {
   "cell_type": "code",
   "execution_count": 183,
   "id": "f50fff47-5744-4f17-974d-98cdfe57a5d5",
   "metadata": {},
   "outputs": [
    {
     "data": {
      "text/plain": [
       "1631    2004\n",
       "2779    2000\n",
       "4562    2014\n",
       "2972    2007\n",
       "2081    1999\n",
       "Name: release_year, dtype: int64"
      ]
     },
     "execution_count": 183,
     "metadata": {},
     "output_type": "execute_result"
    }
   ],
   "source": [
    "kaggle_movies[\"release_year\"].sample(5)"
   ]
  },
  {
   "cell_type": "code",
   "execution_count": 184,
   "id": "da4cd285-3c86-4483-93bf-6b4db5982e45",
   "metadata": {},
   "outputs": [
    {
     "data": {
      "text/plain": [
       "Index(['budget', 'genres', 'homepage', 'id', 'keywords', 'original_language',\n",
       "       'original_title', 'overview', 'popularity', 'production_companies',\n",
       "       'production_countries', 'release_date', 'revenue', 'runtime',\n",
       "       'spoken_languages', 'status', 'tagline', 'title', 'vote_average',\n",
       "       'vote_count', 'release_year'],\n",
       "      dtype='object')"
      ]
     },
     "execution_count": 184,
     "metadata": {},
     "output_type": "execute_result"
    }
   ],
   "source": [
    "kaggle_movies.columns"
   ]
  },
  {
   "cell_type": "markdown",
   "id": "b178c95c-250a-4cf2-aaa7-f86578b4c094",
   "metadata": {},
   "source": [
    "### Check and clean up data in \"vote average\" and \"vote count\""
   ]
  },
  {
   "cell_type": "code",
   "execution_count": 128,
   "id": "eab75c75-e6db-4153-90f5-1b5c4c90aab6",
   "metadata": {},
   "outputs": [
    {
     "name": "stdout",
     "output_type": "stream",
     "text": [
      "<class 'pandas.core.series.Series'>\n",
      "RangeIndex: 4803 entries, 0 to 4802\n",
      "Series name: vote_average\n",
      "Non-Null Count  Dtype  \n",
      "--------------  -----  \n",
      "4803 non-null   float64\n",
      "dtypes: float64(1)\n",
      "memory usage: 37.7 KB\n",
      "Info:  None\n",
      "Sum of NaNs:  0\n"
     ]
    },
    {
     "data": {
      "text/html": [
       "<div>\n",
       "<style scoped>\n",
       "    .dataframe tbody tr th:only-of-type {\n",
       "        vertical-align: middle;\n",
       "    }\n",
       "\n",
       "    .dataframe tbody tr th {\n",
       "        vertical-align: top;\n",
       "    }\n",
       "\n",
       "    .dataframe thead th {\n",
       "        text-align: right;\n",
       "    }\n",
       "</style>\n",
       "<table border=\"1\" class=\"dataframe\">\n",
       "  <thead>\n",
       "    <tr style=\"text-align: right;\">\n",
       "      <th></th>\n",
       "      <th>budget</th>\n",
       "      <th>genres</th>\n",
       "      <th>homepage</th>\n",
       "      <th>id</th>\n",
       "      <th>keywords</th>\n",
       "      <th>original_language</th>\n",
       "      <th>original_title</th>\n",
       "      <th>overview</th>\n",
       "      <th>popularity</th>\n",
       "      <th>production_companies</th>\n",
       "      <th>production_countries</th>\n",
       "      <th>release_date</th>\n",
       "      <th>revenue</th>\n",
       "      <th>runtime</th>\n",
       "      <th>spoken_languages</th>\n",
       "      <th>status</th>\n",
       "      <th>tagline</th>\n",
       "      <th>title</th>\n",
       "      <th>vote_average</th>\n",
       "      <th>vote_count</th>\n",
       "    </tr>\n",
       "  </thead>\n",
       "  <tbody>\n",
       "  </tbody>\n",
       "</table>\n",
       "</div>"
      ],
      "text/plain": [
       "Empty DataFrame\n",
       "Columns: [budget, genres, homepage, id, keywords, original_language, original_title, overview, popularity, production_companies, production_countries, release_date, revenue, runtime, spoken_languages, status, tagline, title, vote_average, vote_count]\n",
       "Index: []"
      ]
     },
     "execution_count": 128,
     "metadata": {},
     "output_type": "execute_result"
    }
   ],
   "source": [
    "#print(\"Content: \", kaggle_movies[\"vote_average\"].unique().tolist())\n",
    "print(\"Info: \", kaggle_movies[\"vote_average\"].info())\n",
    "# 1 empty entries\n",
    "print(\"Sum of NaNs: \", kaggle_movies[\"vote_average\"].isnull().sum())\n",
    "filt_oview = ((kaggle_movies[\"vote_average\"].isnull()) | (kaggle_movies[\"release_date\"] == \"\"))  \n",
    "kaggle_movies[filt_oview]"
   ]
  },
  {
   "cell_type": "code",
   "execution_count": 136,
   "id": "210a92a8-370f-4c6d-a8a8-46a712444f3c",
   "metadata": {},
   "outputs": [
    {
     "data": {
      "text/plain": [
       "count    4803.000000\n",
       "mean        6.092172\n",
       "std         1.194612\n",
       "min         0.000000\n",
       "25%         5.600000\n",
       "50%         6.200000\n",
       "75%         6.800000\n",
       "max        10.000000\n",
       "Name: vote_average, dtype: float64"
      ]
     },
     "execution_count": 136,
     "metadata": {},
     "output_type": "execute_result"
    }
   ],
   "source": [
    "kaggle_movies[\"vote_average\"].describe()"
   ]
  },
  {
   "cell_type": "markdown",
   "id": "51b7211a-e0fd-43f6-aad2-666af0711666",
   "metadata": {},
   "source": [
    "#### Vote Count"
   ]
  },
  {
   "cell_type": "code",
   "execution_count": 130,
   "id": "d8b0b4cb-3635-4c37-98e3-92105fd89164",
   "metadata": {},
   "outputs": [
    {
     "name": "stdout",
     "output_type": "stream",
     "text": [
      "<class 'pandas.core.series.Series'>\n",
      "RangeIndex: 4803 entries, 0 to 4802\n",
      "Series name: vote_count\n",
      "Non-Null Count  Dtype\n",
      "--------------  -----\n",
      "4803 non-null   int64\n",
      "dtypes: int64(1)\n",
      "memory usage: 37.7 KB\n",
      "Info:  None\n",
      "Sum of NaNs:  0\n"
     ]
    },
    {
     "data": {
      "text/html": [
       "<div>\n",
       "<style scoped>\n",
       "    .dataframe tbody tr th:only-of-type {\n",
       "        vertical-align: middle;\n",
       "    }\n",
       "\n",
       "    .dataframe tbody tr th {\n",
       "        vertical-align: top;\n",
       "    }\n",
       "\n",
       "    .dataframe thead th {\n",
       "        text-align: right;\n",
       "    }\n",
       "</style>\n",
       "<table border=\"1\" class=\"dataframe\">\n",
       "  <thead>\n",
       "    <tr style=\"text-align: right;\">\n",
       "      <th></th>\n",
       "      <th>budget</th>\n",
       "      <th>genres</th>\n",
       "      <th>homepage</th>\n",
       "      <th>id</th>\n",
       "      <th>keywords</th>\n",
       "      <th>original_language</th>\n",
       "      <th>original_title</th>\n",
       "      <th>overview</th>\n",
       "      <th>popularity</th>\n",
       "      <th>production_companies</th>\n",
       "      <th>production_countries</th>\n",
       "      <th>release_date</th>\n",
       "      <th>revenue</th>\n",
       "      <th>runtime</th>\n",
       "      <th>spoken_languages</th>\n",
       "      <th>status</th>\n",
       "      <th>tagline</th>\n",
       "      <th>title</th>\n",
       "      <th>vote_average</th>\n",
       "      <th>vote_count</th>\n",
       "    </tr>\n",
       "  </thead>\n",
       "  <tbody>\n",
       "  </tbody>\n",
       "</table>\n",
       "</div>"
      ],
      "text/plain": [
       "Empty DataFrame\n",
       "Columns: [budget, genres, homepage, id, keywords, original_language, original_title, overview, popularity, production_companies, production_countries, release_date, revenue, runtime, spoken_languages, status, tagline, title, vote_average, vote_count]\n",
       "Index: []"
      ]
     },
     "execution_count": 130,
     "metadata": {},
     "output_type": "execute_result"
    }
   ],
   "source": [
    "#print(\"Content: \", kaggle_movies[\"vote_counts\"].unique().tolist())\n",
    "print(\"Info: \", kaggle_movies[\"vote_count\"].info())\n",
    "# 1 empty entries\n",
    "print(\"Sum of NaNs: \", kaggle_movies[\"vote_count\"].isnull().sum())\n",
    "filt_oview = ((kaggle_movies[\"vote_count\"].isnull()) | (kaggle_movies[\"vote_count\"] == \"\"))  \n",
    "kaggle_movies[filt_oview]"
   ]
  },
  {
   "cell_type": "code",
   "execution_count": 135,
   "id": "37da8c90-f24d-477c-8f55-6e3e6261d941",
   "metadata": {},
   "outputs": [
    {
     "data": {
      "text/plain": [
       "count     4803.000000\n",
       "mean       690.217989\n",
       "std       1234.585891\n",
       "min          0.000000\n",
       "25%         54.000000\n",
       "50%        235.000000\n",
       "75%        737.000000\n",
       "max      13752.000000\n",
       "Name: vote_count, dtype: float64"
      ]
     },
     "execution_count": 135,
     "metadata": {},
     "output_type": "execute_result"
    }
   ],
   "source": [
    "kaggle_movies[\"vote_count\"].describe()"
   ]
  },
  {
   "cell_type": "code",
   "execution_count": 186,
   "id": "2e899421-e986-4dea-8760-6ef3761cd764",
   "metadata": {},
   "outputs": [],
   "source": [
    "kaggle_movies.to_parquet(\"kaggle_tmdb.parquet\")"
   ]
  },
  {
   "cell_type": "markdown",
   "id": "a60f39fb-cacf-440d-a61a-ee362a5016db",
   "metadata": {},
   "source": [
    "## Optimierte analyse der Nullwerte im Datensatz\n",
    "Quelle: https://www.kaggle.com/code/sadeghjalalian/imdb-best-movies-analysis-recommender-system"
   ]
  },
  {
   "cell_type": "code",
   "execution_count": 13,
   "id": "1a6b9b59-8080-40f5-bd24-ff410c6fd068",
   "metadata": {},
   "outputs": [
    {
     "data": {
      "text/plain": [
       "<Axes: >"
      ]
     },
     "execution_count": 13,
     "metadata": {},
     "output_type": "execute_result"
    },
    {
     "data": {
      "image/png": "[encoded data removed]",
      "text/plain": [
       "<Figure size 2500x1000 with 2 Axes>"
      ]
     },
     "metadata": {},
     "output_type": "display_data"
    }
   ],
   "source": [
    "msno.matrix(kaggle_movies)"
   ]
  },
  {
   "cell_type": "markdown",
   "id": "17ef1af6-0898-441c-8925-51bf55286a6a",
   "metadata": {},
   "source": [
    "## IMDB dataset: NaN-vals percentage\n"
   ]
  },
  {
   "cell_type": "code",
   "execution_count": 17,
   "id": "33552039-ab01-4aac-a45b-5ae8d9617c36",
   "metadata": {},
   "outputs": [
    {
     "name": "stdout",
     "output_type": "stream",
     "text": [
      "homepage's null rate : 64.36%\n",
      "overview's null rate : 0.06%\n",
      "release_date's null rate : 0.02%\n",
      "runtime's null rate : 0.04%\n",
      "tagline's null rate : 17.57%\n"
     ]
    }
   ],
   "source": [
    "for i in kaggle_movies.columns:\n",
    "    null_rate = kaggle_movies[i].isna().sum() / len(kaggle_movies) * 100 \n",
    "    if null_rate > 0 :\n",
    "        print(f\"{i}'s null rate : {null_rate:.2f}%\")"
   ]
  },
  {
   "cell_type": "code",
   "execution_count": 19,
   "id": "38711c95-2bcb-408f-acf4-e293e8cad23b",
   "metadata": {},
   "outputs": [
    {
     "data": {
      "text/html": [
       "<div>\n",
       "<style scoped>\n",
       "    .dataframe tbody tr th:only-of-type {\n",
       "        vertical-align: middle;\n",
       "    }\n",
       "\n",
       "    .dataframe tbody tr th {\n",
       "        vertical-align: top;\n",
       "    }\n",
       "\n",
       "    .dataframe thead th {\n",
       "        text-align: right;\n",
       "    }\n",
       "</style>\n",
       "<table border=\"1\" class=\"dataframe\">\n",
       "  <thead>\n",
       "    <tr style=\"text-align: right;\">\n",
       "      <th></th>\n",
       "      <th>budget</th>\n",
       "      <th>genres</th>\n",
       "      <th>homepage</th>\n",
       "      <th>id</th>\n",
       "      <th>keywords</th>\n",
       "      <th>original_language</th>\n",
       "      <th>original_title</th>\n",
       "      <th>overview</th>\n",
       "      <th>popularity</th>\n",
       "      <th>production_companies</th>\n",
       "      <th>production_countries</th>\n",
       "      <th>release_date</th>\n",
       "      <th>revenue</th>\n",
       "      <th>runtime</th>\n",
       "      <th>spoken_languages</th>\n",
       "      <th>status</th>\n",
       "      <th>tagline</th>\n",
       "      <th>title</th>\n",
       "      <th>vote_average</th>\n",
       "      <th>vote_count</th>\n",
       "    </tr>\n",
       "  </thead>\n",
       "  <tbody>\n",
       "    <tr>\n",
       "      <th>3519</th>\n",
       "      <td>0</td>\n",
       "      <td>[{'id': 35, 'name': 'Comedy'}]</td>\n",
       "      <td>NaN</td>\n",
       "      <td>89861</td>\n",
       "      <td>[{'id': 131, 'name': 'italy'}, {'id': 8250, 'n...</td>\n",
       "      <td>en</td>\n",
       "      <td>Stiff Upper Lips</td>\n",
       "      <td>Stiff Upper Lips is a broad parody of British ...</td>\n",
       "      <td>0.356495</td>\n",
       "      <td>[]</td>\n",
       "      <td>[{'iso_3166_1': 'GB', 'name': 'United Kingdom'...</td>\n",
       "      <td>1998-06-12</td>\n",
       "      <td>0</td>\n",
       "      <td>99.0</td>\n",
       "      <td>[{'iso_639_1': 'en', 'name': 'English'}]</td>\n",
       "      <td>Released</td>\n",
       "      <td>NaN</td>\n",
       "      <td>Stiff Upper Lips</td>\n",
       "      <td>10.0</td>\n",
       "      <td>1</td>\n",
       "    </tr>\n",
       "    <tr>\n",
       "      <th>4247</th>\n",
       "      <td>1</td>\n",
       "      <td>[{'id': 10749, 'name': 'Romance'}, {'id': 35, ...</td>\n",
       "      <td>NaN</td>\n",
       "      <td>361505</td>\n",
       "      <td>[]</td>\n",
       "      <td>en</td>\n",
       "      <td>Me You and Five Bucks</td>\n",
       "      <td>A womanizing yet lovable loser, Charlie, a wai...</td>\n",
       "      <td>0.094105</td>\n",
       "      <td>[]</td>\n",
       "      <td>[]</td>\n",
       "      <td>2015-07-07</td>\n",
       "      <td>0</td>\n",
       "      <td>90.0</td>\n",
       "      <td>[]</td>\n",
       "      <td>Released</td>\n",
       "      <td>A story about second, second chances</td>\n",
       "      <td>Me You and Five Bucks</td>\n",
       "      <td>10.0</td>\n",
       "      <td>2</td>\n",
       "    </tr>\n",
       "    <tr>\n",
       "      <th>4045</th>\n",
       "      <td>0</td>\n",
       "      <td>[{'id': 35, 'name': 'Comedy'}, {'id': 18, 'nam...</td>\n",
       "      <td>NaN</td>\n",
       "      <td>78373</td>\n",
       "      <td>[{'id': 1415, 'name': 'small town'}, {'id': 15...</td>\n",
       "      <td>en</td>\n",
       "      <td>Dancer, Texas Pop. 81</td>\n",
       "      <td>Four guys, best friends, have grown up togethe...</td>\n",
       "      <td>0.376662</td>\n",
       "      <td>[{'name': 'HSX Films', 'id': 4714}, {'name': '...</td>\n",
       "      <td>[{'iso_3166_1': 'US', 'name': 'United States o...</td>\n",
       "      <td>1998-05-01</td>\n",
       "      <td>565592</td>\n",
       "      <td>97.0</td>\n",
       "      <td>[{'iso_639_1': 'en', 'name': 'English'}]</td>\n",
       "      <td>Released</td>\n",
       "      <td>in the middle of nowhere they had everything</td>\n",
       "      <td>Dancer, Texas Pop. 81</td>\n",
       "      <td>10.0</td>\n",
       "      <td>1</td>\n",
       "    </tr>\n",
       "    <tr>\n",
       "      <th>4662</th>\n",
       "      <td>0</td>\n",
       "      <td>[{'id': 35, 'name': 'Comedy'}]</td>\n",
       "      <td>NaN</td>\n",
       "      <td>40963</td>\n",
       "      <td>[{'id': 10183, 'name': 'independent film'}]</td>\n",
       "      <td>en</td>\n",
       "      <td>Little Big Top</td>\n",
       "      <td>An aging out of work clown returns to his smal...</td>\n",
       "      <td>0.092100</td>\n",
       "      <td>[{'name': 'Fly High Films', 'id': 24248}]</td>\n",
       "      <td>[{'iso_3166_1': 'US', 'name': 'United States o...</td>\n",
       "      <td>2006-01-01</td>\n",
       "      <td>0</td>\n",
       "      <td>0.0</td>\n",
       "      <td>[{'iso_639_1': 'en', 'name': 'English'}]</td>\n",
       "      <td>Rumored</td>\n",
       "      <td>NaN</td>\n",
       "      <td>Little Big Top</td>\n",
       "      <td>10.0</td>\n",
       "      <td>1</td>\n",
       "    </tr>\n",
       "    <tr>\n",
       "      <th>3992</th>\n",
       "      <td>0</td>\n",
       "      <td>[]</td>\n",
       "      <td>NaN</td>\n",
       "      <td>346081</td>\n",
       "      <td>[]</td>\n",
       "      <td>en</td>\n",
       "      <td>Sardaarji</td>\n",
       "      <td>A ghost hunter uses bottles to capture trouble...</td>\n",
       "      <td>0.296981</td>\n",
       "      <td>[]</td>\n",
       "      <td>[{'iso_3166_1': 'IN', 'name': 'India'}]</td>\n",
       "      <td>2015-06-26</td>\n",
       "      <td>0</td>\n",
       "      <td>0.0</td>\n",
       "      <td>[]</td>\n",
       "      <td>Released</td>\n",
       "      <td>NaN</td>\n",
       "      <td>Sardaarji</td>\n",
       "      <td>9.5</td>\n",
       "      <td>2</td>\n",
       "    </tr>\n",
       "    <tr>\n",
       "      <th>...</th>\n",
       "      <td>...</td>\n",
       "      <td>...</td>\n",
       "      <td>...</td>\n",
       "      <td>...</td>\n",
       "      <td>...</td>\n",
       "      <td>...</td>\n",
       "      <td>...</td>\n",
       "      <td>...</td>\n",
       "      <td>...</td>\n",
       "      <td>...</td>\n",
       "      <td>...</td>\n",
       "      <td>...</td>\n",
       "      <td>...</td>\n",
       "      <td>...</td>\n",
       "      <td>...</td>\n",
       "      <td>...</td>\n",
       "      <td>...</td>\n",
       "      <td>...</td>\n",
       "      <td>...</td>\n",
       "      <td>...</td>\n",
       "    </tr>\n",
       "    <tr>\n",
       "      <th>3960</th>\n",
       "      <td>0</td>\n",
       "      <td>[{'id': 35, 'name': 'Comedy'}, {'id': 10751, '...</td>\n",
       "      <td>https://www.facebook.com/pages/The-Deported/46...</td>\n",
       "      <td>170480</td>\n",
       "      <td>[]</td>\n",
       "      <td>en</td>\n",
       "      <td>The Deported</td>\n",
       "      <td>An Italian-American actor is deported to Mexic...</td>\n",
       "      <td>0.194848</td>\n",
       "      <td>[]</td>\n",
       "      <td>[]</td>\n",
       "      <td>2010-06-15</td>\n",
       "      <td>0</td>\n",
       "      <td>90.0</td>\n",
       "      <td>[{'iso_639_1': 'en', 'name': 'English'}]</td>\n",
       "      <td>Released</td>\n",
       "      <td>NaN</td>\n",
       "      <td>The Deported</td>\n",
       "      <td>0.0</td>\n",
       "      <td>0</td>\n",
       "    </tr>\n",
       "    <tr>\n",
       "      <th>4684</th>\n",
       "      <td>0</td>\n",
       "      <td>[{'id': 27, 'name': 'Horror'}]</td>\n",
       "      <td>NaN</td>\n",
       "      <td>402515</td>\n",
       "      <td>[{'id': 321, 'name': 'terror'}, {'id': 8087, '...</td>\n",
       "      <td>pt</td>\n",
       "      <td>Solitude</td>\n",
       "      <td>After finding an old storage locker filled wit...</td>\n",
       "      <td>0.018716</td>\n",
       "      <td>[{'name': 'Gravitas Ventures', 'id': 44632}]</td>\n",
       "      <td>[{'iso_3166_1': 'US', 'name': 'United States o...</td>\n",
       "      <td>2014-10-21</td>\n",
       "      <td>0</td>\n",
       "      <td>89.0</td>\n",
       "      <td>[{'iso_639_1': 'en', 'name': 'English'}]</td>\n",
       "      <td>Released</td>\n",
       "      <td>NaN</td>\n",
       "      <td>American Beast</td>\n",
       "      <td>0.0</td>\n",
       "      <td>0</td>\n",
       "    </tr>\n",
       "    <tr>\n",
       "      <th>3967</th>\n",
       "      <td>3</td>\n",
       "      <td>[{'id': 18, 'name': 'Drama'}, {'id': 35, 'name...</td>\n",
       "      <td>NaN</td>\n",
       "      <td>79587</td>\n",
       "      <td>[]</td>\n",
       "      <td>en</td>\n",
       "      <td>Four Single Fathers</td>\n",
       "      <td>A comedy/drama about four Italian single fathe...</td>\n",
       "      <td>0.008263</td>\n",
       "      <td>[{'name': 'Indiana Production Company', 'id': ...</td>\n",
       "      <td>[{'iso_3166_1': 'US', 'name': 'United States o...</td>\n",
       "      <td>2009-01-15</td>\n",
       "      <td>0</td>\n",
       "      <td>100.0</td>\n",
       "      <td>[{'iso_639_1': 'it', 'name': 'Italiano'}, {'is...</td>\n",
       "      <td>Released</td>\n",
       "      <td>Comedy</td>\n",
       "      <td>Four Single Fathers</td>\n",
       "      <td>0.0</td>\n",
       "      <td>0</td>\n",
       "    </tr>\n",
       "    <tr>\n",
       "      <th>4486</th>\n",
       "      <td>700000</td>\n",
       "      <td>[{'id': 18, 'name': 'Drama'}]</td>\n",
       "      <td>http://naturallynative.com/home.html</td>\n",
       "      <td>302579</td>\n",
       "      <td>[{'id': 10322, 'name': 'native american'}, {'i...</td>\n",
       "      <td>en</td>\n",
       "      <td>Naturally Native</td>\n",
       "      <td>Naturally Native follows the lives, loves, pai...</td>\n",
       "      <td>0.578798</td>\n",
       "      <td>[{'name': 'Red-horse Native', 'id': 38147}]</td>\n",
       "      <td>[{'iso_3166_1': 'US', 'name': 'United States o...</td>\n",
       "      <td>1999-10-08</td>\n",
       "      <td>10508</td>\n",
       "      <td>107.0</td>\n",
       "      <td>[{'iso_639_1': 'en', 'name': 'English'}]</td>\n",
       "      <td>Released</td>\n",
       "      <td>Sometimes When You're Going Home, It's Importa...</td>\n",
       "      <td>Naturally Native</td>\n",
       "      <td>0.0</td>\n",
       "      <td>0</td>\n",
       "    </tr>\n",
       "    <tr>\n",
       "      <th>4458</th>\n",
       "      <td>0</td>\n",
       "      <td>[]</td>\n",
       "      <td>NaN</td>\n",
       "      <td>279759</td>\n",
       "      <td>[]</td>\n",
       "      <td>en</td>\n",
       "      <td>Harrison Montgomery</td>\n",
       "      <td>Film from Daniel Davila</td>\n",
       "      <td>0.006943</td>\n",
       "      <td>[]</td>\n",
       "      <td>[]</td>\n",
       "      <td>2008-01-01</td>\n",
       "      <td>0</td>\n",
       "      <td>0.0</td>\n",
       "      <td>[]</td>\n",
       "      <td>Released</td>\n",
       "      <td>NaN</td>\n",
       "      <td>Harrison Montgomery</td>\n",
       "      <td>0.0</td>\n",
       "      <td>0</td>\n",
       "    </tr>\n",
       "  </tbody>\n",
       "</table>\n",
       "<p>4803 rows × 20 columns</p>\n",
       "</div>"
      ],
      "text/plain": [
       "      budget                                             genres  \\\n",
       "3519       0                     [{'id': 35, 'name': 'Comedy'}]   \n",
       "4247       1  [{'id': 10749, 'name': 'Romance'}, {'id': 35, ...   \n",
       "4045       0  [{'id': 35, 'name': 'Comedy'}, {'id': 18, 'nam...   \n",
       "4662       0                     [{'id': 35, 'name': 'Comedy'}]   \n",
       "3992       0                                                 []   \n",
       "...      ...                                                ...   \n",
       "3960       0  [{'id': 35, 'name': 'Comedy'}, {'id': 10751, '...   \n",
       "4684       0                     [{'id': 27, 'name': 'Horror'}]   \n",
       "3967       3  [{'id': 18, 'name': 'Drama'}, {'id': 35, 'name...   \n",
       "4486  700000                      [{'id': 18, 'name': 'Drama'}]   \n",
       "4458       0                                                 []   \n",
       "\n",
       "                                               homepage      id  \\\n",
       "3519                                                NaN   89861   \n",
       "4247                                                NaN  361505   \n",
       "4045                                                NaN   78373   \n",
       "4662                                                NaN   40963   \n",
       "3992                                                NaN  346081   \n",
       "...                                                 ...     ...   \n",
       "3960  https://www.facebook.com/pages/The-Deported/46...  170480   \n",
       "4684                                                NaN  402515   \n",
       "3967                                                NaN   79587   \n",
       "4486               http://naturallynative.com/home.html  302579   \n",
       "4458                                                NaN  279759   \n",
       "\n",
       "                                               keywords original_language  \\\n",
       "3519  [{'id': 131, 'name': 'italy'}, {'id': 8250, 'n...                en   \n",
       "4247                                                 []                en   \n",
       "4045  [{'id': 1415, 'name': 'small town'}, {'id': 15...                en   \n",
       "4662        [{'id': 10183, 'name': 'independent film'}]                en   \n",
       "3992                                                 []                en   \n",
       "...                                                 ...               ...   \n",
       "3960                                                 []                en   \n",
       "4684  [{'id': 321, 'name': 'terror'}, {'id': 8087, '...                pt   \n",
       "3967                                                 []                en   \n",
       "4486  [{'id': 10322, 'name': 'native american'}, {'i...                en   \n",
       "4458                                                 []                en   \n",
       "\n",
       "             original_title  \\\n",
       "3519       Stiff Upper Lips   \n",
       "4247  Me You and Five Bucks   \n",
       "4045  Dancer, Texas Pop. 81   \n",
       "4662         Little Big Top   \n",
       "3992              Sardaarji   \n",
       "...                     ...   \n",
       "3960           The Deported   \n",
       "4684               Solitude   \n",
       "3967    Four Single Fathers   \n",
       "4486       Naturally Native   \n",
       "4458    Harrison Montgomery   \n",
       "\n",
       "                                               overview  popularity  \\\n",
       "3519  Stiff Upper Lips is a broad parody of British ...    0.356495   \n",
       "4247  A womanizing yet lovable loser, Charlie, a wai...    0.094105   \n",
       "4045  Four guys, best friends, have grown up togethe...    0.376662   \n",
       "4662  An aging out of work clown returns to his smal...    0.092100   \n",
       "3992  A ghost hunter uses bottles to capture trouble...    0.296981   \n",
       "...                                                 ...         ...   \n",
       "3960  An Italian-American actor is deported to Mexic...    0.194848   \n",
       "4684  After finding an old storage locker filled wit...    0.018716   \n",
       "3967  A comedy/drama about four Italian single fathe...    0.008263   \n",
       "4486  Naturally Native follows the lives, loves, pai...    0.578798   \n",
       "4458                            Film from Daniel Davila    0.006943   \n",
       "\n",
       "                                   production_companies  \\\n",
       "3519                                                 []   \n",
       "4247                                                 []   \n",
       "4045  [{'name': 'HSX Films', 'id': 4714}, {'name': '...   \n",
       "4662          [{'name': 'Fly High Films', 'id': 24248}]   \n",
       "3992                                                 []   \n",
       "...                                                 ...   \n",
       "3960                                                 []   \n",
       "4684       [{'name': 'Gravitas Ventures', 'id': 44632}]   \n",
       "3967  [{'name': 'Indiana Production Company', 'id': ...   \n",
       "4486        [{'name': 'Red-horse Native', 'id': 38147}]   \n",
       "4458                                                 []   \n",
       "\n",
       "                                   production_countries release_date  revenue  \\\n",
       "3519  [{'iso_3166_1': 'GB', 'name': 'United Kingdom'...   1998-06-12        0   \n",
       "4247                                                 []   2015-07-07        0   \n",
       "4045  [{'iso_3166_1': 'US', 'name': 'United States o...   1998-05-01   565592   \n",
       "4662  [{'iso_3166_1': 'US', 'name': 'United States o...   2006-01-01        0   \n",
       "3992            [{'iso_3166_1': 'IN', 'name': 'India'}]   2015-06-26        0   \n",
       "...                                                 ...          ...      ...   \n",
       "3960                                                 []   2010-06-15        0   \n",
       "4684  [{'iso_3166_1': 'US', 'name': 'United States o...   2014-10-21        0   \n",
       "3967  [{'iso_3166_1': 'US', 'name': 'United States o...   2009-01-15        0   \n",
       "4486  [{'iso_3166_1': 'US', 'name': 'United States o...   1999-10-08    10508   \n",
       "4458                                                 []   2008-01-01        0   \n",
       "\n",
       "      runtime                                   spoken_languages    status  \\\n",
       "3519     99.0           [{'iso_639_1': 'en', 'name': 'English'}]  Released   \n",
       "4247     90.0                                                 []  Released   \n",
       "4045     97.0           [{'iso_639_1': 'en', 'name': 'English'}]  Released   \n",
       "4662      0.0           [{'iso_639_1': 'en', 'name': 'English'}]   Rumored   \n",
       "3992      0.0                                                 []  Released   \n",
       "...       ...                                                ...       ...   \n",
       "3960     90.0           [{'iso_639_1': 'en', 'name': 'English'}]  Released   \n",
       "4684     89.0           [{'iso_639_1': 'en', 'name': 'English'}]  Released   \n",
       "3967    100.0  [{'iso_639_1': 'it', 'name': 'Italiano'}, {'is...  Released   \n",
       "4486    107.0           [{'iso_639_1': 'en', 'name': 'English'}]  Released   \n",
       "4458      0.0                                                 []  Released   \n",
       "\n",
       "                                                tagline  \\\n",
       "3519                                                NaN   \n",
       "4247               A story about second, second chances   \n",
       "4045       in the middle of nowhere they had everything   \n",
       "4662                                                NaN   \n",
       "3992                                                NaN   \n",
       "...                                                 ...   \n",
       "3960                                                NaN   \n",
       "4684                                                NaN   \n",
       "3967                                             Comedy   \n",
       "4486  Sometimes When You're Going Home, It's Importa...   \n",
       "4458                                                NaN   \n",
       "\n",
       "                      title  vote_average  vote_count  \n",
       "3519       Stiff Upper Lips          10.0           1  \n",
       "4247  Me You and Five Bucks          10.0           2  \n",
       "4045  Dancer, Texas Pop. 81          10.0           1  \n",
       "4662         Little Big Top          10.0           1  \n",
       "3992              Sardaarji           9.5           2  \n",
       "...                     ...           ...         ...  \n",
       "3960           The Deported           0.0           0  \n",
       "4684         American Beast           0.0           0  \n",
       "3967    Four Single Fathers           0.0           0  \n",
       "4486       Naturally Native           0.0           0  \n",
       "4458    Harrison Montgomery           0.0           0  \n",
       "\n",
       "[4803 rows x 20 columns]"
      ]
     },
     "execution_count": 19,
     "metadata": {},
     "output_type": "execute_result"
    }
   ],
   "source": []
  },
  {
   "cell_type": "markdown",
   "id": "1aab47dd-f263-4b25-bfdc-eb30e2835eb1",
   "metadata": {},
   "source": [
    "## Rating threshold"
   ]
  },
  {
   "cell_type": "code",
   "execution_count": 14,
   "id": "20401546-6961-48bd-9048-89bfcbc0cedf",
   "metadata": {},
   "outputs": [
    {
     "data": {
      "text/plain": [
       "1838.4000000000015"
      ]
     },
     "execution_count": 14,
     "metadata": {},
     "output_type": "execute_result"
    }
   ],
   "source": [
    "kaggle_movies[\"vote_average\"]\n",
    "kaggle_movies[\"vote_count\"].quantile(0.9)\n"
   ]
  }
 ],
 "metadata": {
  "kernelspec": {
   "display_name": "Python 3 (ipykernel)",
   "language": "python",
   "name": "python3"
  },
  "language_info": {
   "codemirror_mode": {
    "name": "ipython",
    "version": 3
   },
   "file_extension": ".py",
   "mimetype": "text/x-python",
   "name": "python",
   "nbconvert_exporter": "python",
   "pygments_lexer": "ipython3",
   "version": "3.12.7"
  }
 },
 "nbformat": 4,
 "nbformat_minor": 5
}
