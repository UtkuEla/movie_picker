{
 "cells": [
  {
   "cell_type": "markdown",
   "id": "3337cb71-d3a8-4e1c-98f5-c6ab99aca482",
   "metadata": {},
   "source": [
    "W=R∗v+C∗mv+m\n",
    "\n",
    "Where:\n",
    "\n",
    "W = weighted rating\n",
    "R = average rating for the movie as a number from 1 to 10 (vote_average)\n",
    "v = number of votes for the movie (vote_count)\n",
    "m = minimum votes required to be listed in the Top 250 (currently 25,000)\n",
    "C = the mean vote across the whole report"
   ]
  },
  {
   "cell_type": "code",
   "execution_count": null,
   "id": "7895af41-e844-40d2-ba81-9e42d4fd08a2",
   "metadata": {},
   "outputs": [],
   "source": [
    "R = toprated[\"vote_average\"]\n",
    "v = toprated[\"vote_count\"]\n",
    "m = kaggle_movies[\"vote_count\"].quantile(0.75)\n",
    "C = kaggle_movies[\"vote_average\"].mean() "
   ]
  },
  {
   "cell_type": "code",
   "execution_count": null,
   "id": "f7378420-3475-470b-8dc5-50dfef13a0d1",
   "metadata": {},
   "outputs": [],
   "source": [
    "W = (R * v + C * m) / (v + m)"
   ]
  },
  {
   "cell_type": "code",
   "execution_count": null,
   "id": "9952f1a0-ecdb-40d7-b535-dd525e88a502",
   "metadata": {},
   "outputs": [],
   "source": [
    "def  weighted_rating (data_frame, quantile):\n",
    "    R = toprated[\"vote_average\"]\n",
    "    v = toprated[\"vote_count\"]\n",
    "    m = kaggle_movies[\"vote_count\"].quantile(0.75)\n",
    "    C = kaggle_movies[\"vote_average\"].mean() "
   ]
  }
 ],
 "metadata": {
  "kernelspec": {
   "display_name": "Python 3 (ipykernel)",
   "language": "python",
   "name": "python3"
  },
  "language_info": {
   "codemirror_mode": {
    "name": "ipython",
    "version": 3
   },
   "file_extension": ".py",
   "mimetype": "text/x-python",
   "name": "python",
   "nbconvert_exporter": "python",
   "pygments_lexer": "ipython3",
   "version": "3.12.7"
  }
 },
 "nbformat": 4,
 "nbformat_minor": 5
}
