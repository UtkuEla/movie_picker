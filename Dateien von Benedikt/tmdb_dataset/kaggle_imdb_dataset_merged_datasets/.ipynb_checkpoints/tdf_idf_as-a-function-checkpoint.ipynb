{
 "cells": [
  {
   "cell_type": "markdown",
   "id": "036ff23d-8614-458d-a67e-b78fd6f469bc",
   "metadata": {},
   "source": [
    "## Generates a python-function from jupyther notebook"
   ]
  },
  {
   "cell_type": "code",
   "execution_count": 10,
   "id": "57c2546a-b8ff-4bf4-924b-c4e7241a8853",
   "metadata": {},
   "outputs": [
    {
     "name": "stdout",
     "output_type": "stream",
     "text": [
      "Overwriting recommender.py\n"
     ]
    }
   ],
   "source": [
    "%%writefile recommender.py\n",
    "\n",
    "import pandas as pd\n",
    "import numpy as np\n",
    "import seaborn as sns\n",
    "from matplotlib import pyplot as plt\n",
    "\n",
    "#Import TfIdfVectorizer from scikit-learn\n",
    "from sklearn.feature_extraction.text import TfidfVectorizer\n",
    "# Import linear_kernel\n",
    "from sklearn.metrics.pairwise import linear_kernel\n",
    "\n",
    "def get_recommendations(title, method=\"series\"):\n",
    " \n",
    "    q_movies = pd.read_parquet(\"../tmbd_exports/quality_movs_weighted_rating.parquet\")\n",
    "    indices = pd.Series(q_movies.index, index = q_movies[\"title\"])\n",
    "    \n",
    "    #Define a TF-IDF Vectorizer Object. Remove all english stop words such as 'the', 'a'\n",
    "    tfidf = TfidfVectorizer(stop_words='english')\n",
    "    \n",
    "    #Replace NaN with an empty string\n",
    "    q_movies['overview'] = q_movies['overview']#.fillna('')\n",
    "    \n",
    "    #Construct the required TF-IDF matrix by fitting and transforming the data\n",
    "    tfidf_matrix = tfidf.fit_transform(q_movies['overview'])\n",
    "    \n",
    "    #Output the shape of tfidf_matrix\n",
    "    tfidf_matrix.shape\n",
    "    \n",
    "    # Compute the cosine similarity matrix\n",
    "    cosine_sim = linear_kernel(tfidf_matrix, tfidf_matrix)\n",
    "    cosine_sim.shape\n",
    "\n",
    "    # Check if movie part of database\n",
    "    if indices.get(title) == None:\n",
    "        return(\"Title not found.\")    \n",
    "        \n",
    "    # Get the index of the movie that matches the title\n",
    "    idx = indices[title]\n",
    "\n",
    "    # Get the pairwsie similarity scores of all movies with that movie\n",
    "    sim_scores = list(enumerate(cosine_sim[idx]))\n",
    "\n",
    "    # Sort the movies based on the similarity scores\n",
    "    sim_scores = sorted(sim_scores, key=lambda x: x[1], reverse=True)\n",
    "\n",
    "    # Get the scores of the 10 most similar movies\n",
    "    sim_scores = sim_scores[1:11]\n",
    "\n",
    "    # Get the movie indices\n",
    "    movie_indices = [i[0] for i in sim_scores]\n",
    "\n",
    "    if method != \"series\":\n",
    "        # Return the top 10 most similar movies\n",
    "        return q_movies.iloc[movie_indices]\n",
    "\n",
    "    return q_movies[\"title\"].iloc[movie_indices]"
   ]
  }
 ],
 "metadata": {
  "kernelspec": {
   "display_name": "Python 3 (ipykernel)",
   "language": "python",
   "name": "python3"
  },
  "language_info": {
   "codemirror_mode": {
    "name": "ipython",
    "version": 3
   },
   "file_extension": ".py",
   "mimetype": "text/x-python",
   "name": "python",
   "nbconvert_exporter": "python",
   "pygments_lexer": "ipython3",
   "version": "3.12.7"
  }
 },
 "nbformat": 4,
 "nbformat_minor": 5
}
