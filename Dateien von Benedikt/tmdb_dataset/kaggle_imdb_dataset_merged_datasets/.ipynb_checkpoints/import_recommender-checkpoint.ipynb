{
 "cells": [
  {
   "cell_type": "code",
   "execution_count": 1,
   "id": "fde80798-3d9a-416b-a8ea-2389975ba82e",
   "metadata": {},
   "outputs": [],
   "source": [
    "#import pandas as ps\n",
    "#import numpy as np\n",
    "from recommender import get_recommendations"
   ]
  },
  {
   "cell_type": "code",
   "execution_count": 3,
   "id": "61d1f43c-99ff-40ca-8596-257a29bd181a",
   "metadata": {},
   "outputs": [
    {
     "data": {
      "text/plain": [
       "516                       The Internship\n",
       "18                         Spirited Away\n",
       "319    Charlie and the Chocolate Factory\n",
       "163                           Life of Pi\n",
       "407               The Cabin in the Woods\n",
       "526                                Click\n",
       "41                                WALL·E\n",
       "420           The Last House on the Left\n",
       "537                              The Boy\n",
       "17               Guardians of the Galaxy\n",
       "Name: title, dtype: object"
      ]
     },
     "execution_count": 3,
     "metadata": {},
     "output_type": "execute_result"
    }
   ],
   "source": [
    "# Returns a dataframe object, with moe recommendations\n",
    "recommendations = get_recommendations('Ex Machina', method=\"df\")\n",
    "recommendations"
   ]
  }
 ],
 "metadata": {
  "kernelspec": {
   "display_name": "Python 3 (ipykernel)",
   "language": "python",
   "name": "python3"
  },
  "language_info": {
   "codemirror_mode": {
    "name": "ipython",
    "version": 3
   },
   "file_extension": ".py",
   "mimetype": "text/x-python",
   "name": "python",
   "nbconvert_exporter": "python",
   "pygments_lexer": "ipython3",
   "version": "3.12.7"
  }
 },
 "nbformat": 4,
 "nbformat_minor": 5
}
