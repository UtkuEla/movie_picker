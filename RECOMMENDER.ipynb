{
 "cells": [
  {
   "cell_type": "code",
   "execution_count": 87,
   "id": "15ca82a0-34df-4d7c-afd3-e925c08534fe",
   "metadata": {},
   "outputs": [
    {
     "name": "stdout",
     "output_type": "stream",
     "text": [
      "Requirement already satisfied: tabulate in c:\\anaconda\\lib\\site-packages (0.9.0)Note: you may need to restart the kernel to use updated packages.\n",
      "\n"
     ]
    }
   ],
   "source": [
    "pip install tabulate"
   ]
  },
  {
   "cell_type": "code",
   "execution_count": 77,
   "id": "7c0d823b-6277-4b00-8020-973251dbd8ca",
   "metadata": {},
   "outputs": [],
   "source": [
    "import pandas as pd \n",
    "import numpy as np \n",
    "from ast import literal_eval\n",
    "from tabulate import tabulate\n",
    "from prettytable import PrettyTable"
   ]
  },
  {
   "cell_type": "code",
   "execution_count": 3,
   "id": "1455a097-cb92-40ec-8d11-9cdf36b62e49",
   "metadata": {},
   "outputs": [],
   "source": [
    "movies = pd.read_parquet(\"tmbd_exports/tmbd_5000_api-call_merged.parquet\")"
   ]
  },
  {
   "cell_type": "code",
   "execution_count": 5,
   "id": "89da25dc-f436-4fa6-92e1-becb0a05c369",
   "metadata": {},
   "outputs": [
    {
     "data": {
      "text/plain": [
       "Index(['budget', 'genres', 'homepage', 'movie_id', 'keywords',\n",
       "       'original_language', 'original_title', 'overview', 'popularity',\n",
       "       'release_date', 'revenue', 'runtime', 'status', 'tagline', 'title',\n",
       "       'vote_average', 'vote_count', 'cast', 'director'],\n",
       "      dtype='object')"
      ]
     },
     "execution_count": 5,
     "metadata": {},
     "output_type": "execute_result"
    }
   ],
   "source": [
    "movies.columns"
   ]
  },
  {
   "cell_type": "markdown",
   "id": "676f7417-177f-42c3-922d-f40492df2c48",
   "metadata": {},
   "source": [
    "* STEP 1: TURN STRING COLUMNS INTO USEABLE OBJECTS"
   ]
  },
  {
   "cell_type": "code",
   "execution_count": 12,
   "id": "422d1bd8-3dea-4f15-bbe8-873ff9b6d05d",
   "metadata": {},
   "outputs": [
    {
     "name": "stderr",
     "output_type": "stream",
     "text": [
      "C:\\Users\\sara\\AppData\\Local\\Temp\\ipykernel_25620\\3398161126.py:10: FutureWarning: DataFrame.applymap has been deprecated. Use DataFrame.map instead.\n",
      "  movies[columns_to_fix] = movies[columns_to_fix].applymap(literal_eval)\n"
     ]
    }
   ],
   "source": [
    "# List of columns that need fixing\n",
    "columns_to_fix = ['cast', 'genres', 'director','keywords']\n",
    "\n",
    "# Convert raw comma-separated text into properly formatted lists (Vectorized)\n",
    "movies[columns_to_fix] = movies[columns_to_fix].apply(lambda col: \n",
    "    col.str.split(', ').apply(lambda x: str(x) if isinstance(x, list) else \"[]\")\n",
    ")\n",
    "\n",
    "# Apply literal_eval to convert them into actual lists\n",
    "movies[columns_to_fix] = movies[columns_to_fix].applymap(literal_eval)"
   ]
  },
  {
   "cell_type": "code",
   "execution_count": 14,
   "id": "b1bd42be-ed2d-4808-9ff7-199e56ff8207",
   "metadata": {},
   "outputs": [
    {
     "data": {
      "text/html": [
       "<div>\n",
       "<style scoped>\n",
       "    .dataframe tbody tr th:only-of-type {\n",
       "        vertical-align: middle;\n",
       "    }\n",
       "\n",
       "    .dataframe tbody tr th {\n",
       "        vertical-align: top;\n",
       "    }\n",
       "\n",
       "    .dataframe thead th {\n",
       "        text-align: right;\n",
       "    }\n",
       "</style>\n",
       "<table border=\"1\" class=\"dataframe\">\n",
       "  <thead>\n",
       "    <tr style=\"text-align: right;\">\n",
       "      <th></th>\n",
       "      <th>title</th>\n",
       "      <th>cast</th>\n",
       "      <th>director</th>\n",
       "      <th>keywords</th>\n",
       "      <th>genres</th>\n",
       "    </tr>\n",
       "  </thead>\n",
       "  <tbody>\n",
       "    <tr>\n",
       "      <th>0</th>\n",
       "      <td>Avatar</td>\n",
       "      <td>[Sam Worthington, Zoe Saldana, Sigourney Weave...</td>\n",
       "      <td>[James Cameron]</td>\n",
       "      <td>[culture clash, future, space war, space colon...</td>\n",
       "      <td>[Action, Adventure, Fantasy, Science Fiction]</td>\n",
       "    </tr>\n",
       "    <tr>\n",
       "      <th>1</th>\n",
       "      <td>Pirates of the Caribbean: At World's End</td>\n",
       "      <td>[Johnny Depp, Orlando Bloom, Keira Knightley, ...</td>\n",
       "      <td>[Gore Verbinski]</td>\n",
       "      <td>[ocean, drug abuse, exotic island, east india ...</td>\n",
       "      <td>[Adventure, Fantasy, Action]</td>\n",
       "    </tr>\n",
       "    <tr>\n",
       "      <th>2</th>\n",
       "      <td>Spectre</td>\n",
       "      <td>[Daniel Craig, Christoph Waltz, Léa Seydoux, R...</td>\n",
       "      <td>[Sam Mendes]</td>\n",
       "      <td>[spy, based on novel, secret agent, sequel, mi6]</td>\n",
       "      <td>[Action, Adventure, Crime]</td>\n",
       "    </tr>\n",
       "  </tbody>\n",
       "</table>\n",
       "</div>"
      ],
      "text/plain": [
       "                                      title  \\\n",
       "0                                    Avatar   \n",
       "1  Pirates of the Caribbean: At World's End   \n",
       "2                                   Spectre   \n",
       "\n",
       "                                                cast          director  \\\n",
       "0  [Sam Worthington, Zoe Saldana, Sigourney Weave...   [James Cameron]   \n",
       "1  [Johnny Depp, Orlando Bloom, Keira Knightley, ...  [Gore Verbinski]   \n",
       "2  [Daniel Craig, Christoph Waltz, Léa Seydoux, R...      [Sam Mendes]   \n",
       "\n",
       "                                            keywords  \\\n",
       "0  [culture clash, future, space war, space colon...   \n",
       "1  [ocean, drug abuse, exotic island, east india ...   \n",
       "2   [spy, based on novel, secret agent, sequel, mi6]   \n",
       "\n",
       "                                          genres  \n",
       "0  [Action, Adventure, Fantasy, Science Fiction]  \n",
       "1                   [Adventure, Fantasy, Action]  \n",
       "2                     [Action, Adventure, Crime]  "
      ]
     },
     "execution_count": 14,
     "metadata": {},
     "output_type": "execute_result"
    }
   ],
   "source": [
    "#check\n",
    "movies[['title', 'cast', 'director', 'keywords', 'genres']].head(3)"
   ]
  },
  {
   "cell_type": "code",
   "execution_count": 16,
   "id": "f79bd3e2-47ff-4c7b-86dc-e2c951f5d7d4",
   "metadata": {},
   "outputs": [],
   "source": [
    "#return the list top 3 elements or entire list, whichever is more. This makes the handling\n",
    "def get_list(x):\n",
    "    if isinstance(x, list):\n",
    "        # Check if the list contains dictionaries or just plain strings -> fixes potential TypeError:string indices must be integers, not 'str'\n",
    "        if all(isinstance(i, dict) for i in x):  \n",
    "            names = [i['name'] for i in x if 'name' in i]  # Extract 'name' if it's a dictionary\n",
    "        else:\n",
    "            names = x  # If it's a list of strings, use it directly\n",
    "        \n",
    "        # Return top 3 elements or the entire list\n",
    "        return names[:3] if len(names) > 3 else names\n",
    "    \n",
    "    return []  # Return an empty list if data is missing/malformed\n",
    "\n",
    "# Define the features to apply the function\n",
    "features = ['cast', 'keywords', 'genres']\n",
    "\n",
    "for feature in features:\n",
    "    movies[feature] = movies[feature].apply(get_list)"
   ]
  },
  {
   "cell_type": "code",
   "execution_count": 18,
   "id": "e853f325-43b3-49f9-8390-79b1ceea2633",
   "metadata": {},
   "outputs": [
    {
     "data": {
      "text/html": [
       "<div>\n",
       "<style scoped>\n",
       "    .dataframe tbody tr th:only-of-type {\n",
       "        vertical-align: middle;\n",
       "    }\n",
       "\n",
       "    .dataframe tbody tr th {\n",
       "        vertical-align: top;\n",
       "    }\n",
       "\n",
       "    .dataframe thead th {\n",
       "        text-align: right;\n",
       "    }\n",
       "</style>\n",
       "<table border=\"1\" class=\"dataframe\">\n",
       "  <thead>\n",
       "    <tr style=\"text-align: right;\">\n",
       "      <th></th>\n",
       "      <th>title</th>\n",
       "      <th>cast</th>\n",
       "      <th>director</th>\n",
       "      <th>keywords</th>\n",
       "      <th>genres</th>\n",
       "    </tr>\n",
       "  </thead>\n",
       "  <tbody>\n",
       "    <tr>\n",
       "      <th>0</th>\n",
       "      <td>Avatar</td>\n",
       "      <td>[Sam Worthington, Zoe Saldana, Sigourney Weaver]</td>\n",
       "      <td>[James Cameron]</td>\n",
       "      <td>[culture clash, future, space war]</td>\n",
       "      <td>[Action, Adventure, Fantasy]</td>\n",
       "    </tr>\n",
       "    <tr>\n",
       "      <th>1</th>\n",
       "      <td>Pirates of the Caribbean: At World's End</td>\n",
       "      <td>[Johnny Depp, Orlando Bloom, Keira Knightley]</td>\n",
       "      <td>[Gore Verbinski]</td>\n",
       "      <td>[ocean, drug abuse, exotic island]</td>\n",
       "      <td>[Adventure, Fantasy, Action]</td>\n",
       "    </tr>\n",
       "    <tr>\n",
       "      <th>2</th>\n",
       "      <td>Spectre</td>\n",
       "      <td>[Daniel Craig, Christoph Waltz, Léa Seydoux]</td>\n",
       "      <td>[Sam Mendes]</td>\n",
       "      <td>[spy, based on novel, secret agent]</td>\n",
       "      <td>[Action, Adventure, Crime]</td>\n",
       "    </tr>\n",
       "  </tbody>\n",
       "</table>\n",
       "</div>"
      ],
      "text/plain": [
       "                                      title  \\\n",
       "0                                    Avatar   \n",
       "1  Pirates of the Caribbean: At World's End   \n",
       "2                                   Spectre   \n",
       "\n",
       "                                               cast          director  \\\n",
       "0  [Sam Worthington, Zoe Saldana, Sigourney Weaver]   [James Cameron]   \n",
       "1     [Johnny Depp, Orlando Bloom, Keira Knightley]  [Gore Verbinski]   \n",
       "2      [Daniel Craig, Christoph Waltz, Léa Seydoux]      [Sam Mendes]   \n",
       "\n",
       "                              keywords                        genres  \n",
       "0   [culture clash, future, space war]  [Action, Adventure, Fantasy]  \n",
       "1   [ocean, drug abuse, exotic island]  [Adventure, Fantasy, Action]  \n",
       "2  [spy, based on novel, secret agent]    [Action, Adventure, Crime]  "
      ]
     },
     "execution_count": 18,
     "metadata": {},
     "output_type": "execute_result"
    }
   ],
   "source": [
    "movies[['title', 'cast', 'director', 'keywords', 'genres']].head(3)"
   ]
  },
  {
   "cell_type": "code",
   "execution_count": 24,
   "id": "e2ef13cc-a037-485e-9415-9cbfe21ed185",
   "metadata": {},
   "outputs": [],
   "source": [
    "#convert all into lower case and strip spaces so that the vectorizer does not count the Johnny of Johnny Depp and Johnny Galecki as the same\n",
    "def clean_data(x):\n",
    "    if isinstance(x, list):\n",
    "        return [str.lower(i.replace(\" \", \"\")) for i in x]\n",
    "    else:\n",
    "        #Check if director exists. If not, return empty string\n",
    "        if isinstance(x, str):\n",
    "            return str.lower(x.replace(\" \", \"\"))\n",
    "        else:\n",
    "            return ''\n",
    "\n",
    "\n",
    "#apply clean data function to features\n",
    "features=['cast', 'keywords', 'director', 'genres']\n",
    "for feature in features:\n",
    "    movies[feature]=movies[feature].apply(clean_data)"
   ]
  },
  {
   "cell_type": "markdown",
   "id": "0047051e-492a-45fb-b96c-75e12ff406a8",
   "metadata": {},
   "source": [
    "* STEP 2: CREATE METADATASOUP = string that contains all the metadata we want to feed the vectorizer (actors, director, keywords)"
   ]
  },
  {
   "cell_type": "code",
   "execution_count": 29,
   "id": "8ad0a591-ab32-4089-b410-730d080b9422",
   "metadata": {},
   "outputs": [],
   "source": [
    "def create_soup(x):\n",
    "    # Ensure all columns are lists before joining\n",
    "    keywords = ' '.join(x['keywords']) if isinstance(x['keywords'], list) else ''\n",
    "    cast = ' '.join(x['cast']) if isinstance(x['cast'], list) else ''\n",
    "    director = x['director'] if isinstance(x['director'], str) else ''\n",
    "    genres = ' '.join(x['genres']) if isinstance(x['genres'], list) else ''\n",
    "    \n",
    "    return keywords + ' ' + cast + ' ' + director + ' ' + genres\n",
    "\n",
    "movies['soup']=movies.apply(create_soup, axis=1)"
   ]
  },
  {
   "cell_type": "code",
   "execution_count": 31,
   "id": "fe09fabb-b38b-4fe7-8e10-44fa230ba96d",
   "metadata": {},
   "outputs": [
    {
     "data": {
      "text/plain": [
       "0       cultureclash future spacewar samworthington zo...\n",
       "1       ocean drugabuse exoticisland johnnydepp orland...\n",
       "2       spy basedonnovel secretagent danielcraig chris...\n",
       "3       dccomics crimefighter terrorist christianbale ...\n",
       "4       basedonnovel mars medallion taylorkitsch lynnc...\n",
       "                              ...                        \n",
       "1266       iangamazon edwinlagda edgartancangco  thriller\n",
       "1267     edwardburns caitlinfitzgerald kerrybishé  com...\n",
       "1268    loveatfirstsight date narration ericmabius kri...\n",
       "1269     danielhenney elizacoupe billpaxton  romance c...\n",
       "1270    obsession dreamgirl crush drewbarrymore brianh...\n",
       "Name: soup, Length: 6068, dtype: object"
      ]
     },
     "execution_count": 31,
     "metadata": {},
     "output_type": "execute_result"
    }
   ],
   "source": [
    "movies.soup"
   ]
  },
  {
   "cell_type": "markdown",
   "id": "9471c38b-7c19-4474-b328-6462f98d83f7",
   "metadata": {},
   "source": [
    "* STEP 3: CREATE SIMILARITY MATRIX USING COUNT VECTORIZER"
   ]
  },
  {
   "cell_type": "markdown",
   "id": "ec5975ad-8173-4d90-b664-ee51d08c638f",
   "metadata": {},
   "source": [
    "The matrix could be created using two different methods: TF-IDF and Count Vectorizer (see here for explanation of differences: https://github.com/UtkuEla/movie_picker/blob/sara_development/TF%20IDF%20vs%20Count%20Vectorizer.pdf )\n",
    "In this case I will use the Count Vectorizer because the TF-IDF could downweight the presence of an actor/director if he has acted or directed more movies. This is because CountVectorizer treats all words equally based on their frequency in a document, while TF-IDF adjusts the importance of a word, making rare words in a document stand out more compared to frequent but less informative words."
   ]
  },
  {
   "cell_type": "code",
   "execution_count": 39,
   "id": "d1f32c3b-eeee-4225-86e7-f547ea5fa314",
   "metadata": {},
   "outputs": [],
   "source": [
    "#import countvectorizer and create a count matrix\n",
    "from sklearn.feature_extraction.text import CountVectorizer\n",
    "#define the CountVectorizer Object. Remove all words like the, a\n",
    "count=CountVectorizer(stop_words='english')\n",
    "#construct the matrix by building and fitting the data\n",
    "count_matrix=count.fit_transform(movies['soup'])"
   ]
  },
  {
   "attachments": {
    "ac8bc540-209d-42d5-abdb-2340a8a08073.png": {
     "image/png": "[encoded data removed]"
    }
   },
   "cell_type": "markdown",
   "id": "4c87f864-733f-4e22-8f37-b7a6f5739b40",
   "metadata": {},
   "source": [
    "Now that we have vectorized the text and created a count matrix, we can build the SIMILARITY SCORE between movies in our dataset. This can be done using an eucledian, Pearson or cosine similarity score. They are all viable options. We will be using the cosine similarity score:\n",
    "![image.png](attachment:ac8bc540-209d-42d5-abdb-2340a8a08073.png)"
   ]
  },
  {
   "cell_type": "code",
   "execution_count": 51,
   "id": "915ec2c0-06ca-43da-a44a-9babf92e90ce",
   "metadata": {},
   "outputs": [],
   "source": [
    "#compute the cosine similarity matrix based on count_matrix\n",
    "from sklearn.metrics.pairwise import cosine_similarity\n",
    "cosine_sim=cosine_similarity(count_matrix, count_matrix)"
   ]
  },
  {
   "cell_type": "code",
   "execution_count": 53,
   "id": "1b4ed454-fa36-4e1b-92e5-d6de8ea13e4c",
   "metadata": {},
   "outputs": [],
   "source": [
    "#resest index of main DF and construct reverse mapping, this allows to identify the index of a movie in our dataframe given its title\n",
    "movies=movies.reset_index()\n",
    "indices=pd.Series(movies.index, index=movies['title'])"
   ]
  },
  {
   "cell_type": "markdown",
   "id": "08c5b172-e41d-41f0-a2bf-334a8c3dc49a",
   "metadata": {},
   "source": [
    "* STEP 4: DEFINE RECOMMENDATION FUNCTION "
   ]
  },
  {
   "cell_type": "markdown",
   "id": "5e745997-c588-42d7-8c22-3a71b82b0472",
   "metadata": {},
   "source": [
    "1. get the index of the movie given its title\n",
    "2. get the list of cosine similarity scores for that particular movie with all movies. Convert it into a list of tuples where the first element is its position and the second the similarity score\n",
    "3. sort the tuples by similairty score (second element of the tuple)\n",
    "4. get top 10 elements ignorign the first element since it refers to self\n",
    "5. return the titles corresponding to the indices of the top elements"
   ]
  },
  {
   "cell_type": "code",
   "execution_count": 89,
   "id": "1af2cf69-651d-4b54-9042-f7c69f27ffdc",
   "metadata": {},
   "outputs": [
    {
     "name": "stdin",
     "output_type": "stream",
     "text": [
      "Enter the name of the movie you want recommendations for:  The Dark Knight Rises\n"
     ]
    },
    {
     "name": "stdout",
     "output_type": "stream",
     "text": [
      "\n",
      "Top 10 Recommended Movies:\n",
      "+--------------------------+------------------------------+-------------------------------------------------------------------------------------------------------------------------------------------------------------------------------------------------------------------------------------------------------------------------------------------------------------------------------------------------------------------------------------------------------------------------------------------------------------------------------------------------------------------------------------------------------------------------------------------------------------------------------------------------+--------------------------+------------------------------------------------------+\n",
      "|          title           |            genres            |                                                                                                                                                                                                                                                                                                                    overview                                                                                                                                                                                                                                                                                                                     |         director         |                         cast                         |\n",
      "+--------------------------+------------------------------+-------------------------------------------------------------------------------------------------------------------------------------------------------------------------------------------------------------------------------------------------------------------------------------------------------------------------------------------------------------------------------------------------------------------------------------------------------------------------------------------------------------------------------------------------------------------------------------------------------------------------------------------------+--------------------------+------------------------------------------------------+\n",
      "|     The Dark Knight      | ['drama', 'action', 'crime'] |                                                                                                                  Batman raises the stakes in his war on crime. With the help of Lt. Jim Gordon and District Attorney Harvey Dent, Batman sets out to dismantle the remaining criminal organizations that plague the streets. The partnership proves to be effective, but they soon find themselves prey to a reign of chaos unleashed by a rising criminal mastermind known to the terrified citizens of Gotham as the Joker.                                                                                                                   |   ['christophernolan']   |   ['christianbale', 'heathledger', 'aaroneckhart']   |\n",
      "|      Batman Begins       | ['action', 'crime', 'drama'] |                                                                                                                                                                                  Driven by tragedy, billionaire Bruce Wayne dedicates his life to uncovering and defeating the corruption that plagues his home, Gotham City.  Unable to work within the system, he instead creates a new identity, a symbol of fear for the criminal underworld - The Batman.                                                                                                                                                                                  |   ['christophernolan']   |   ['christianbale', 'michaelcaine', 'liamneeson']    |\n",
      "| Amidst the Devil's Wings | ['drama', 'action', 'crime'] |                                                                                                                                                                                                                                                                                                          Prequel to \"5th of a Degree.\"                                                                                                                                                                                                                                                                                                          |            []            |                         ['']                         |\n",
      "|    Romeo Is Bleeding     | ['action', 'crime', 'drama'] |                                                                                                                                                                                                                                                                         A corrupt cop gets in over his head when he tries to assassinate a beautiful Russian hit-woman.                                                                                                                                                                                                                                                                         |      ['petermedak']      |    ['garyoldman', 'lenaolin', 'annabellasciorra']    |\n",
      "|          Faster          | ['crime', 'drama', 'action'] |                                                                                                               Driver (Dwayne Johnson) has spent the last 10 years in prison planning revenge for the murder of his brother. Now that Driver is free to carry out his deadly plan only two men stand in his way- Billy Bob Thornton plays a veteran cop and Oliver Jackson-Cohen, a crazy hitman. With those two close on his trail, Driver races to carry out his mission as the mystery surrounding his brothers murder deepens.                                                                                                               | ['georgetillman', 'jr.'] | ['dwaynejohnson', 'billybobthornton', 'maggiegrace'] |\n",
      "|      Black November      | ['drama', 'action', 'crime'] |                                                                  A volatile, oil-rich Nigerian community wages war against their corrupt government and a multi-national oil corporation to protect their land from being destroyed by excessive drilling and spills.  To seek justice, a rebel organization kidnaps an American oil executive and demands that his corporation end the destruction and pollution.  Inspired by true events, Black November is the gripping story of how a community rises up and takes drastic measures to make sure their voices are heard.                                                                   |      ['jetaamata']       | ['razaaqadoti', 'sarahwaynecallies', 'mickeyrourke'] |\n",
      "|         F.I.S.T.         | ['drama', 'action', 'crime'] |                                                                                                                                                                       Johnny Kovak joins the Teamsters trade-union in a local chapter in the 1930s and works his way up in the organization. As he climbs higher and higher his methods become more ruthless and finally senator Madison starts a campaign to find the truth about the alleged connections with the Mob.                                                                                                                                                                        |    ['normanjewison']     |  ['sylvesterstallone', 'rodsteiger', 'peterboyle']   |\n",
      "|      Black November      | ['drama', 'action', 'crime'] |                                                                  A volatile, oil-rich Nigerian community wages war against their corrupt government and a multi-national oil corporation to protect their land from being destroyed by excessive drilling and spills.  To seek justice, a rebel organization kidnaps an American oil executive and demands that his corporation end the destruction and pollution.  Inspired by true events, Black November is the gripping story of how a community rises up and takes drastic measures to make sure their voices are heard.                                                                   |      ['jetaamata']       |  ['mbongamata', 'razaaqadoti', 'sarahwaynecallies']  |\n",
      "| Amidst the Devil's Wings | ['drama', 'action', 'crime'] |                                                                                                                         After a corruption conspiracy leads to the cold-blooded murder of businessman Enrique Delavida.  His son Manuel, swears to gain revenge on those who killed his beloved father. Once he starts a war against both those in power and the South American drug cartels, Manuel learns the consequence of his actions when even the innocent are not spared and the war arrives at his very home.                                                                                                                          |    ['danielcolumbie']    | ['carlosguerrero', 'davidyuzuk', 'cristinafigarola'] |\n",
      "|          Takers          | ['action', 'crime', 'drama'] | A seasoned team of bank robbers, including Gordon Jennings (Idris Elba), John Rahway (Paul Walker), A.J. (Hayden Christensen), and brothers Jake (Michael Ealy) and Jesse Attica (Chris Brown) successfully complete their latest heist and lead a life of luxury while planning their next job. When Ghost (Tip T.I. Harris), a former member of their team, is released from prison he convinces the group to strike an armored car carrying $20 million. As the \"Takers\" carefully plot out their strategy and draw nearer to exacting the grand heist, a reckless police officer (Matt Dillon) inches closer to apprehending the criminals. |    ['johnluessenhop']    |  ['chrisbrown', 'haydenchristensen', 'mattdillon']   |\n",
      "+--------------------------+------------------------------+-------------------------------------------------------------------------------------------------------------------------------------------------------------------------------------------------------------------------------------------------------------------------------------------------------------------------------------------------------------------------------------------------------------------------------------------------------------------------------------------------------------------------------------------------------------------------------------------------------------------------------------------------+--------------------------+------------------------------------------------------+\n"
     ]
    }
   ],
   "source": [
    "def get_recommendations(cosine_sim=cosine_sim):\n",
    "    # Prompt the user to input a movie title\n",
    "    user_input = input(\"Enter the name of the movie you want recommendations for: \").strip()\n",
    "\n",
    "    # Check if the movie is in the dataset\n",
    "    if user_input not in indices:\n",
    "        print(\"Movie not found in the dataset. Please check the spelling and try again.\")\n",
    "        return pd.Series()  # Return an empty Series if the movie is not found\n",
    "\n",
    "    # Get the index of the movie that matches the title\n",
    "    idx = indices[user_input]\n",
    "\n",
    "    # Get the pairwise similarity scores of all movies with that movie\n",
    "    sim_scores = list(enumerate(cosine_sim[idx]))\n",
    "\n",
    "    # Sort the movies based on the similarity scores\n",
    "    sim_scores = sorted(sim_scores, key=lambda x: x[1], reverse=True)\n",
    "\n",
    "    # Get the scores of the 10 most similar movies\n",
    "    sim_scores = sim_scores[1:11]\n",
    "\n",
    "    # Get the movie indices\n",
    "    movie_indices = [i[0] for i in sim_scores]\n",
    "\n",
    "    # Return the top 10 most similar movies\n",
    "    return movies.iloc[movie_indices]\n",
    "\n",
    "# Call the function to get recommendations\n",
    "recommended_movies = get_recommendations()\n",
    "\n",
    "# Check if the recommended movies list is empty\n",
    "if recommended_movies.empty:\n",
    "    print(\"\\nNo recommendations found for the selected movie.\")\n",
    "else:\n",
    "    # Print the top 10 movies in a neat table format using tabulate\n",
    "    print(\"\\nTop 10 Recommended Movies:\")\n",
    "    print(tabulate(recommended_movies[['title', 'genres', 'overview', 'director','cast']], \n",
    "                   headers='keys', tablefmt='pretty', showindex=False))  # table format"
   ]
  },
  {
   "cell_type": "code",
   "execution_count": null,
   "id": "0459bb96-3040-4887-a0ec-2262c1e6d819",
   "metadata": {},
   "outputs": [],
   "source": []
  }
 ],
 "metadata": {
  "kernelspec": {
   "display_name": "Python 3 (ipykernel)",
   "language": "python",
   "name": "python3"
  },
  "language_info": {
   "codemirror_mode": {
    "name": "ipython",
    "version": 3
   },
   "file_extension": ".py",
   "mimetype": "text/x-python",
   "name": "python",
   "nbconvert_exporter": "python",
   "pygments_lexer": "ipython3",
   "version": "3.12.7"
  }
 },
 "nbformat": 4,
 "nbformat_minor": 5
}
