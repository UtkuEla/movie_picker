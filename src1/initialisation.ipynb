{
 "cells": [
  {
   "cell_type": "markdown",
   "id": "40e19b4f-9ebf-4419-89cf-8c4b13575722",
   "metadata": {},
   "source": [
    "## Compute similarity matrix once for firther use"
   ]
  },
  {
   "cell_type": "code",
   "execution_count": 1,
   "id": "d8cb49bd-905f-48c4-ab6b-7d49d4783ba9",
   "metadata": {},
   "outputs": [],
   "source": [
    "import pandas as pd\n",
    "import numpy as np\n",
    "import json"
   ]
  },
  {
   "cell_type": "code",
   "execution_count": 2,
   "id": "d7330f0a-f852-47bf-9d98-dacf6aa2587f",
   "metadata": {},
   "outputs": [],
   "source": [
    "# Import compute_similarities for similarity matrix \n",
    "from recommendation import compute_similarities"
   ]
  },
  {
   "cell_type": "code",
   "execution_count": 3,
   "id": "1c95f5bc-d860-4b19-99f0-7f9f3a14f874",
   "metadata": {},
   "outputs": [],
   "source": [
    "# Import Parq file and Compose data Frame for matrix\n",
    "df = pd.read_parquet(\"movies_cleaned_hard.parquet\")\n",
    "cosine_sim_combined = compute_similarities(df)"
   ]
  },
  {
   "cell_type": "code",
   "execution_count": 4,
   "id": "1f72fb3e-8c02-4441-a148-f6474e0c1ff2",
   "metadata": {},
   "outputs": [],
   "source": [
    "# Save matrix for use in main\n",
    "np.save(\"cosine_sim_combined.parquet\", cosine_sim_combined)"
   ]
  },
  {
   "cell_type": "markdown",
   "id": "2e0a0de1-79a4-4683-af5a-a6cc8c8aadd6",
   "metadata": {},
   "source": [
    "### Save genres for use in main"
   ]
  },
  {
   "cell_type": "code",
   "execution_count": 5,
   "id": "4c090f9d-4318-4806-830b-30453e5c6dca",
   "metadata": {},
   "outputs": [],
   "source": [
    "# Function to get all unique genres in the dataset -> this allows to provide a list of available genres before user input\n",
    "def get_all_genres(movies_df):\n",
    "    unique_genres = set(genre.strip().title() for genres in movies_df['genres'].dropna() for genre in genres.split(','))\n",
    "    return sorted(unique_genres)"
   ]
  },
  {
   "cell_type": "code",
   "execution_count": 6,
   "id": "7958cf72-56a1-48ff-aefe-432710ddc8b7",
   "metadata": {},
   "outputs": [],
   "source": [
    "available_genres = get_all_genres(df)\n",
    "\n",
    "# Speichern\n",
    "with open(\"unique_genres.json\", \"w\") as f:\n",
    "    json.dump(available_genres, f)"
   ]
  }
 ],
 "metadata": {
  "kernelspec": {
   "display_name": "Python 3 (ipykernel)",
   "language": "python",
   "name": "python3"
  },
  "language_info": {
   "codemirror_mode": {
    "name": "ipython",
    "version": 3
   },
   "file_extension": ".py",
   "mimetype": "text/x-python",
   "name": "python",
   "nbconvert_exporter": "python",
   "pygments_lexer": "ipython3",
   "version": "3.12.7"
  }
 },
 "nbformat": 4,
 "nbformat_minor": 5
}
