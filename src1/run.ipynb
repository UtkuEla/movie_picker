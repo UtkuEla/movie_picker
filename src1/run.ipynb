{
 "cells": [
  {
   "cell_type": "code",
   "execution_count": null,
   "id": "3fe3040e-5f8a-40ba-bdae-37b564bd579f",
   "metadata": {},
   "outputs": [
    {
     "name": "stdout",
     "output_type": "stream",
     "text": [
      "\n",
      "==================================================\n",
      "Welcome to the Movie Recommendation System\n",
      "Please choose an option:\n",
      "1. Explore by genre (Branch 1)\n",
      "2. Search directly by movie title (Branch 2)\n",
      "3. Exit\n"
     ]
    },
    {
     "name": "stdin",
     "output_type": "stream",
     "text": [
      "Enter 1, 2, or 3:  1\n"
     ]
    },
    {
     "name": "stdout",
     "output_type": "stream",
     "text": [
      "\n",
      "Available Genres:\n",
      "Action, Adventure, Animation, Comedy, Crime, Documentary, Drama, Family, Fantasy, History, Horror, Music, Mystery, Romance, Science Fiction, Thriller, Tv Movie, War, Western\n",
      "\n"
     ]
    },
    {
     "name": "stdin",
     "output_type": "stream",
     "text": [
      "Enter a genre:  Action\n"
     ]
    },
    {
     "name": "stdout",
     "output_type": "stream",
     "text": [
      "\n",
      "Top 10 Action Movies (Ranked by Weighted Rating):\n",
      "\n",
      "+---------------------------------------------------+-------+--------------+------------+\n",
      "|                       title                       | score | vote_average | vote_count |\n",
      "+---------------------------------------------------+-------+--------------+------------+\n",
      "|                  The Dark Knight                  | 8.48  |     8.5      |   33504    |\n",
      "|   The Lord of the Rings: The Return of the King   | 8.45  |     8.48     |   24763    |\n",
      "|                     Inception                     | 8.38  |     8.4      |   37134    |\n",
      "| The Lord of the Rings: The Fellowship of the Ring | 8.37  |     8.4      |   25682    |\n",
      "|       The Lord of the Rings: The Two Towers       | 8.37  |     8.4      |   22297    |\n",
      "|              The Empire Strikes Back              | 8.36  |     8.4      |   17221    |\n",
      "|         Spider-Man: Into the Spider-Verse         | 8.36  |     8.4      |   15946    |\n",
      "|                   Seven Samurai                   | 8.29  |     8.46     |    3812    |\n",
      "|              Léon: The Professional               | 8.26  |     8.3      |   15041    |\n",
      "|                      Oldboy                       | 8.23  |     8.3      |    8871    |\n",
      "+---------------------------------------------------+-------+--------------+------------+\n",
      "\n",
      "If you want to search for more Action movies, we can search by movie.\n"
     ]
    },
    {
     "name": "stdin",
     "output_type": "stream",
     "text": [
      "\n",
      "Enter a movie:  Oldboy\n",
      "\n",
      "How many recommendations would you like to see? (5-50):  10\n"
     ]
    },
    {
     "name": "stdout",
     "output_type": "stream",
     "text": [
      "Current cycle: 1\n",
      "\n",
      "Top 10 Action Movies Similar to Oldboy:\n",
      "\n",
      "+----------------------------+-------+--------------+------------+------------------+\n",
      "|           title            | score | vote_average | vote_count | similarity_score |\n",
      "+----------------------------+-------+--------------+------------+------------------+\n",
      "|      Brokedown Palace      | 6.22  |     6.4      |    388     |       0.27       |\n",
      "|           Chloe            | 6.09  |     6.11     |    1729    |       0.27       |\n",
      "|   Ghost in the Shell 2.0   | 6.83  |     7.4      |    417     |       0.27       |\n",
      "|        Jungle Fever        | 6.19  |     6.4      |    287     |       0.27       |\n",
      "|           Stone            | 5.49  |     5.3      |    689     |       0.27       |\n",
      "|       Lady Vengeance       | 7.28  |     7.5      |    1703    |       0.27       |\n",
      "|  What Happened to Monday   | 7.11  |     7.16     |    6118    |       0.26       |\n",
      "|   The Invisible Witness    | 6.53  |     7.01     |    330     |       0.26       |\n",
      "|       The Red Violin       | 6.83  |     7.4      |    418     |       0.26       |\n",
      "| Sympathy for Mr. Vengeance | 7.26  |     7.5      |    1478    |       0.26       |\n",
      "+----------------------------+-------+--------------+------------+------------------+\n"
     ]
    },
    {
     "name": "stdin",
     "output_type": "stream",
     "text": [
      "\n",
      "Would you like to make another search? (y/n):  y\n"
     ]
    },
    {
     "name": "stdout",
     "output_type": "stream",
     "text": [
      "\n",
      "==================================================\n",
      "Welcome to the Movie Recommendation System\n",
      "Please choose an option:\n",
      "1. Explore by genre (Branch 1)\n",
      "2. Search directly by movie title (Branch 2)\n",
      "3. Exit\n"
     ]
    },
    {
     "name": "stdin",
     "output_type": "stream",
     "text": [
      "Enter 1, 2, or 3:  2\n",
      "\n",
      "Enter a movie:  Oldboay\n",
      "\n",
      "How many recommendations would you like to see? (5-50):  10\n"
     ]
    },
    {
     "name": "stdout",
     "output_type": "stream",
     "text": [
      "Current cycle: 1\n"
     ]
    },
    {
     "name": "stdin",
     "output_type": "stream",
     "text": [
      "\n",
      "Title not found, please try again:  oldboy\n",
      "\n",
      "How many recommendations would you like to see? (5-50):  10\n"
     ]
    },
    {
     "name": "stdout",
     "output_type": "stream",
     "text": [
      "Current cycle: 2\n",
      "\n",
      "Top 10 Movies Similar to Oldboy:\n",
      "\n",
      "+-------------------------+-------+--------------+------------+------------------+\n",
      "|          title          | score | vote_average | vote_count | similarity_score |\n",
      "+-------------------------+-------+--------------+------------+------------------+\n",
      "|         Spartan         |  6.1  |     6.2      |    380     |       0.26       |\n",
      "|        The Realm        | 6.66  |     7.1      |    434     |       0.26       |\n",
      "|          10x10          | 5.47  |     5.22     |    562     |       0.26       |\n",
      "|        Max Payne        | 5.47  |     5.4      |    2088    |       0.26       |\n",
      "|      Game of Death      | 6.26  |     6.39     |    682     |       0.25       |\n",
      "|   The Devil's Double    | 6.46  |     6.71     |    561     |       0.25       |\n",
      "| The Roundup: No Way Out | 6.72  |     7.17     |    460     |       0.25       |\n",
      "|        Clockers         | 6.36  |     6.7      |    327     |       0.25       |\n",
      "|         Bunraku         | 5.93  |     5.9      |    321     |       0.25       |\n",
      "|    The International    | 6.19  |     6.24     |    1277    |       0.25       |\n",
      "+-------------------------+-------+--------------+------------+------------------+\n"
     ]
    },
    {
     "name": "stdin",
     "output_type": "stream",
     "text": [
      "\n",
      "Would you like to make another search? (y/n):  y\n"
     ]
    },
    {
     "name": "stdout",
     "output_type": "stream",
     "text": [
      "\n",
      "==================================================\n",
      "Welcome to the Movie Recommendation System\n",
      "Please choose an option:\n",
      "1. Explore by genre (Branch 1)\n",
      "2. Search directly by movie title (Branch 2)\n",
      "3. Exit\n"
     ]
    },
    {
     "name": "stdin",
     "output_type": "stream",
     "text": [
      "Enter 1, 2, or 3:  1\n"
     ]
    },
    {
     "name": "stdout",
     "output_type": "stream",
     "text": [
      "\n",
      "Available Genres:\n",
      "Action, Adventure, Animation, Comedy, Crime, Documentary, Drama, Family, Fantasy, History, Horror, Music, Mystery, Romance, Science Fiction, Thriller, Tv Movie, War, Western\n",
      "\n"
     ]
    },
    {
     "name": "stdin",
     "output_type": "stream",
     "text": [
      "Enter a genre:  action\n"
     ]
    },
    {
     "name": "stdout",
     "output_type": "stream",
     "text": [
      "\n",
      "Top 10 Action Movies (Ranked by Weighted Rating):\n",
      "\n",
      "+---------------------------------------------------+-------+--------------+------------+\n",
      "|                       title                       | score | vote_average | vote_count |\n",
      "+---------------------------------------------------+-------+--------------+------------+\n",
      "|                  The Dark Knight                  | 8.48  |     8.5      |   33504    |\n",
      "|   The Lord of the Rings: The Return of the King   | 8.45  |     8.48     |   24763    |\n",
      "|                     Inception                     | 8.38  |     8.4      |   37134    |\n",
      "| The Lord of the Rings: The Fellowship of the Ring | 8.37  |     8.4      |   25682    |\n",
      "|       The Lord of the Rings: The Two Towers       | 8.37  |     8.4      |   22297    |\n",
      "|              The Empire Strikes Back              | 8.36  |     8.4      |   17221    |\n",
      "|         Spider-Man: Into the Spider-Verse         | 8.36  |     8.4      |   15946    |\n",
      "|                   Seven Samurai                   | 8.29  |     8.46     |    3812    |\n",
      "|              Léon: The Professional               | 8.26  |     8.3      |   15041    |\n",
      "|                      Oldboy                       | 8.23  |     8.3      |    8871    |\n",
      "+---------------------------------------------------+-------+--------------+------------+\n",
      "\n",
      "If you want to search for more Action movies, we can search by movie.\n"
     ]
    },
    {
     "name": "stdin",
     "output_type": "stream",
     "text": [
      "\n",
      "Enter a movie:  oldboy\n",
      "\n",
      "How many recommendations would you like to see? (5-50):  10\n"
     ]
    },
    {
     "name": "stdout",
     "output_type": "stream",
     "text": [
      "Current cycle: 1\n",
      "\n",
      "Top 10 Action Movies Similar to Oldboy:\n",
      "\n",
      "+----------------------------+-------+--------------+------------+------------------+\n",
      "|           title            | score | vote_average | vote_count | similarity_score |\n",
      "+----------------------------+-------+--------------+------------+------------------+\n",
      "|      Brokedown Palace      | 6.22  |     6.4      |    388     |       0.27       |\n",
      "|           Chloe            | 6.09  |     6.11     |    1729    |       0.27       |\n",
      "|   Ghost in the Shell 2.0   | 6.83  |     7.4      |    417     |       0.27       |\n",
      "|        Jungle Fever        | 6.19  |     6.4      |    287     |       0.27       |\n",
      "|           Stone            | 5.49  |     5.3      |    689     |       0.27       |\n",
      "|       Lady Vengeance       | 7.28  |     7.5      |    1703    |       0.27       |\n",
      "|  What Happened to Monday   | 7.11  |     7.16     |    6118    |       0.26       |\n",
      "|   The Invisible Witness    | 6.53  |     7.01     |    330     |       0.26       |\n",
      "|       The Red Violin       | 6.83  |     7.4      |    418     |       0.26       |\n",
      "| Sympathy for Mr. Vengeance | 7.26  |     7.5      |    1478    |       0.26       |\n",
      "+----------------------------+-------+--------------+------------+------------------+\n"
     ]
    },
    {
     "name": "stdin",
     "output_type": "stream",
     "text": [
      "\n",
      "Would you like to make another search? (y/n):  y\n"
     ]
    },
    {
     "name": "stdout",
     "output_type": "stream",
     "text": [
      "\n",
      "==================================================\n",
      "Welcome to the Movie Recommendation System\n",
      "Please choose an option:\n",
      "1. Explore by genre (Branch 1)\n",
      "2. Search directly by movie title (Branch 2)\n",
      "3. Exit\n"
     ]
    },
    {
     "name": "stdin",
     "output_type": "stream",
     "text": [
      "Enter 1, 2, or 3:  2\n",
      "\n",
      "Enter a movie:  action\n",
      "\n",
      "How many recommendations would you like to see? (5-50):  10\n"
     ]
    },
    {
     "name": "stdout",
     "output_type": "stream",
     "text": [
      "Current cycle: 1\n",
      "\n",
      "Did you mean one of these?\n",
      "Extraction\n",
      "Extraction 2\n",
      "Fatal Attraction\n",
      "Attraction\n",
      "Last Action Hero\n"
     ]
    },
    {
     "name": "stdin",
     "output_type": "stream",
     "text": [
      "Please re-enter title:  ddd\n",
      "\n",
      "How many recommendations would you like to see? (5-50):  5\n"
     ]
    },
    {
     "name": "stdout",
     "output_type": "stream",
     "text": [
      "Current cycle: 2\n"
     ]
    },
    {
     "name": "stdin",
     "output_type": "stream",
     "text": [
      "\n",
      "Title not found, please try again:  oldboy\n",
      "\n",
      "How many recommendations would you like to see? (5-50):  10\n"
     ]
    },
    {
     "name": "stdout",
     "output_type": "stream",
     "text": [
      "Current cycle: 3\n",
      "\n",
      "Top 10 Movies Similar to Oldboy:\n",
      "\n",
      "+--------------------------------+-------+--------------+------------+------------------+\n",
      "|             title              | score | vote_average | vote_count | similarity_score |\n",
      "+--------------------------------+-------+--------------+------------+------------------+\n",
      "| Death Note: L Change the WorLd | 5.99  |     6.01     |    280     |       0.25       |\n",
      "|         Summer of Sam          |  6.3  |     6.5      |    466     |       0.25       |\n",
      "|         I Stand Alone          | 6.95  |     7.48     |    522     |       0.25       |\n",
      "|  Death Wish 4: The Crackdown   | 5.82  |     5.7      |    310     |       0.25       |\n",
      "|          The Paperboy          | 5.62  |     5.5      |    754     |       0.25       |\n",
      "|       The Ritual Killer        | 5.86  |     5.78     |    319     |       0.24       |\n",
      "|       The Unknown Woman        | 6.64  |     7.19     |    348     |       0.24       |\n",
      "|             Brazen             |  5.3  |     4.8      |    372     |       0.24       |\n",
      "|          The 6th Day           | 5.99  |     5.99     |    2051    |       0.24       |\n",
      "|     Emergency Declaration      | 6.84  |     7.5      |    371     |       0.24       |\n",
      "+--------------------------------+-------+--------------+------------+------------------+\n"
     ]
    },
    {
     "name": "stdin",
     "output_type": "stream",
     "text": [
      "\n",
      "Would you like to make another search? (y/n):  y\n"
     ]
    },
    {
     "name": "stdout",
     "output_type": "stream",
     "text": [
      "\n",
      "==================================================\n",
      "Welcome to the Movie Recommendation System\n",
      "Please choose an option:\n",
      "1. Explore by genre (Branch 1)\n",
      "2. Search directly by movie title (Branch 2)\n",
      "3. Exit\n"
     ]
    },
    {
     "name": "stdin",
     "output_type": "stream",
     "text": [
      "Enter 1, 2, or 3:  1\n"
     ]
    },
    {
     "name": "stdout",
     "output_type": "stream",
     "text": [
      "\n",
      "Available Genres:\n",
      "Action, Adventure, Animation, Comedy, Crime, Documentary, Drama, Family, Fantasy, History, Horror, Music, Mystery, Romance, Science Fiction, Thriller, Tv Movie, War, Western\n",
      "\n"
     ]
    },
    {
     "name": "stdin",
     "output_type": "stream",
     "text": [
      "Enter a genre:  action\n"
     ]
    },
    {
     "name": "stdout",
     "output_type": "stream",
     "text": [
      "\n",
      "Top 10 Action Movies (Ranked by Weighted Rating):\n",
      "\n",
      "+---------------------------------------------------+-------+--------------+------------+\n",
      "|                       title                       | score | vote_average | vote_count |\n",
      "+---------------------------------------------------+-------+--------------+------------+\n",
      "|                  The Dark Knight                  | 8.48  |     8.5      |   33504    |\n",
      "|   The Lord of the Rings: The Return of the King   | 8.45  |     8.48     |   24763    |\n",
      "|                     Inception                     | 8.38  |     8.4      |   37134    |\n",
      "| The Lord of the Rings: The Fellowship of the Ring | 8.37  |     8.4      |   25682    |\n",
      "|       The Lord of the Rings: The Two Towers       | 8.37  |     8.4      |   22297    |\n",
      "|              The Empire Strikes Back              | 8.36  |     8.4      |   17221    |\n",
      "|         Spider-Man: Into the Spider-Verse         | 8.36  |     8.4      |   15946    |\n",
      "|                   Seven Samurai                   | 8.29  |     8.46     |    3812    |\n",
      "|              Léon: The Professional               | 8.26  |     8.3      |   15041    |\n",
      "|                      Oldboy                       | 8.23  |     8.3      |    8871    |\n",
      "+---------------------------------------------------+-------+--------------+------------+\n",
      "\n",
      "If you want to search for more Action movies, we can search by movie.\n"
     ]
    },
    {
     "name": "stdin",
     "output_type": "stream",
     "text": [
      "\n",
      "Enter a movie:  oldboy\n",
      "\n",
      "How many recommendations would you like to see? (5-50):  5\n"
     ]
    },
    {
     "name": "stdout",
     "output_type": "stream",
     "text": [
      "Current cycle: 1\n",
      "\n",
      "Top 5 Action Movies Similar to Oldboy:\n",
      "\n",
      "+------------------------+-------+--------------+------------+------------------+\n",
      "|         title          | score | vote_average | vote_count | similarity_score |\n",
      "+------------------------+-------+--------------+------------+------------------+\n",
      "|    Brokedown Palace    | 6.22  |     6.4      |    388     |       0.27       |\n",
      "|         Chloe          | 6.09  |     6.11     |    1729    |       0.27       |\n",
      "| Ghost in the Shell 2.0 | 6.83  |     7.4      |    417     |       0.27       |\n",
      "|      Jungle Fever      | 6.19  |     6.4      |    287     |       0.27       |\n",
      "|         Stone          | 5.49  |     5.3      |    689     |       0.27       |\n",
      "+------------------------+-------+--------------+------------+------------------+\n"
     ]
    },
    {
     "name": "stdin",
     "output_type": "stream",
     "text": [
      "\n",
      "Would you like to make another search? (y/n):  y\n"
     ]
    },
    {
     "name": "stdout",
     "output_type": "stream",
     "text": [
      "\n",
      "==================================================\n",
      "Welcome to the Movie Recommendation System\n",
      "Please choose an option:\n",
      "1. Explore by genre (Branch 1)\n",
      "2. Search directly by movie title (Branch 2)\n",
      "3. Exit\n"
     ]
    },
    {
     "name": "stdin",
     "output_type": "stream",
     "text": [
      "Enter 1, 2, or 3:  2\n",
      "\n",
      "Enter a movie:  oldboy\n",
      "\n",
      "How many recommendations would you like to see? (5-50):  10\n"
     ]
    },
    {
     "name": "stdout",
     "output_type": "stream",
     "text": [
      "Current cycle: 1\n",
      "\n",
      "Top 10 Movies Similar to Oldboy:\n",
      "\n",
      "+----------------------------+-------+--------------+------------+------------------+\n",
      "|           title            | score | vote_average | vote_count | similarity_score |\n",
      "+----------------------------+-------+--------------+------------+------------------+\n",
      "|      Brokedown Palace      | 6.22  |     6.4      |    388     |       0.27       |\n",
      "|           Chloe            | 6.09  |     6.11     |    1729    |       0.27       |\n",
      "|   Ghost in the Shell 2.0   | 6.83  |     7.4      |    417     |       0.27       |\n",
      "|        Jungle Fever        | 6.19  |     6.4      |    287     |       0.27       |\n",
      "|           Stone            | 5.49  |     5.3      |    689     |       0.27       |\n",
      "|       Lady Vengeance       | 7.28  |     7.5      |    1703    |       0.27       |\n",
      "|  What Happened to Monday   | 7.11  |     7.16     |    6118    |       0.26       |\n",
      "|   The Invisible Witness    | 6.53  |     7.01     |    330     |       0.26       |\n",
      "|       The Red Violin       | 6.83  |     7.4      |    418     |       0.26       |\n",
      "| Sympathy for Mr. Vengeance | 7.26  |     7.5      |    1478    |       0.26       |\n",
      "+----------------------------+-------+--------------+------------+------------------+\n"
     ]
    },
    {
     "name": "stdin",
     "output_type": "stream",
     "text": [
      "\n",
      "Would you like to make another search? (y/n):  y\n"
     ]
    },
    {
     "name": "stdout",
     "output_type": "stream",
     "text": [
      "\n",
      "==================================================\n",
      "Welcome to the Movie Recommendation System\n",
      "Please choose an option:\n",
      "1. Explore by genre (Branch 1)\n",
      "2. Search directly by movie title (Branch 2)\n",
      "3. Exit\n"
     ]
    }
   ],
   "source": [
    "%run main.py"
   ]
  },
  {
   "cell_type": "code",
   "execution_count": null,
   "id": "a6900a10-06cf-487c-a104-683aba2f7f46",
   "metadata": {},
   "outputs": [],
   "source": []
  }
 ],
 "metadata": {
  "kernelspec": {
   "display_name": "Python 3 (ipykernel)",
   "language": "python",
   "name": "python3"
  },
  "language_info": {
   "codemirror_mode": {
    "name": "ipython",
    "version": 3
   },
   "file_extension": ".py",
   "mimetype": "text/x-python",
   "name": "python",
   "nbconvert_exporter": "python",
   "pygments_lexer": "ipython3",
   "version": "3.12.7"
  }
 },
 "nbformat": 4,
 "nbformat_minor": 5
}
