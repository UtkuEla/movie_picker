{
 "cells": [
  {
   "cell_type": "code",
   "execution_count": null,
   "id": "3fe3040e-5f8a-40ba-bdae-37b564bd579f",
   "metadata": {},
   "outputs": [
    {
     "name": "stdout",
     "output_type": "stream",
     "text": [
      "\n",
      "==================================================\n",
      "Welcome to the Movie Recommendation System\n",
      "Please choose an option:\n",
      "1. Explore by genre (Branch 1)\n",
      "2. Search directly by movie title (Branch 2)\n",
      "3. Exit\n"
     ]
    },
    {
     "name": "stdin",
     "output_type": "stream",
     "text": [
      "Enter 1, 2, or 3:  1\n"
     ]
    },
    {
     "name": "stdout",
     "output_type": "stream",
     "text": [
      "\n",
      "Available Genres:\n",
      "Action, Adventure, Animation, Comedy, Crime, Documentary, Drama, Family, Fantasy, History, Horror, Music, Mystery, Romance, Science Fiction, Thriller, Tv Movie, War, Western\n",
      "\n"
     ]
    },
    {
     "name": "stdin",
     "output_type": "stream",
     "text": [
      "Enter a genre:  Action\n"
     ]
    },
    {
     "name": "stdout",
     "output_type": "stream",
     "text": [
      "\n",
      "Top 10 Action Movies (Ranked by Weighted Rating):\n",
      "\n",
      "+---------------------------------------------------+-------+--------------+------------+\n",
      "|                       title                       | score | vote_average | vote_count |\n",
      "+---------------------------------------------------+-------+--------------+------------+\n",
      "|                  The Dark Knight                  | 8.48  |     8.5      |   33504    |\n",
      "|   The Lord of the Rings: The Return of the King   | 8.45  |     8.48     |   24763    |\n",
      "|                     Inception                     | 8.38  |     8.4      |   37134    |\n",
      "| The Lord of the Rings: The Fellowship of the Ring | 8.37  |     8.4      |   25682    |\n",
      "|       The Lord of the Rings: The Two Towers       | 8.37  |     8.4      |   22297    |\n",
      "|              The Empire Strikes Back              | 8.36  |     8.4      |   17221    |\n",
      "|         Spider-Man: Into the Spider-Verse         | 8.36  |     8.4      |   15946    |\n",
      "|                   Seven Samurai                   | 8.29  |     8.46     |    3812    |\n",
      "|              Léon: The Professional               | 8.26  |     8.3      |   15041    |\n",
      "|                      Oldboy                       | 8.23  |     8.3      |    8871    |\n",
      "+---------------------------------------------------+-------+--------------+------------+\n",
      "\n",
      "If you want to search for more Action movies, we can search by movie.\n"
     ]
    },
    {
     "name": "stdin",
     "output_type": "stream",
     "text": [
      "\n",
      "Enter a movie:  Seven Samurai\n",
      "\n",
      "How many recommendations would you like to see? (5-50):  10\n"
     ]
    },
    {
     "name": "stdout",
     "output_type": "stream",
     "text": [
      "Current cycle: 1\n",
      "\n",
      "Top 10 Action Movies Similar to Seven Samurai:\n",
      "\n",
      "+----------------------------------------+-------+--------------+------------+------------------+\n",
      "|                 title                  | score | vote_average | vote_count | similarity_score |\n",
      "+----------------------------------------+-------+--------------+------------+------------------+\n",
      "|          The Twilight Samurai          | 6.94  |     7.8      |    318     |       0.29       |\n",
      "|                Rashomon                | 7.84  |     8.07     |    2272    |       0.28       |\n",
      "|                 Ugetsu                 | 7.34  |     8.0      |    583     |       0.27       |\n",
      "|                47 Ronin                | 6.18  |     6.2      |    3866    |       0.27       |\n",
      "|               Stray Dog                | 6.77  |     7.5      |    311     |       0.27       |\n",
      "| Rurouni Kenshin Part II: Kyoto Inferno | 7.08  |     7.6      |    589     |       0.26       |\n",
      "|       Rurouni Kenshin: The Final       | 7.08  |     7.72     |    490     |       0.26       |\n",
      "|                 Dreams                 | 7.06  |     7.7      |    480     |       0.25       |\n",
      "|     Rurouni Kenshin: The Beginning     | 7.04  |     7.68     |    467     |       0.25       |\n",
      "|                Headshot                | 6.23  |     6.4      |    448     |       0.25       |\n",
      "+----------------------------------------+-------+--------------+------------+------------------+\n"
     ]
    },
    {
     "name": "stdin",
     "output_type": "stream",
     "text": [
      "\n",
      "Would you like to make another search? (y/n):  y\n"
     ]
    },
    {
     "name": "stdout",
     "output_type": "stream",
     "text": [
      "\n",
      "==================================================\n",
      "Welcome to the Movie Recommendation System\n",
      "Please choose an option:\n",
      "1. Explore by genre (Branch 1)\n",
      "2. Search directly by movie title (Branch 2)\n",
      "3. Exit\n"
     ]
    },
    {
     "name": "stdin",
     "output_type": "stream",
     "text": [
      "Enter 1, 2, or 3:  1\n"
     ]
    },
    {
     "name": "stdout",
     "output_type": "stream",
     "text": [
      "\n",
      "Available Genres:\n",
      "Action, Adventure, Animation, Comedy, Crime, Documentary, Drama, Family, Fantasy, History, Horror, Music, Mystery, Romance, Science Fiction, Thriller, Tv Movie, War, Western\n",
      "\n"
     ]
    },
    {
     "name": "stdin",
     "output_type": "stream",
     "text": [
      "Enter a genre:  Action\n"
     ]
    },
    {
     "name": "stdout",
     "output_type": "stream",
     "text": [
      "\n",
      "Top 10 Action Movies (Ranked by Weighted Rating):\n",
      "\n",
      "+---------------------------------------------------+-------+--------------+------------+\n",
      "|                       title                       | score | vote_average | vote_count |\n",
      "+---------------------------------------------------+-------+--------------+------------+\n",
      "|                  The Dark Knight                  | 8.48  |     8.5      |   33504    |\n",
      "|   The Lord of the Rings: The Return of the King   | 8.45  |     8.48     |   24763    |\n",
      "|                     Inception                     | 8.38  |     8.4      |   37134    |\n",
      "| The Lord of the Rings: The Fellowship of the Ring | 8.37  |     8.4      |   25682    |\n",
      "|       The Lord of the Rings: The Two Towers       | 8.37  |     8.4      |   22297    |\n",
      "|              The Empire Strikes Back              | 8.36  |     8.4      |   17221    |\n",
      "|         Spider-Man: Into the Spider-Verse         | 8.36  |     8.4      |   15946    |\n",
      "|                   Seven Samurai                   | 8.29  |     8.46     |    3812    |\n",
      "|              Léon: The Professional               | 8.26  |     8.3      |   15041    |\n",
      "|                      Oldboy                       | 8.23  |     8.3      |    8871    |\n",
      "+---------------------------------------------------+-------+--------------+------------+\n",
      "\n",
      "If you want to search for more Action movies, we can search by movie.\n"
     ]
    },
    {
     "name": "stdin",
     "output_type": "stream",
     "text": [
      "\n",
      "Enter a movie:  Seven Samurai\n",
      "\n",
      "How many recommendations would you like to see? (5-50):  10\n"
     ]
    },
    {
     "name": "stdout",
     "output_type": "stream",
     "text": [
      "Current cycle: 2\n",
      "\n",
      "Top 10 Action Movies Similar to Seven Samurai:\n",
      "\n",
      "+----------------------------+-------+--------------+------------+------------------+\n",
      "|           title            | score | vote_average | vote_count | similarity_score |\n",
      "+----------------------------+-------+--------------+------------+------------------+\n",
      "| Once Upon a Time in China  | 6.68  |     7.15     |    423     |       0.23       |\n",
      "|           Ikiru            | 7.85  |     8.3      |    1176    |       0.23       |\n",
      "|    Kickboxer: Vengeance    | 5.39  |     5.0      |    408     |       0.23       |\n",
      "|  Ip Man: The Final Fight   | 6.04  |     6.1      |    389     |       0.22       |\n",
      "|          Bunraku           | 5.93  |     5.9      |    321     |       0.22       |\n",
      "|        High and Low        |  7.8  |     8.34     |    950     |       0.22       |\n",
      "|          Zatoichi          |  6.9  |     7.2      |    873     |       0.21       |\n",
      "| The Legend Is Born: Ip Man | 6.56  |     6.8      |    671     |       0.21       |\n",
      "|       Lady Snowblood       | 6.84  |     7.5      |    371     |       0.21       |\n",
      "|      The Last Samurai      | 7.53  |     7.59     |    6965    |       0.21       |\n",
      "+----------------------------+-------+--------------+------------+------------------+\n"
     ]
    },
    {
     "name": "stdin",
     "output_type": "stream",
     "text": [
      "\n",
      "Would you like to make another search? (y/n):  y\n"
     ]
    },
    {
     "name": "stdout",
     "output_type": "stream",
     "text": [
      "\n",
      "==================================================\n",
      "Welcome to the Movie Recommendation System\n",
      "Please choose an option:\n",
      "1. Explore by genre (Branch 1)\n",
      "2. Search directly by movie title (Branch 2)\n",
      "3. Exit\n"
     ]
    },
    {
     "name": "stdin",
     "output_type": "stream",
     "text": [
      "Enter 1, 2, or 3:  1\n"
     ]
    },
    {
     "name": "stdout",
     "output_type": "stream",
     "text": [
      "\n",
      "Available Genres:\n",
      "Action, Adventure, Animation, Comedy, Crime, Documentary, Drama, Family, Fantasy, History, Horror, Music, Mystery, Romance, Science Fiction, Thriller, Tv Movie, War, Western\n",
      "\n"
     ]
    },
    {
     "name": "stdin",
     "output_type": "stream",
     "text": [
      "Enter a genre:  Action\n"
     ]
    },
    {
     "name": "stdout",
     "output_type": "stream",
     "text": [
      "\n",
      "Top 10 Action Movies (Ranked by Weighted Rating):\n",
      "\n",
      "+---------------------------------------------------+-------+--------------+------------+\n",
      "|                       title                       | score | vote_average | vote_count |\n",
      "+---------------------------------------------------+-------+--------------+------------+\n",
      "|                  The Dark Knight                  | 8.48  |     8.5      |   33504    |\n",
      "|   The Lord of the Rings: The Return of the King   | 8.45  |     8.48     |   24763    |\n",
      "|                     Inception                     | 8.38  |     8.4      |   37134    |\n",
      "| The Lord of the Rings: The Fellowship of the Ring | 8.37  |     8.4      |   25682    |\n",
      "|       The Lord of the Rings: The Two Towers       | 8.37  |     8.4      |   22297    |\n",
      "|              The Empire Strikes Back              | 8.36  |     8.4      |   17221    |\n",
      "|         Spider-Man: Into the Spider-Verse         | 8.36  |     8.4      |   15946    |\n",
      "|                   Seven Samurai                   | 8.29  |     8.46     |    3812    |\n",
      "|              Léon: The Professional               | 8.26  |     8.3      |   15041    |\n",
      "|                      Oldboy                       | 8.23  |     8.3      |    8871    |\n",
      "+---------------------------------------------------+-------+--------------+------------+\n",
      "\n",
      "If you want to search for more Action movies, we can search by movie.\n"
     ]
    },
    {
     "name": "stdin",
     "output_type": "stream",
     "text": [
      "\n",
      "Enter a movie:  Seven Samurai\n",
      "\n",
      "How many recommendations would you like to see? (5-50):  10\n"
     ]
    },
    {
     "name": "stdout",
     "output_type": "stream",
     "text": [
      "Current cycle: 3\n",
      "\n",
      "Top 10 Action Movies Similar to Seven Samurai:\n",
      "\n",
      "+---------------------------------+-------+--------------+------------+------------------+\n",
      "|              title              | score | vote_average | vote_count | similarity_score |\n",
      "+---------------------------------+-------+--------------+------------+------------------+\n",
      "| Never Back Down 2: The Beatdown | 6.34  |     6.5      |    649     |       0.21       |\n",
      "|           Tokyo Ghoul           |  6.6  |     7.1      |    355     |       0.21       |\n",
      "|             Onibaba             | 7.02  |     7.7      |    427     |       0.21       |\n",
      "|           Bloodsport            | 6.89  |     7.02     |    1906    |       0.21       |\n",
      "|   Why Don't You Play in Hell?   |  6.7  |     7.4      |    294     |       0.2        |\n",
      "|        Best of the Best         | 6.19  |     6.4      |    307     |       0.2        |\n",
      "|           Sand Castle           | 6.36  |     6.5      |    806     |       0.2        |\n",
      "|      Blade of the Immortal      | 6.46  |     6.7      |    567     |       0.2        |\n",
      "|          Empire State           | 5.55  |     5.39     |    693     |       0.2        |\n",
      "|  Never Back Down: No Surrender  | 6.62  |     7.0      |    473     |       0.2        |\n",
      "+---------------------------------+-------+--------------+------------+------------------+\n"
     ]
    },
    {
     "name": "stdin",
     "output_type": "stream",
     "text": [
      "\n",
      "Would you like to make another search? (y/n):  y\n"
     ]
    },
    {
     "name": "stdout",
     "output_type": "stream",
     "text": [
      "\n",
      "==================================================\n",
      "Welcome to the Movie Recommendation System\n",
      "Please choose an option:\n",
      "1. Explore by genre (Branch 1)\n",
      "2. Search directly by movie title (Branch 2)\n",
      "3. Exit\n"
     ]
    },
    {
     "name": "stdin",
     "output_type": "stream",
     "text": [
      "Enter 1, 2, or 3:  2\n",
      "\n",
      "Enter a movie:  Seven Samurai\n",
      "\n",
      "How many recommendations would you like to see? (5-50):  10\n"
     ]
    },
    {
     "name": "stdout",
     "output_type": "stream",
     "text": [
      "Current cycle: 1\n",
      "\n",
      "Top 10 Movies Similar to Seven Samurai:\n",
      "\n",
      "+----------------------------------------+-------+--------------+------------+------------------+\n",
      "|                 title                  | score | vote_average | vote_count | similarity_score |\n",
      "+----------------------------------------+-------+--------------+------------+------------------+\n",
      "|          The Twilight Samurai          | 6.94  |     7.8      |    318     |       0.29       |\n",
      "|                Rashomon                | 7.84  |     8.07     |    2272    |       0.28       |\n",
      "|                 Ugetsu                 | 7.34  |     8.0      |    583     |       0.27       |\n",
      "|                47 Ronin                | 6.18  |     6.2      |    3866    |       0.27       |\n",
      "|               Stray Dog                | 6.77  |     7.5      |    311     |       0.27       |\n",
      "| Rurouni Kenshin Part II: Kyoto Inferno | 7.08  |     7.6      |    589     |       0.26       |\n",
      "|       Rurouni Kenshin: The Final       | 7.08  |     7.72     |    490     |       0.26       |\n",
      "|                 Dreams                 | 7.06  |     7.7      |    480     |       0.25       |\n",
      "|     Rurouni Kenshin: The Beginning     | 7.04  |     7.68     |    467     |       0.25       |\n",
      "|                Headshot                | 6.23  |     6.4      |    448     |       0.25       |\n",
      "+----------------------------------------+-------+--------------+------------+------------------+\n"
     ]
    },
    {
     "name": "stdin",
     "output_type": "stream",
     "text": [
      "\n",
      "Would you like to make another search? (y/n):  y\n"
     ]
    },
    {
     "name": "stdout",
     "output_type": "stream",
     "text": [
      "\n",
      "==================================================\n",
      "Welcome to the Movie Recommendation System\n",
      "Please choose an option:\n",
      "1. Explore by genre (Branch 1)\n",
      "2. Search directly by movie title (Branch 2)\n",
      "3. Exit\n"
     ]
    },
    {
     "name": "stdin",
     "output_type": "stream",
     "text": [
      "Enter 1, 2, or 3:  2\n",
      "\n",
      "Enter a movie:  Seven Samurai\n",
      "\n",
      "How many recommendations would you like to see? (5-50):  10\n"
     ]
    },
    {
     "name": "stdout",
     "output_type": "stream",
     "text": [
      "Current cycle: 2\n",
      "\n",
      "Top 10 Movies Similar to Seven Samurai:\n",
      "\n",
      "+----------------------------+-------+--------------+------------+------------------+\n",
      "|           title            | score | vote_average | vote_count | similarity_score |\n",
      "+----------------------------+-------+--------------+------------+------------------+\n",
      "| Once Upon a Time in China  | 6.68  |     7.15     |    423     |       0.23       |\n",
      "|           Ikiru            | 7.85  |     8.3      |    1176    |       0.23       |\n",
      "|    Kickboxer: Vengeance    | 5.39  |     5.0      |    408     |       0.23       |\n",
      "|  Ip Man: The Final Fight   | 6.04  |     6.1      |    389     |       0.22       |\n",
      "|          Bunraku           | 5.93  |     5.9      |    321     |       0.22       |\n",
      "|        High and Low        |  7.8  |     8.34     |    950     |       0.22       |\n",
      "|          Zatoichi          |  6.9  |     7.2      |    873     |       0.21       |\n",
      "| The Legend Is Born: Ip Man | 6.56  |     6.8      |    671     |       0.21       |\n",
      "|       Lady Snowblood       | 6.84  |     7.5      |    371     |       0.21       |\n",
      "|      The Last Samurai      | 7.53  |     7.59     |    6965    |       0.21       |\n",
      "+----------------------------+-------+--------------+------------+------------------+\n"
     ]
    }
   ],
   "source": [
    "%run main.py"
   ]
  },
  {
   "cell_type": "code",
   "execution_count": null,
   "id": "a6900a10-06cf-487c-a104-683aba2f7f46",
   "metadata": {},
   "outputs": [],
   "source": []
  }
 ],
 "metadata": {
  "kernelspec": {
   "display_name": "Python 3 (ipykernel)",
   "language": "python",
   "name": "python3"
  },
  "language_info": {
   "codemirror_mode": {
    "name": "ipython",
    "version": 3
   },
   "file_extension": ".py",
   "mimetype": "text/x-python",
   "name": "python",
   "nbconvert_exporter": "python",
   "pygments_lexer": "ipython3",
   "version": "3.12.7"
  }
 },
 "nbformat": 4,
 "nbformat_minor": 5
}
